{
 "cells": [
  {
   "cell_type": "code",
   "execution_count": 1,
   "metadata": {},
   "outputs": [],
   "source": [
    "import numpy as np\n",
    "import pandas as pd\n",
    "import seaborn as sns\n",
    "from sklearn import preprocessing\n",
    "\n",
    "from sklearn.preprocessing import StandardScaler\n",
    "\n",
    "from sklearn.metrics import mean_squared_error\n",
    "\n",
    "from sklearn import linear_model\n",
    "\n",
    "import matplotlib.pyplot as plt\n",
    "%matplotlib inline\n",
    "\n",
    "import os"
   ]
  },
  {
   "cell_type": "code",
   "execution_count": 2,
   "metadata": {},
   "outputs": [],
   "source": [
    "from sklearn.linear_model import LinearRegression\n",
    "import statsmodels.formula.api as smf\n",
    "from sklearn.model_selection import train_test_split\n",
    "from sklearn.metrics import mean_squared_error, r2_score"
   ]
  },
  {
   "cell_type": "code",
   "execution_count": 404,
   "metadata": {},
   "outputs": [
    {
     "name": "stderr",
     "output_type": "stream",
     "text": [
      "C:\\Users\\mahesh\\anaconda3\\lib\\site-packages\\IPython\\core\\interactiveshell.py:3441: DtypeWarning: Columns (6) have mixed types.Specify dtype option on import or set low_memory=False.\n",
      "  exec(code_obj, self.user_global_ns, self.user_ns)\n"
     ]
    }
   ],
   "source": [
    "# Importing dataset\n",
    "df=pd.read_csv('C:/Users/mahesh/footprint-nfa-2019-edition/footprint-nfa-2019-edition/NFA 2019 public_data.csv')"
   ]
  },
  {
   "cell_type": "code",
   "execution_count": 405,
   "metadata": {},
   "outputs": [
    {
     "data": {
      "text/html": [
       "<div>\n",
       "<style scoped>\n",
       "    .dataframe tbody tr th:only-of-type {\n",
       "        vertical-align: middle;\n",
       "    }\n",
       "\n",
       "    .dataframe tbody tr th {\n",
       "        vertical-align: top;\n",
       "    }\n",
       "\n",
       "    .dataframe thead th {\n",
       "        text-align: right;\n",
       "    }\n",
       "</style>\n",
       "<table border=\"1\" class=\"dataframe\">\n",
       "  <thead>\n",
       "    <tr style=\"text-align: right;\">\n",
       "      <th></th>\n",
       "      <th>country</th>\n",
       "      <th>year</th>\n",
       "      <th>country_code</th>\n",
       "      <th>record</th>\n",
       "      <th>crop_land</th>\n",
       "      <th>grazing_land</th>\n",
       "      <th>forest_land</th>\n",
       "      <th>fishing_ground</th>\n",
       "      <th>built_up_land</th>\n",
       "      <th>carbon</th>\n",
       "      <th>total</th>\n",
       "      <th>QScore</th>\n",
       "    </tr>\n",
       "  </thead>\n",
       "  <tbody>\n",
       "    <tr>\n",
       "      <th>0</th>\n",
       "      <td>Armenia</td>\n",
       "      <td>1992</td>\n",
       "      <td>1</td>\n",
       "      <td>AreaPerCap</td>\n",
       "      <td>1.402924e-01</td>\n",
       "      <td>1.995463e-01</td>\n",
       "      <td>0.097188051</td>\n",
       "      <td>3.688847e-02</td>\n",
       "      <td>2.931995e-02</td>\n",
       "      <td>0.000000e+00</td>\n",
       "      <td>5.032351e-01</td>\n",
       "      <td>3A</td>\n",
       "    </tr>\n",
       "    <tr>\n",
       "      <th>1</th>\n",
       "      <td>Armenia</td>\n",
       "      <td>1992</td>\n",
       "      <td>1</td>\n",
       "      <td>AreaTotHA</td>\n",
       "      <td>4.830000e+05</td>\n",
       "      <td>6.870000e+05</td>\n",
       "      <td>334600</td>\n",
       "      <td>1.270000e+05</td>\n",
       "      <td>1.009430e+05</td>\n",
       "      <td>0.000000e+00</td>\n",
       "      <td>1.732543e+06</td>\n",
       "      <td>3A</td>\n",
       "    </tr>\n",
       "    <tr>\n",
       "      <th>2</th>\n",
       "      <td>Armenia</td>\n",
       "      <td>1992</td>\n",
       "      <td>1</td>\n",
       "      <td>BiocapPerCap</td>\n",
       "      <td>1.598044e-01</td>\n",
       "      <td>1.352610e-01</td>\n",
       "      <td>0.084003213</td>\n",
       "      <td>1.374213e-02</td>\n",
       "      <td>3.339780e-02</td>\n",
       "      <td>0.000000e+00</td>\n",
       "      <td>4.262086e-01</td>\n",
       "      <td>3A</td>\n",
       "    </tr>\n",
       "    <tr>\n",
       "      <th>3</th>\n",
       "      <td>Armenia</td>\n",
       "      <td>1992</td>\n",
       "      <td>1</td>\n",
       "      <td>BiocapTotGHA</td>\n",
       "      <td>5.501762e+05</td>\n",
       "      <td>4.656780e+05</td>\n",
       "      <td>289207.1078</td>\n",
       "      <td>4.731155e+04</td>\n",
       "      <td>1.149823e+05</td>\n",
       "      <td>0.000000e+00</td>\n",
       "      <td>1.467355e+06</td>\n",
       "      <td>3A</td>\n",
       "    </tr>\n",
       "    <tr>\n",
       "      <th>4</th>\n",
       "      <td>Armenia</td>\n",
       "      <td>1992</td>\n",
       "      <td>1</td>\n",
       "      <td>EFConsPerCap</td>\n",
       "      <td>3.875102e-01</td>\n",
       "      <td>1.894622e-01</td>\n",
       "      <td>1.26E-06</td>\n",
       "      <td>4.164833e-03</td>\n",
       "      <td>3.339780e-02</td>\n",
       "      <td>1.114093e+00</td>\n",
       "      <td>1.728629e+00</td>\n",
       "      <td>3A</td>\n",
       "    </tr>\n",
       "    <tr>\n",
       "      <th>...</th>\n",
       "      <td>...</td>\n",
       "      <td>...</td>\n",
       "      <td>...</td>\n",
       "      <td>...</td>\n",
       "      <td>...</td>\n",
       "      <td>...</td>\n",
       "      <td>...</td>\n",
       "      <td>...</td>\n",
       "      <td>...</td>\n",
       "      <td>...</td>\n",
       "      <td>...</td>\n",
       "      <td>...</td>\n",
       "    </tr>\n",
       "    <tr>\n",
       "      <th>72181</th>\n",
       "      <td>World</td>\n",
       "      <td>2016</td>\n",
       "      <td>5001</td>\n",
       "      <td>BiocapTotGHA</td>\n",
       "      <td>3.984702e+09</td>\n",
       "      <td>1.504757e+09</td>\n",
       "      <td>5111762779.0</td>\n",
       "      <td>1.095445e+09</td>\n",
       "      <td>4.726163e+08</td>\n",
       "      <td>0.000000e+00</td>\n",
       "      <td>1.216928e+10</td>\n",
       "      <td>3A</td>\n",
       "    </tr>\n",
       "    <tr>\n",
       "      <th>72182</th>\n",
       "      <td>World</td>\n",
       "      <td>2016</td>\n",
       "      <td>5001</td>\n",
       "      <td>EFConsPerCap</td>\n",
       "      <td>5.336445e-01</td>\n",
       "      <td>1.402092e-01</td>\n",
       "      <td>0.273495</td>\n",
       "      <td>8.974253e-02</td>\n",
       "      <td>6.329435e-02</td>\n",
       "      <td>1.646235e+00</td>\n",
       "      <td>2.746619e+00</td>\n",
       "      <td>3A</td>\n",
       "    </tr>\n",
       "    <tr>\n",
       "      <th>72183</th>\n",
       "      <td>World</td>\n",
       "      <td>2016</td>\n",
       "      <td>5001</td>\n",
       "      <td>EFConsTotGHA</td>\n",
       "      <td>3.984702e+09</td>\n",
       "      <td>1.046937e+09</td>\n",
       "      <td>2042179333.0</td>\n",
       "      <td>6.701039e+08</td>\n",
       "      <td>4.726163e+08</td>\n",
       "      <td>1.229237e+10</td>\n",
       "      <td>2.050891e+10</td>\n",
       "      <td>3A</td>\n",
       "    </tr>\n",
       "    <tr>\n",
       "      <th>72184</th>\n",
       "      <td>World</td>\n",
       "      <td>2016</td>\n",
       "      <td>5001</td>\n",
       "      <td>EFProdPerCap</td>\n",
       "      <td>5.336445e-01</td>\n",
       "      <td>1.402092e-01</td>\n",
       "      <td>0.273495</td>\n",
       "      <td>8.974253e-02</td>\n",
       "      <td>6.329435e-02</td>\n",
       "      <td>1.646235e+00</td>\n",
       "      <td>2.746619e+00</td>\n",
       "      <td>3A</td>\n",
       "    </tr>\n",
       "    <tr>\n",
       "      <th>72185</th>\n",
       "      <td>World</td>\n",
       "      <td>2016</td>\n",
       "      <td>5001</td>\n",
       "      <td>EFProdTotGHA</td>\n",
       "      <td>3.984702e+09</td>\n",
       "      <td>1.046937e+09</td>\n",
       "      <td>2042179333.0</td>\n",
       "      <td>6.701039e+08</td>\n",
       "      <td>4.726163e+08</td>\n",
       "      <td>1.229237e+10</td>\n",
       "      <td>2.050891e+10</td>\n",
       "      <td>3A</td>\n",
       "    </tr>\n",
       "  </tbody>\n",
       "</table>\n",
       "<p>72186 rows × 12 columns</p>\n",
       "</div>"
      ],
      "text/plain": [
       "       country  year  country_code        record     crop_land  grazing_land  \\\n",
       "0      Armenia  1992             1    AreaPerCap  1.402924e-01  1.995463e-01   \n",
       "1      Armenia  1992             1     AreaTotHA  4.830000e+05  6.870000e+05   \n",
       "2      Armenia  1992             1  BiocapPerCap  1.598044e-01  1.352610e-01   \n",
       "3      Armenia  1992             1  BiocapTotGHA  5.501762e+05  4.656780e+05   \n",
       "4      Armenia  1992             1  EFConsPerCap  3.875102e-01  1.894622e-01   \n",
       "...        ...   ...           ...           ...           ...           ...   \n",
       "72181    World  2016          5001  BiocapTotGHA  3.984702e+09  1.504757e+09   \n",
       "72182    World  2016          5001  EFConsPerCap  5.336445e-01  1.402092e-01   \n",
       "72183    World  2016          5001  EFConsTotGHA  3.984702e+09  1.046937e+09   \n",
       "72184    World  2016          5001  EFProdPerCap  5.336445e-01  1.402092e-01   \n",
       "72185    World  2016          5001  EFProdTotGHA  3.984702e+09  1.046937e+09   \n",
       "\n",
       "        forest_land  fishing_ground  built_up_land        carbon  \\\n",
       "0       0.097188051    3.688847e-02   2.931995e-02  0.000000e+00   \n",
       "1            334600    1.270000e+05   1.009430e+05  0.000000e+00   \n",
       "2       0.084003213    1.374213e-02   3.339780e-02  0.000000e+00   \n",
       "3       289207.1078    4.731155e+04   1.149823e+05  0.000000e+00   \n",
       "4          1.26E-06    4.164833e-03   3.339780e-02  1.114093e+00   \n",
       "...             ...             ...            ...           ...   \n",
       "72181  5111762779.0    1.095445e+09   4.726163e+08  0.000000e+00   \n",
       "72182      0.273495    8.974253e-02   6.329435e-02  1.646235e+00   \n",
       "72183  2042179333.0    6.701039e+08   4.726163e+08  1.229237e+10   \n",
       "72184      0.273495    8.974253e-02   6.329435e-02  1.646235e+00   \n",
       "72185  2042179333.0    6.701039e+08   4.726163e+08  1.229237e+10   \n",
       "\n",
       "              total QScore  \n",
       "0      5.032351e-01     3A  \n",
       "1      1.732543e+06     3A  \n",
       "2      4.262086e-01     3A  \n",
       "3      1.467355e+06     3A  \n",
       "4      1.728629e+00     3A  \n",
       "...             ...    ...  \n",
       "72181  1.216928e+10     3A  \n",
       "72182  2.746619e+00     3A  \n",
       "72183  2.050891e+10     3A  \n",
       "72184  2.746619e+00     3A  \n",
       "72185  2.050891e+10     3A  \n",
       "\n",
       "[72186 rows x 12 columns]"
      ]
     },
     "execution_count": 405,
     "metadata": {},
     "output_type": "execute_result"
    }
   ],
   "source": [
    "df"
   ]
  },
  {
   "cell_type": "code",
   "execution_count": 406,
   "metadata": {},
   "outputs": [
    {
     "data": {
      "text/plain": [
       "(72186, 12)"
      ]
     },
     "execution_count": 406,
     "metadata": {},
     "output_type": "execute_result"
    }
   ],
   "source": [
    "df.shape"
   ]
  },
  {
   "cell_type": "code",
   "execution_count": 407,
   "metadata": {},
   "outputs": [
    {
     "name": "stdout",
     "output_type": "stream",
     "text": [
      "<class 'pandas.core.frame.DataFrame'>\n",
      "RangeIndex: 72186 entries, 0 to 72185\n",
      "Data columns (total 12 columns):\n",
      " #   Column          Non-Null Count  Dtype  \n",
      "---  ------          --------------  -----  \n",
      " 0   country         72186 non-null  object \n",
      " 1   year            72186 non-null  int64  \n",
      " 2   country_code    72186 non-null  int64  \n",
      " 3   record          72186 non-null  object \n",
      " 4   crop_land       51714 non-null  float64\n",
      " 5   grazing_land    51714 non-null  float64\n",
      " 6   forest_land     51714 non-null  object \n",
      " 7   fishing_ground  51713 non-null  float64\n",
      " 8   built_up_land   51713 non-null  float64\n",
      " 9   carbon          51713 non-null  float64\n",
      " 10  total           72177 non-null  float64\n",
      " 11  QScore          72185 non-null  object \n",
      "dtypes: float64(6), int64(2), object(4)\n",
      "memory usage: 6.6+ MB\n"
     ]
    }
   ],
   "source": [
    "df.info()"
   ]
  },
  {
   "cell_type": "code",
   "execution_count": 408,
   "metadata": {},
   "outputs": [
    {
     "data": {
      "text/html": [
       "<div>\n",
       "<style scoped>\n",
       "    .dataframe tbody tr th:only-of-type {\n",
       "        vertical-align: middle;\n",
       "    }\n",
       "\n",
       "    .dataframe tbody tr th {\n",
       "        vertical-align: top;\n",
       "    }\n",
       "\n",
       "    .dataframe thead th {\n",
       "        text-align: right;\n",
       "    }\n",
       "</style>\n",
       "<table border=\"1\" class=\"dataframe\">\n",
       "  <thead>\n",
       "    <tr style=\"text-align: right;\">\n",
       "      <th></th>\n",
       "      <th>year</th>\n",
       "      <th>country_code</th>\n",
       "      <th>crop_land</th>\n",
       "      <th>grazing_land</th>\n",
       "      <th>fishing_ground</th>\n",
       "      <th>built_up_land</th>\n",
       "      <th>carbon</th>\n",
       "      <th>total</th>\n",
       "    </tr>\n",
       "  </thead>\n",
       "  <tbody>\n",
       "    <tr>\n",
       "      <th>count</th>\n",
       "      <td>72186.000000</td>\n",
       "      <td>72186.000000</td>\n",
       "      <td>5.171400e+04</td>\n",
       "      <td>5.171400e+04</td>\n",
       "      <td>5.171300e+04</td>\n",
       "      <td>5.171300e+04</td>\n",
       "      <td>5.171300e+04</td>\n",
       "      <td>7.217700e+04</td>\n",
       "    </tr>\n",
       "    <tr>\n",
       "      <th>mean</th>\n",
       "      <td>1990.263154</td>\n",
       "      <td>155.618915</td>\n",
       "      <td>1.920772e+07</td>\n",
       "      <td>1.352875e+07</td>\n",
       "      <td>1.004860e+07</td>\n",
       "      <td>1.984737e+06</td>\n",
       "      <td>3.072609e+07</td>\n",
       "      <td>7.792960e+07</td>\n",
       "    </tr>\n",
       "    <tr>\n",
       "      <th>std</th>\n",
       "      <td>16.018761</td>\n",
       "      <td>390.261979</td>\n",
       "      <td>1.685819e+08</td>\n",
       "      <td>1.294180e+08</td>\n",
       "      <td>1.081375e+08</td>\n",
       "      <td>1.730488e+07</td>\n",
       "      <td>3.989630e+08</td>\n",
       "      <td>7.455443e+08</td>\n",
       "    </tr>\n",
       "    <tr>\n",
       "      <th>min</th>\n",
       "      <td>1961.000000</td>\n",
       "      <td>1.000000</td>\n",
       "      <td>0.000000e+00</td>\n",
       "      <td>0.000000e+00</td>\n",
       "      <td>0.000000e+00</td>\n",
       "      <td>0.000000e+00</td>\n",
       "      <td>0.000000e+00</td>\n",
       "      <td>1.876963e-02</td>\n",
       "    </tr>\n",
       "    <tr>\n",
       "      <th>25%</th>\n",
       "      <td>1977.000000</td>\n",
       "      <td>59.000000</td>\n",
       "      <td>3.581080e-01</td>\n",
       "      <td>1.948302e-01</td>\n",
       "      <td>8.005409e-02</td>\n",
       "      <td>3.786298e-02</td>\n",
       "      <td>0.000000e+00</td>\n",
       "      <td>1.894023e+00</td>\n",
       "    </tr>\n",
       "    <tr>\n",
       "      <th>50%</th>\n",
       "      <td>1991.000000</td>\n",
       "      <td>121.000000</td>\n",
       "      <td>3.251810e+00</td>\n",
       "      <td>9.978667e+00</td>\n",
       "      <td>6.154094e+00</td>\n",
       "      <td>2.044437e-01</td>\n",
       "      <td>0.000000e+00</td>\n",
       "      <td>8.292253e+03</td>\n",
       "    </tr>\n",
       "    <tr>\n",
       "      <th>75%</th>\n",
       "      <td>2004.000000</td>\n",
       "      <td>193.000000</td>\n",
       "      <td>3.610817e+06</td>\n",
       "      <td>1.734192e+06</td>\n",
       "      <td>9.450000e+05</td>\n",
       "      <td>3.867180e+05</td>\n",
       "      <td>1.915736e+01</td>\n",
       "      <td>1.532959e+07</td>\n",
       "    </tr>\n",
       "    <tr>\n",
       "      <th>max</th>\n",
       "      <td>2016.000000</td>\n",
       "      <td>5001.000000</td>\n",
       "      <td>3.984702e+09</td>\n",
       "      <td>3.417089e+09</td>\n",
       "      <td>2.979605e+09</td>\n",
       "      <td>4.726163e+08</td>\n",
       "      <td>1.257160e+10</td>\n",
       "      <td>2.061182e+10</td>\n",
       "    </tr>\n",
       "  </tbody>\n",
       "</table>\n",
       "</div>"
      ],
      "text/plain": [
       "               year  country_code     crop_land  grazing_land  fishing_ground  \\\n",
       "count  72186.000000  72186.000000  5.171400e+04  5.171400e+04    5.171300e+04   \n",
       "mean    1990.263154    155.618915  1.920772e+07  1.352875e+07    1.004860e+07   \n",
       "std       16.018761    390.261979  1.685819e+08  1.294180e+08    1.081375e+08   \n",
       "min     1961.000000      1.000000  0.000000e+00  0.000000e+00    0.000000e+00   \n",
       "25%     1977.000000     59.000000  3.581080e-01  1.948302e-01    8.005409e-02   \n",
       "50%     1991.000000    121.000000  3.251810e+00  9.978667e+00    6.154094e+00   \n",
       "75%     2004.000000    193.000000  3.610817e+06  1.734192e+06    9.450000e+05   \n",
       "max     2016.000000   5001.000000  3.984702e+09  3.417089e+09    2.979605e+09   \n",
       "\n",
       "       built_up_land        carbon         total  \n",
       "count   5.171300e+04  5.171300e+04  7.217700e+04  \n",
       "mean    1.984737e+06  3.072609e+07  7.792960e+07  \n",
       "std     1.730488e+07  3.989630e+08  7.455443e+08  \n",
       "min     0.000000e+00  0.000000e+00  1.876963e-02  \n",
       "25%     3.786298e-02  0.000000e+00  1.894023e+00  \n",
       "50%     2.044437e-01  0.000000e+00  8.292253e+03  \n",
       "75%     3.867180e+05  1.915736e+01  1.532959e+07  \n",
       "max     4.726163e+08  1.257160e+10  2.061182e+10  "
      ]
     },
     "execution_count": 408,
     "metadata": {},
     "output_type": "execute_result"
    }
   ],
   "source": [
    "df.describe()"
   ]
  },
  {
   "cell_type": "code",
   "execution_count": 409,
   "metadata": {},
   "outputs": [
    {
     "data": {
      "text/plain": [
       "True"
      ]
     },
     "execution_count": 409,
     "metadata": {},
     "output_type": "execute_result"
    }
   ],
   "source": [
    "#To check if our dataset contains any null/NA value\n",
    "#pd.isnull(df)\n",
    "df.isnull().values.any()"
   ]
  },
  {
   "cell_type": "code",
   "execution_count": 410,
   "metadata": {},
   "outputs": [
    {
     "data": {
      "text/plain": [
       "country            0.000000\n",
       "year               0.000000\n",
       "country_code       0.000000\n",
       "record             0.000000\n",
       "crop_land         28.360070\n",
       "grazing_land      28.360070\n",
       "forest_land       28.360070\n",
       "fishing_ground    28.361455\n",
       "built_up_land     28.361455\n",
       "carbon            28.361455\n",
       "total              0.012468\n",
       "QScore             0.001385\n",
       "dtype: float64"
      ]
     },
     "execution_count": 410,
     "metadata": {},
     "output_type": "execute_result"
    }
   ],
   "source": [
    "#If we NA values exist, then to find total count of NA values\n",
    "df.isnull().mean()*100"
   ]
  },
  {
   "cell_type": "code",
   "execution_count": 411,
   "metadata": {},
   "outputs": [],
   "source": [
    "df.drop(df[df['forest_land'] == '3A'].index, inplace = True)"
   ]
  },
  {
   "cell_type": "code",
   "execution_count": 412,
   "metadata": {},
   "outputs": [
    {
     "name": "stdout",
     "output_type": "stream",
     "text": [
      "<class 'pandas.core.frame.DataFrame'>\n",
      "Int64Index: 72185 entries, 0 to 72185\n",
      "Data columns (total 12 columns):\n",
      " #   Column          Non-Null Count  Dtype  \n",
      "---  ------          --------------  -----  \n",
      " 0   country         72185 non-null  object \n",
      " 1   year            72185 non-null  int64  \n",
      " 2   country_code    72185 non-null  int64  \n",
      " 3   record          72185 non-null  object \n",
      " 4   crop_land       51713 non-null  float64\n",
      " 5   grazing_land    51713 non-null  float64\n",
      " 6   forest_land     51713 non-null  object \n",
      " 7   fishing_ground  51713 non-null  float64\n",
      " 8   built_up_land   51713 non-null  float64\n",
      " 9   carbon          51713 non-null  float64\n",
      " 10  total           72177 non-null  float64\n",
      " 11  QScore          72185 non-null  object \n",
      "dtypes: float64(6), int64(2), object(4)\n",
      "memory usage: 7.2+ MB\n"
     ]
    }
   ],
   "source": [
    "df.info()"
   ]
  },
  {
   "cell_type": "code",
   "execution_count": 413,
   "metadata": {},
   "outputs": [],
   "source": [
    "df['forest_land'] = df['forest_land'].astype('float64')"
   ]
  },
  {
   "cell_type": "code",
   "execution_count": 414,
   "metadata": {},
   "outputs": [],
   "source": [
    "from sklearn.impute import SimpleImputer"
   ]
  },
  {
   "cell_type": "code",
   "execution_count": 415,
   "metadata": {},
   "outputs": [],
   "source": [
    "imp = SimpleImputer(missing_values=np.nan, strategy='mean')\n",
    "df['crop_land'] = imp.fit_transform(df[['crop_land']])\n",
    "df['grazing_land'] = imp.fit_transform(df[['grazing_land']])\n",
    "df['forest_land'] = imp.fit_transform(df[['forest_land']])\n",
    "df['fishing_ground'] = imp.fit_transform(df[['fishing_ground']])\n",
    "df['built_up_land'] = imp.fit_transform(df[['built_up_land']])\n",
    "df['carbon'] = imp.fit_transform(df[['carbon']])"
   ]
  },
  {
   "cell_type": "code",
   "execution_count": 416,
   "metadata": {},
   "outputs": [],
   "source": [
    "df = df.dropna()"
   ]
  },
  {
   "cell_type": "code",
   "execution_count": 417,
   "metadata": {},
   "outputs": [
    {
     "data": {
      "text/plain": [
       "country           0.0\n",
       "year              0.0\n",
       "country_code      0.0\n",
       "record            0.0\n",
       "crop_land         0.0\n",
       "grazing_land      0.0\n",
       "forest_land       0.0\n",
       "fishing_ground    0.0\n",
       "built_up_land     0.0\n",
       "carbon            0.0\n",
       "total             0.0\n",
       "QScore            0.0\n",
       "dtype: float64"
      ]
     },
     "execution_count": 417,
     "metadata": {},
     "output_type": "execute_result"
    }
   ],
   "source": [
    "df.isnull().mean()*100"
   ]
  },
  {
   "cell_type": "code",
   "execution_count": 418,
   "metadata": {},
   "outputs": [
    {
     "name": "stderr",
     "output_type": "stream",
     "text": [
      "C:\\Users\\mahesh\\AppData\\Local\\Temp/ipykernel_14072/1665899112.py:1: FutureWarning: Dropping of nuisance columns in DataFrame reductions (with 'numeric_only=None') is deprecated; in a future version this will raise TypeError.  Select only valid columns before calling the reduction.\n",
      "  df.skew()\n"
     ]
    },
    {
     "data": {
      "text/plain": [
       "year              -0.141916\n",
       "country_code      11.870078\n",
       "crop_land         19.101341\n",
       "grazing_land      23.468304\n",
       "forest_land       20.450365\n",
       "fishing_ground    27.146893\n",
       "built_up_land     19.951048\n",
       "carbon            26.045586\n",
       "total             17.900685\n",
       "dtype: float64"
      ]
     },
     "execution_count": 418,
     "metadata": {},
     "output_type": "execute_result"
    }
   ],
   "source": [
    "df.skew()"
   ]
  },
  {
   "cell_type": "code",
   "execution_count": 419,
   "metadata": {},
   "outputs": [
    {
     "data": {
      "text/plain": [
       "(72177, 12)"
      ]
     },
     "execution_count": 419,
     "metadata": {},
     "output_type": "execute_result"
    }
   ],
   "source": [
    "df.shape"
   ]
  },
  {
   "cell_type": "code",
   "execution_count": null,
   "metadata": {},
   "outputs": [],
   "source": []
  },
  {
   "cell_type": "code",
   "execution_count": null,
   "metadata": {},
   "outputs": [],
   "source": []
  },
  {
   "cell_type": "code",
   "execution_count": 20,
   "metadata": {},
   "outputs": [
    {
     "data": {
      "image/png": "[encoded data removed]",
      "text/plain": [
       "<Figure size 864x864 with 9 Axes>"
      ]
     },
     "metadata": {
      "needs_background": "light"
     },
     "output_type": "display_data"
    }
   ],
   "source": [
    "# to plot histograms (to check distribution of variables) of all the variables in a dataframe\n",
    "df.hist(sharex=False, sharey=False, xlabelsize=1, ylabelsize=1, figsize =(12,12))\n",
    "plt.show()"
   ]
  },
  {
   "cell_type": "code",
   "execution_count": 21,
   "metadata": {},
   "outputs": [
    {
     "data": {
      "image/png": "[encoded data removed]",
      "text/plain": [
       "<Figure size 1080x864 with 16 Axes>"
      ]
     },
     "metadata": {
      "needs_background": "light"
     },
     "output_type": "display_data"
    }
   ],
   "source": [
    "df.plot(kind='density', subplots=True, layout=(4,4), sharex=False, legend=True, fontsize=1, figsize=(15,12))\n",
    "plt.show()"
   ]
  },
  {
   "cell_type": "code",
   "execution_count": 22,
   "metadata": {},
   "outputs": [
    {
     "data": {
      "image/png": "[encoded data removed]",
      "text/plain": [
       "<Figure size 1080x720 with 16 Axes>"
      ]
     },
     "metadata": {
      "needs_background": "light"
     },
     "output_type": "display_data"
    }
   ],
   "source": [
    "df.plot(kind='box', subplots=True, layout=(4,4), sharex=False, sharey=False,\n",
    "        fontsize=10, figsize = (15, 10))\n",
    "plt.show() "
   ]
  },
  {
   "cell_type": "code",
   "execution_count": 27,
   "metadata": {},
   "outputs": [
    {
     "name": "stdout",
     "output_type": "stream",
     "text": [
      "<class 'pandas.core.frame.DataFrame'>\n",
      "Int64Index: 72177 entries, 0 to 72185\n",
      "Data columns (total 12 columns):\n",
      " #   Column          Non-Null Count  Dtype  \n",
      "---  ------          --------------  -----  \n",
      " 0   country         72177 non-null  object \n",
      " 1   year            72177 non-null  int64  \n",
      " 2   country_code    72177 non-null  int64  \n",
      " 3   record          72177 non-null  object \n",
      " 4   crop_land       72177 non-null  float64\n",
      " 5   grazing_land    72177 non-null  float64\n",
      " 6   forest_land     72177 non-null  float64\n",
      " 7   fishing_ground  72177 non-null  float64\n",
      " 8   built_up_land   72177 non-null  float64\n",
      " 9   carbon          72177 non-null  float64\n",
      " 10  total           72177 non-null  float64\n",
      " 11  QScore          72177 non-null  object \n",
      "dtypes: float64(7), int64(2), object(3)\n",
      "memory usage: 7.2+ MB\n"
     ]
    }
   ],
   "source": [
    "df.info()"
   ]
  },
  {
   "cell_type": "code",
   "execution_count": 420,
   "metadata": {},
   "outputs": [],
   "source": [
    "df1=df.drop(columns=['country','record','QScore'],axis=1)"
   ]
  },
  {
   "cell_type": "code",
   "execution_count": 421,
   "metadata": {},
   "outputs": [
    {
     "name": "stdout",
     "output_type": "stream",
     "text": [
      "<class 'pandas.core.frame.DataFrame'>\n",
      "Int64Index: 72177 entries, 0 to 72185\n",
      "Data columns (total 9 columns):\n",
      " #   Column          Non-Null Count  Dtype  \n",
      "---  ------          --------------  -----  \n",
      " 0   year            72177 non-null  int64  \n",
      " 1   country_code    72177 non-null  int64  \n",
      " 2   crop_land       72177 non-null  float64\n",
      " 3   grazing_land    72177 non-null  float64\n",
      " 4   forest_land     72177 non-null  float64\n",
      " 5   fishing_ground  72177 non-null  float64\n",
      " 6   built_up_land   72177 non-null  float64\n",
      " 7   carbon          72177 non-null  float64\n",
      " 8   total           72177 non-null  float64\n",
      "dtypes: float64(7), int64(2)\n",
      "memory usage: 5.5 MB\n"
     ]
    }
   ],
   "source": [
    "df1.info()"
   ]
  },
  {
   "cell_type": "code",
   "execution_count": 25,
   "metadata": {},
   "outputs": [],
   "source": [
    "from sklearn.neighbors import LocalOutlierFactor"
   ]
  },
  {
   "cell_type": "code",
   "execution_count": 31,
   "metadata": {},
   "outputs": [],
   "source": [
    "# identify outliers in the training dataset\n",
    "lof = LocalOutlierFactor()\n",
    "yhat = lof.fit_predict(df1)\n",
    "# select all rows that are not outliers"
   ]
  },
  {
   "cell_type": "code",
   "execution_count": 36,
   "metadata": {},
   "outputs": [
    {
     "name": "stdout",
     "output_type": "stream",
     "text": [
      "2355\n",
      "69822\n",
      "2355\n"
     ]
    }
   ],
   "source": [
    "mask1 = yhat != -1\n",
    "mask22 = yhat == -1\n",
    "print((yhat == -1).sum())\n",
    "print((mask1).sum())\n",
    "print((mask22).sum())"
   ]
  },
  {
   "cell_type": "code",
   "execution_count": 45,
   "metadata": {},
   "outputs": [
    {
     "data": {
      "text/plain": [
       "(72177, 9)"
      ]
     },
     "execution_count": 45,
     "metadata": {},
     "output_type": "execute_result"
    }
   ],
   "source": [
    "df1.shape"
   ]
  },
  {
   "cell_type": "code",
   "execution_count": 41,
   "metadata": {},
   "outputs": [],
   "source": [
    "df_fin = df1[mask1]"
   ]
  },
  {
   "cell_type": "code",
   "execution_count": 56,
   "metadata": {},
   "outputs": [],
   "source": [
    "# calculate interquartile range\n",
    "q25, q75 = np.percentile(df1.crop_land, 25), np.percentile(df1.crop_land, 75)\n",
    "iqr = q75 - q25"
   ]
  },
  {
   "cell_type": "code",
   "execution_count": 57,
   "metadata": {},
   "outputs": [],
   "source": [
    "# calculate the outlier cutoff\n",
    "cut_off = iqr * 1.5\n",
    "lower, upper = q25 - cut_off, q75 + cut_off"
   ]
  },
  {
   "cell_type": "code",
   "execution_count": 96,
   "metadata": {},
   "outputs": [
    {
     "data": {
      "text/plain": [
       "(28812129.813386455, -28812129.312542032, 48020216.85648851)"
      ]
     },
     "execution_count": 96,
     "metadata": {},
     "output_type": "execute_result"
    }
   ],
   "source": [
    "cut_off, lower, upper"
   ]
  },
  {
   "cell_type": "code",
   "execution_count": 59,
   "metadata": {},
   "outputs": [],
   "source": [
    "df_final=df1[(df1.crop_land > lower)&(df1.crop_land < upper)]"
   ]
  },
  {
   "cell_type": "code",
   "execution_count": 422,
   "metadata": {},
   "outputs": [
    {
     "name": "stdout",
     "output_type": "stream",
     "text": [
      "capping the  country\n",
      "capping the  year\n",
      "capping the  country_code\n",
      "capping the  record\n",
      "capping the  crop_land\n",
      "capping the  grazing_land\n",
      "capping the  forest_land\n",
      "capping the  fishing_ground\n",
      "capping the  built_up_land\n",
      "capping the  carbon\n",
      "capping the  total\n",
      "capping the  QScore\n"
     ]
    },
    {
     "name": "stderr",
     "output_type": "stream",
     "text": [
      "C:\\Users\\mahesh\\AppData\\Local\\Temp/ipykernel_14072/2430433050.py:9: SettingWithCopyWarning: \n",
      "A value is trying to be set on a copy of a slice from a DataFrame.\n",
      "Try using .loc[row_indexer,col_indexer] = value instead\n",
      "\n",
      "See the caveats in the documentation: https://pandas.pydata.org/pandas-docs/stable/user_guide/indexing.html#returning-a-view-versus-a-copy\n",
      "  df[col]=df[col]\n",
      "C:\\Users\\mahesh\\AppData\\Local\\Temp/ipykernel_14072/2430433050.py:6: SettingWithCopyWarning: \n",
      "A value is trying to be set on a copy of a slice from a DataFrame\n",
      "\n",
      "See the caveats in the documentation: https://pandas.pydata.org/pandas-docs/stable/user_guide/indexing.html#returning-a-view-versus-a-copy\n",
      "  df[col][df[col] <= percentiles[0]] = percentiles[0]\n",
      "C:\\Users\\mahesh\\anaconda3\\lib\\site-packages\\pandas\\core\\generic.py:8870: SettingWithCopyWarning: \n",
      "A value is trying to be set on a copy of a slice from a DataFrame\n",
      "\n",
      "See the caveats in the documentation: https://pandas.pydata.org/pandas-docs/stable/user_guide/indexing.html#returning-a-view-versus-a-copy\n",
      "  return self._update_inplace(result)\n",
      "C:\\Users\\mahesh\\AppData\\Local\\Temp/ipykernel_14072/2430433050.py:7: SettingWithCopyWarning: \n",
      "A value is trying to be set on a copy of a slice from a DataFrame\n",
      "\n",
      "See the caveats in the documentation: https://pandas.pydata.org/pandas-docs/stable/user_guide/indexing.html#returning-a-view-versus-a-copy\n",
      "  df[col][df[col] >= percentiles[1]] = percentiles[1]\n"
     ]
    }
   ],
   "source": [
    "def cap_data(df):\n",
    "    for col in df.columns:\n",
    "        print(\"capping the \",col)\n",
    "        if (((df[col].dtype)=='float64') | ((df[col].dtype)=='int64')):\n",
    "            percentiles = df[col].quantile([0.01,0.95]).values\n",
    "            df[col][df[col] <= percentiles[0]] = percentiles[0]\n",
    "            df[col][df[col] >= percentiles[1]] = percentiles[1]\n",
    "        else:\n",
    "            df[col]=df[col]\n",
    "    return df\n",
    "\n",
    "final_df=cap_data(df)"
   ]
  },
  {
   "cell_type": "code",
   "execution_count": 423,
   "metadata": {},
   "outputs": [
    {
     "data": {
      "image/png": "[encoded data removed]",
      "text/plain": [
       "<Figure size 1080x720 with 16 Axes>"
      ]
     },
     "metadata": {
      "needs_background": "light"
     },
     "output_type": "display_data"
    }
   ],
   "source": [
    "final_df.plot(kind='box', subplots=True, layout=(4,4), sharex=False, sharey=False,\n",
    "        fontsize=10, figsize = (15, 10))\n",
    "plt.show() "
   ]
  },
  {
   "cell_type": "code",
   "execution_count": 424,
   "metadata": {},
   "outputs": [
    {
     "name": "stderr",
     "output_type": "stream",
     "text": [
      "C:\\Users\\mahesh\\AppData\\Local\\Temp/ipykernel_14072/1869444327.py:1: FutureWarning: Dropping of nuisance columns in DataFrame reductions (with 'numeric_only=None') is deprecated; in a future version this will raise TypeError.  Select only valid columns before calling the reduction.\n",
      "  final_df.skew()\n"
     ]
    },
    {
     "data": {
      "text/plain": [
       "year             -0.160462\n",
       "country_code      0.043340\n",
       "crop_land         0.638198\n",
       "grazing_land      0.598982\n",
       "forest_land       0.516307\n",
       "fishing_ground    0.535860\n",
       "built_up_land     0.503682\n",
       "carbon            0.652286\n",
       "total             2.471178\n",
       "dtype: float64"
      ]
     },
     "execution_count": 424,
     "metadata": {},
     "output_type": "execute_result"
    }
   ],
   "source": [
    "final_df.skew()"
   ]
  },
  {
   "cell_type": "code",
   "execution_count": 425,
   "metadata": {},
   "outputs": [
    {
     "name": "stdout",
     "output_type": "stream",
     "text": [
      "<class 'pandas.core.frame.DataFrame'>\n",
      "Int64Index: 72177 entries, 0 to 72185\n",
      "Data columns (total 12 columns):\n",
      " #   Column          Non-Null Count  Dtype  \n",
      "---  ------          --------------  -----  \n",
      " 0   country         72177 non-null  object \n",
      " 1   year            72177 non-null  int64  \n",
      " 2   country_code    72177 non-null  int64  \n",
      " 3   record          72177 non-null  object \n",
      " 4   crop_land       72177 non-null  float64\n",
      " 5   grazing_land    72177 non-null  float64\n",
      " 6   forest_land     72177 non-null  float64\n",
      " 7   fishing_ground  72177 non-null  float64\n",
      " 8   built_up_land   72177 non-null  float64\n",
      " 9   carbon          72177 non-null  float64\n",
      " 10  total           72177 non-null  float64\n",
      " 11  QScore          72177 non-null  object \n",
      "dtypes: float64(7), int64(2), object(3)\n",
      "memory usage: 7.2+ MB\n"
     ]
    }
   ],
   "source": [
    "final_df.info()"
   ]
  },
  {
   "cell_type": "code",
   "execution_count": 426,
   "metadata": {},
   "outputs": [
    {
     "data": {
      "text/plain": [
       "3A    51473\n",
       "2A    10576\n",
       "2B    10096\n",
       "1A       16\n",
       "1B       16\n",
       "Name: QScore, dtype: int64"
      ]
     },
     "execution_count": 426,
     "metadata": {},
     "output_type": "execute_result"
    }
   ],
   "source": [
    "final_df.QScore.value_counts()"
   ]
  },
  {
   "cell_type": "code",
   "execution_count": 199,
   "metadata": {},
   "outputs": [
    {
     "data": {
      "image/png": "[encoded data removed]",
      "text/plain": [
       "<Figure size 432x288 with 1 Axes>"
      ]
     },
     "metadata": {
      "needs_background": "light"
     },
     "output_type": "display_data"
    }
   ],
   "source": [
    "sns.countplot(x = 'QScore', data = final_df)\n",
    "plt.show()"
   ]
  },
  {
   "cell_type": "code",
   "execution_count": 115,
   "metadata": {},
   "outputs": [
    {
     "data": {
      "image/png": "[encoded data removed]",
      "text/plain": [
       "<Figure size 432x288 with 1 Axes>"
      ]
     },
     "metadata": {
      "needs_background": "light"
     },
     "output_type": "display_data"
    }
   ],
   "source": [
    "sns.countplot(x = 'QScore', hue = 'record', data = final_df)\n",
    "plt.show()"
   ]
  },
  {
   "cell_type": "markdown",
   "metadata": {},
   "source": [
    "### both category features considered for building model"
   ]
  },
  {
   "cell_type": "code",
   "execution_count": 403,
   "metadata": {},
   "outputs": [
    {
     "name": "stdout",
     "output_type": "stream",
     "text": [
      "<class 'pandas.core.frame.DataFrame'>\n",
      "Int64Index: 72177 entries, 0 to 72185\n",
      "Data columns (total 12 columns):\n",
      " #   Column          Non-Null Count  Dtype  \n",
      "---  ------          --------------  -----  \n",
      " 0   country         72177 non-null  object \n",
      " 1   year            72177 non-null  int64  \n",
      " 2   country_code    72177 non-null  int64  \n",
      " 3   record          72177 non-null  object \n",
      " 4   crop_land       72177 non-null  float64\n",
      " 5   grazing_land    72177 non-null  float64\n",
      " 6   forest_land     72177 non-null  float64\n",
      " 7   fishing_ground  72177 non-null  float64\n",
      " 8   built_up_land   72177 non-null  float64\n",
      " 9   carbon          72177 non-null  float64\n",
      " 10  total           72177 non-null  float64\n",
      " 11  QScore          72177 non-null  int32  \n",
      "dtypes: float64(7), int32(1), int64(2), object(2)\n",
      "memory usage: 8.9+ MB\n"
     ]
    }
   ],
   "source": [
    "final_df.info()"
   ]
  },
  {
   "cell_type": "code",
   "execution_count": 117,
   "metadata": {},
   "outputs": [
    {
     "data": {
      "image/png": "[encoded data removed]",
      "text/plain": [
       "<Figure size 432x288 with 1 Axes>"
      ]
     },
     "metadata": {
      "needs_background": "light"
     },
     "output_type": "display_data"
    }
   ],
   "source": [
    "sns.boxplot( x = final_df.QScore, y = final_df.year)\n",
    "plt.show()"
   ]
  },
  {
   "cell_type": "code",
   "execution_count": 118,
   "metadata": {},
   "outputs": [
    {
     "data": {
      "image/png": "[encoded data removed]",
      "text/plain": [
       "<Figure size 432x288 with 1 Axes>"
      ]
     },
     "metadata": {
      "needs_background": "light"
     },
     "output_type": "display_data"
    }
   ],
   "source": [
    "sns.boxplot( x = final_df.QScore, y = final_df.country_code)\n",
    "plt.show()"
   ]
  },
  {
   "cell_type": "code",
   "execution_count": 119,
   "metadata": {},
   "outputs": [
    {
     "data": {
      "image/png": "[encoded data removed]",
      "text/plain": [
       "<Figure size 432x288 with 1 Axes>"
      ]
     },
     "metadata": {
      "needs_background": "light"
     },
     "output_type": "display_data"
    }
   ],
   "source": [
    "sns.boxplot( x = final_df.QScore, y = final_df.crop_land)\n",
    "plt.show()"
   ]
  },
  {
   "cell_type": "code",
   "execution_count": 120,
   "metadata": {},
   "outputs": [
    {
     "data": {
      "image/png": "[encoded data removed]",
      "text/plain": [
       "<Figure size 432x288 with 1 Axes>"
      ]
     },
     "metadata": {
      "needs_background": "light"
     },
     "output_type": "display_data"
    }
   ],
   "source": [
    "sns.boxplot( x = final_df.QScore, y = final_df.grazing_land)\n",
    "plt.show()"
   ]
  },
  {
   "cell_type": "code",
   "execution_count": 121,
   "metadata": {},
   "outputs": [
    {
     "data": {
      "image/png": "[encoded data removed]",
      "text/plain": [
       "<Figure size 432x288 with 1 Axes>"
      ]
     },
     "metadata": {
      "needs_background": "light"
     },
     "output_type": "display_data"
    }
   ],
   "source": [
    "sns.boxplot( x = final_df.QScore, y = final_df.forest_land)\n",
    "plt.show()"
   ]
  },
  {
   "cell_type": "code",
   "execution_count": 122,
   "metadata": {},
   "outputs": [
    {
     "data": {
      "image/png": "[encoded data removed]",
      "text/plain": [
       "<Figure size 432x288 with 1 Axes>"
      ]
     },
     "metadata": {
      "needs_background": "light"
     },
     "output_type": "display_data"
    }
   ],
   "source": [
    "sns.boxplot( x = final_df.QScore, y = final_df.fishing_ground)\n",
    "plt.show()"
   ]
  },
  {
   "cell_type": "code",
   "execution_count": 123,
   "metadata": {},
   "outputs": [
    {
     "data": {
      "image/png": "[encoded data removed]",
      "text/plain": [
       "<Figure size 432x288 with 1 Axes>"
      ]
     },
     "metadata": {
      "needs_background": "light"
     },
     "output_type": "display_data"
    }
   ],
   "source": [
    "sns.boxplot( x = final_df.QScore, y = final_df.built_up_land)\n",
    "plt.show()"
   ]
  },
  {
   "cell_type": "code",
   "execution_count": 124,
   "metadata": {},
   "outputs": [
    {
     "data": {
      "image/png": "[encoded data removed]",
      "text/plain": [
       "<Figure size 432x288 with 1 Axes>"
      ]
     },
     "metadata": {
      "needs_background": "light"
     },
     "output_type": "display_data"
    }
   ],
   "source": [
    "sns.boxplot( x = final_df.QScore, y = final_df.carbon)\n",
    "plt.show()"
   ]
  },
  {
   "cell_type": "code",
   "execution_count": 125,
   "metadata": {},
   "outputs": [
    {
     "data": {
      "image/png": "[encoded data removed]",
      "text/plain": [
       "<Figure size 432x288 with 1 Axes>"
      ]
     },
     "metadata": {
      "needs_background": "light"
     },
     "output_type": "display_data"
    }
   ],
   "source": [
    "sns.boxplot( x = final_df.QScore, y = final_df.total)\n",
    "plt.show()"
   ]
  },
  {
   "cell_type": "code",
   "execution_count": 427,
   "metadata": {},
   "outputs": [
    {
     "data": {
      "text/plain": [
       "country            object\n",
       "year                int64\n",
       "country_code        int64\n",
       "record             object\n",
       "crop_land         float64\n",
       "grazing_land      float64\n",
       "forest_land       float64\n",
       "fishing_ground    float64\n",
       "built_up_land     float64\n",
       "carbon            float64\n",
       "total             float64\n",
       "QScore             object\n",
       "dtype: object"
      ]
     },
     "execution_count": 427,
     "metadata": {},
     "output_type": "execute_result"
    }
   ],
   "source": [
    "final_df.dtypes"
   ]
  },
  {
   "cell_type": "code",
   "execution_count": 127,
   "metadata": {},
   "outputs": [],
   "source": [
    "from sklearn.preprocessing import LabelEncoder"
   ]
  },
  {
   "cell_type": "code",
   "execution_count": 428,
   "metadata": {},
   "outputs": [],
   "source": [
    "le = LabelEncoder()"
   ]
  },
  {
   "cell_type": "code",
   "execution_count": 429,
   "metadata": {},
   "outputs": [
    {
     "name": "stderr",
     "output_type": "stream",
     "text": [
      "C:\\Users\\mahesh\\AppData\\Local\\Temp/ipykernel_14072/2853148870.py:2: SettingWithCopyWarning: \n",
      "A value is trying to be set on a copy of a slice from a DataFrame.\n",
      "Try using .loc[row_indexer,col_indexer] = value instead\n",
      "\n",
      "See the caveats in the documentation: https://pandas.pydata.org/pandas-docs/stable/user_guide/indexing.html#returning-a-view-versus-a-copy\n",
      "  final_df['QScore'] = le.fit_transform(final_df.QScore)\n"
     ]
    }
   ],
   "source": [
    "le = LabelEncoder()\n",
    "final_df['QScore'] = le.fit_transform(final_df.QScore)"
   ]
  },
  {
   "cell_type": "code",
   "execution_count": 430,
   "metadata": {},
   "outputs": [
    {
     "data": {
      "text/plain": [
       "country            object\n",
       "year                int64\n",
       "country_code        int64\n",
       "record             object\n",
       "crop_land         float64\n",
       "grazing_land      float64\n",
       "forest_land       float64\n",
       "fishing_ground    float64\n",
       "built_up_land     float64\n",
       "carbon            float64\n",
       "total             float64\n",
       "QScore              int32\n",
       "dtype: object"
      ]
     },
     "execution_count": 430,
     "metadata": {},
     "output_type": "execute_result"
    }
   ],
   "source": [
    "final_df.dtypes"
   ]
  },
  {
   "cell_type": "code",
   "execution_count": 431,
   "metadata": {},
   "outputs": [
    {
     "data": {
      "text/html": [
       "<div>\n",
       "<style scoped>\n",
       "    .dataframe tbody tr th:only-of-type {\n",
       "        vertical-align: middle;\n",
       "    }\n",
       "\n",
       "    .dataframe tbody tr th {\n",
       "        vertical-align: top;\n",
       "    }\n",
       "\n",
       "    .dataframe thead th {\n",
       "        text-align: right;\n",
       "    }\n",
       "</style>\n",
       "<table border=\"1\" class=\"dataframe\">\n",
       "  <thead>\n",
       "    <tr style=\"text-align: right;\">\n",
       "      <th></th>\n",
       "      <th>country</th>\n",
       "      <th>year</th>\n",
       "      <th>country_code</th>\n",
       "      <th>record</th>\n",
       "      <th>crop_land</th>\n",
       "      <th>grazing_land</th>\n",
       "      <th>forest_land</th>\n",
       "      <th>fishing_ground</th>\n",
       "      <th>built_up_land</th>\n",
       "      <th>carbon</th>\n",
       "      <th>...</th>\n",
       "      <th>Yugoslav SFR</th>\n",
       "      <th>Zambia</th>\n",
       "      <th>Zimbabwe</th>\n",
       "      <th>AreaTotHA</th>\n",
       "      <th>BiocapPerCap</th>\n",
       "      <th>BiocapTotGHA</th>\n",
       "      <th>EFConsPerCap</th>\n",
       "      <th>EFConsTotGHA</th>\n",
       "      <th>EFProdPerCap</th>\n",
       "      <th>EFProdTotGHA</th>\n",
       "    </tr>\n",
       "  </thead>\n",
       "  <tbody>\n",
       "    <tr>\n",
       "      <th>0</th>\n",
       "      <td>Armenia</td>\n",
       "      <td>1992</td>\n",
       "      <td>3</td>\n",
       "      <td>AreaPerCap</td>\n",
       "      <td>1.402924e-01</td>\n",
       "      <td>0.199546</td>\n",
       "      <td>0.097188</td>\n",
       "      <td>0.036888</td>\n",
       "      <td>0.029320</td>\n",
       "      <td>0.000000e+00</td>\n",
       "      <td>...</td>\n",
       "      <td>0</td>\n",
       "      <td>0</td>\n",
       "      <td>0</td>\n",
       "      <td>0</td>\n",
       "      <td>0</td>\n",
       "      <td>0</td>\n",
       "      <td>0</td>\n",
       "      <td>0</td>\n",
       "      <td>0</td>\n",
       "      <td>0</td>\n",
       "    </tr>\n",
       "    <tr>\n",
       "      <th>1</th>\n",
       "      <td>Armenia</td>\n",
       "      <td>1992</td>\n",
       "      <td>3</td>\n",
       "      <td>AreaTotHA</td>\n",
       "      <td>4.830000e+05</td>\n",
       "      <td>687000.000000</td>\n",
       "      <td>334600.000000</td>\n",
       "      <td>127000.000000</td>\n",
       "      <td>100943.000800</td>\n",
       "      <td>0.000000e+00</td>\n",
       "      <td>...</td>\n",
       "      <td>0</td>\n",
       "      <td>0</td>\n",
       "      <td>0</td>\n",
       "      <td>1</td>\n",
       "      <td>0</td>\n",
       "      <td>0</td>\n",
       "      <td>0</td>\n",
       "      <td>0</td>\n",
       "      <td>0</td>\n",
       "      <td>0</td>\n",
       "    </tr>\n",
       "    <tr>\n",
       "      <th>2</th>\n",
       "      <td>Armenia</td>\n",
       "      <td>1992</td>\n",
       "      <td>3</td>\n",
       "      <td>BiocapPerCap</td>\n",
       "      <td>1.598044e-01</td>\n",
       "      <td>0.135261</td>\n",
       "      <td>0.084003</td>\n",
       "      <td>0.013742</td>\n",
       "      <td>0.033398</td>\n",
       "      <td>0.000000e+00</td>\n",
       "      <td>...</td>\n",
       "      <td>0</td>\n",
       "      <td>0</td>\n",
       "      <td>0</td>\n",
       "      <td>0</td>\n",
       "      <td>1</td>\n",
       "      <td>0</td>\n",
       "      <td>0</td>\n",
       "      <td>0</td>\n",
       "      <td>0</td>\n",
       "      <td>0</td>\n",
       "    </tr>\n",
       "    <tr>\n",
       "      <th>3</th>\n",
       "      <td>Armenia</td>\n",
       "      <td>1992</td>\n",
       "      <td>3</td>\n",
       "      <td>BiocapTotGHA</td>\n",
       "      <td>5.501762e+05</td>\n",
       "      <td>465677.972200</td>\n",
       "      <td>289207.107800</td>\n",
       "      <td>47311.551720</td>\n",
       "      <td>114982.279300</td>\n",
       "      <td>0.000000e+00</td>\n",
       "      <td>...</td>\n",
       "      <td>0</td>\n",
       "      <td>0</td>\n",
       "      <td>0</td>\n",
       "      <td>0</td>\n",
       "      <td>0</td>\n",
       "      <td>1</td>\n",
       "      <td>0</td>\n",
       "      <td>0</td>\n",
       "      <td>0</td>\n",
       "      <td>0</td>\n",
       "    </tr>\n",
       "    <tr>\n",
       "      <th>4</th>\n",
       "      <td>Armenia</td>\n",
       "      <td>1992</td>\n",
       "      <td>3</td>\n",
       "      <td>EFConsPerCap</td>\n",
       "      <td>3.875102e-01</td>\n",
       "      <td>0.189462</td>\n",
       "      <td>0.003428</td>\n",
       "      <td>0.004165</td>\n",
       "      <td>0.033398</td>\n",
       "      <td>1.114093e+00</td>\n",
       "      <td>...</td>\n",
       "      <td>0</td>\n",
       "      <td>0</td>\n",
       "      <td>0</td>\n",
       "      <td>0</td>\n",
       "      <td>0</td>\n",
       "      <td>0</td>\n",
       "      <td>1</td>\n",
       "      <td>0</td>\n",
       "      <td>0</td>\n",
       "      <td>0</td>\n",
       "    </tr>\n",
       "    <tr>\n",
       "      <th>5</th>\n",
       "      <td>Armenia</td>\n",
       "      <td>1992</td>\n",
       "      <td>3</td>\n",
       "      <td>EFConsTotGHA</td>\n",
       "      <td>1.334124e+06</td>\n",
       "      <td>652282.314700</td>\n",
       "      <td>4.328087</td>\n",
       "      <td>14338.728980</td>\n",
       "      <td>114982.279300</td>\n",
       "      <td>3.835610e+06</td>\n",
       "      <td>...</td>\n",
       "      <td>0</td>\n",
       "      <td>0</td>\n",
       "      <td>0</td>\n",
       "      <td>0</td>\n",
       "      <td>0</td>\n",
       "      <td>0</td>\n",
       "      <td>0</td>\n",
       "      <td>1</td>\n",
       "      <td>0</td>\n",
       "      <td>0</td>\n",
       "    </tr>\n",
       "    <tr>\n",
       "      <th>6</th>\n",
       "      <td>Armenia</td>\n",
       "      <td>1992</td>\n",
       "      <td>3</td>\n",
       "      <td>EFProdPerCap</td>\n",
       "      <td>1.598044e-01</td>\n",
       "      <td>0.135261</td>\n",
       "      <td>0.003428</td>\n",
       "      <td>0.001266</td>\n",
       "      <td>0.033398</td>\n",
       "      <td>1.074631e+00</td>\n",
       "      <td>...</td>\n",
       "      <td>0</td>\n",
       "      <td>0</td>\n",
       "      <td>0</td>\n",
       "      <td>0</td>\n",
       "      <td>0</td>\n",
       "      <td>0</td>\n",
       "      <td>0</td>\n",
       "      <td>0</td>\n",
       "      <td>1</td>\n",
       "      <td>0</td>\n",
       "    </tr>\n",
       "    <tr>\n",
       "      <th>7</th>\n",
       "      <td>Armenia</td>\n",
       "      <td>1992</td>\n",
       "      <td>3</td>\n",
       "      <td>EFProdTotGHA</td>\n",
       "      <td>5.501762e+05</td>\n",
       "      <td>465677.972200</td>\n",
       "      <td>0.003428</td>\n",
       "      <td>4358.142036</td>\n",
       "      <td>114982.279300</td>\n",
       "      <td>3.699750e+06</td>\n",
       "      <td>...</td>\n",
       "      <td>0</td>\n",
       "      <td>0</td>\n",
       "      <td>0</td>\n",
       "      <td>0</td>\n",
       "      <td>0</td>\n",
       "      <td>0</td>\n",
       "      <td>0</td>\n",
       "      <td>0</td>\n",
       "      <td>0</td>\n",
       "      <td>1</td>\n",
       "    </tr>\n",
       "    <tr>\n",
       "      <th>8</th>\n",
       "      <td>Armenia</td>\n",
       "      <td>1993</td>\n",
       "      <td>3</td>\n",
       "      <td>AreaPerCap</td>\n",
       "      <td>1.465909e-01</td>\n",
       "      <td>0.204573</td>\n",
       "      <td>0.099432</td>\n",
       "      <td>0.037763</td>\n",
       "      <td>0.029320</td>\n",
       "      <td>0.000000e+00</td>\n",
       "      <td>...</td>\n",
       "      <td>0</td>\n",
       "      <td>0</td>\n",
       "      <td>0</td>\n",
       "      <td>0</td>\n",
       "      <td>0</td>\n",
       "      <td>0</td>\n",
       "      <td>0</td>\n",
       "      <td>0</td>\n",
       "      <td>0</td>\n",
       "      <td>0</td>\n",
       "    </tr>\n",
       "    <tr>\n",
       "      <th>9</th>\n",
       "      <td>Armenia</td>\n",
       "      <td>1993</td>\n",
       "      <td>3</td>\n",
       "      <td>AreaTotHA</td>\n",
       "      <td>4.930000e+05</td>\n",
       "      <td>688000.000000</td>\n",
       "      <td>334400.000000</td>\n",
       "      <td>127000.000000</td>\n",
       "      <td>98605.697630</td>\n",
       "      <td>0.000000e+00</td>\n",
       "      <td>...</td>\n",
       "      <td>0</td>\n",
       "      <td>0</td>\n",
       "      <td>0</td>\n",
       "      <td>1</td>\n",
       "      <td>0</td>\n",
       "      <td>0</td>\n",
       "      <td>0</td>\n",
       "      <td>0</td>\n",
       "      <td>0</td>\n",
       "      <td>0</td>\n",
       "    </tr>\n",
       "  </tbody>\n",
       "</table>\n",
       "<p>10 rows × 211 columns</p>\n",
       "</div>"
      ],
      "text/plain": [
       "   country  year  country_code        record     crop_land   grazing_land  \\\n",
       "0  Armenia  1992             3    AreaPerCap  1.402924e-01       0.199546   \n",
       "1  Armenia  1992             3     AreaTotHA  4.830000e+05  687000.000000   \n",
       "2  Armenia  1992             3  BiocapPerCap  1.598044e-01       0.135261   \n",
       "3  Armenia  1992             3  BiocapTotGHA  5.501762e+05  465677.972200   \n",
       "4  Armenia  1992             3  EFConsPerCap  3.875102e-01       0.189462   \n",
       "5  Armenia  1992             3  EFConsTotGHA  1.334124e+06  652282.314700   \n",
       "6  Armenia  1992             3  EFProdPerCap  1.598044e-01       0.135261   \n",
       "7  Armenia  1992             3  EFProdTotGHA  5.501762e+05  465677.972200   \n",
       "8  Armenia  1993             3    AreaPerCap  1.465909e-01       0.204573   \n",
       "9  Armenia  1993             3     AreaTotHA  4.930000e+05  688000.000000   \n",
       "\n",
       "     forest_land  fishing_ground  built_up_land        carbon  ...  \\\n",
       "0       0.097188        0.036888       0.029320  0.000000e+00  ...   \n",
       "1  334600.000000   127000.000000  100943.000800  0.000000e+00  ...   \n",
       "2       0.084003        0.013742       0.033398  0.000000e+00  ...   \n",
       "3  289207.107800    47311.551720  114982.279300  0.000000e+00  ...   \n",
       "4       0.003428        0.004165       0.033398  1.114093e+00  ...   \n",
       "5       4.328087    14338.728980  114982.279300  3.835610e+06  ...   \n",
       "6       0.003428        0.001266       0.033398  1.074631e+00  ...   \n",
       "7       0.003428     4358.142036  114982.279300  3.699750e+06  ...   \n",
       "8       0.099432        0.037763       0.029320  0.000000e+00  ...   \n",
       "9  334400.000000   127000.000000   98605.697630  0.000000e+00  ...   \n",
       "\n",
       "   Yugoslav SFR  Zambia  Zimbabwe  AreaTotHA  BiocapPerCap  BiocapTotGHA  \\\n",
       "0             0       0         0          0             0             0   \n",
       "1             0       0         0          1             0             0   \n",
       "2             0       0         0          0             1             0   \n",
       "3             0       0         0          0             0             1   \n",
       "4             0       0         0          0             0             0   \n",
       "5             0       0         0          0             0             0   \n",
       "6             0       0         0          0             0             0   \n",
       "7             0       0         0          0             0             0   \n",
       "8             0       0         0          0             0             0   \n",
       "9             0       0         0          1             0             0   \n",
       "\n",
       "   EFConsPerCap  EFConsTotGHA  EFProdPerCap  EFProdTotGHA  \n",
       "0             0             0             0             0  \n",
       "1             0             0             0             0  \n",
       "2             0             0             0             0  \n",
       "3             0             0             0             0  \n",
       "4             1             0             0             0  \n",
       "5             0             1             0             0  \n",
       "6             0             0             1             0  \n",
       "7             0             0             0             1  \n",
       "8             0             0             0             0  \n",
       "9             0             0             0             0  \n",
       "\n",
       "[10 rows x 211 columns]"
      ]
     },
     "execution_count": 431,
     "metadata": {},
     "output_type": "execute_result"
    }
   ],
   "source": [
    "countryen = pd.get_dummies(final_df.country, drop_first = True)\n",
    "recorden = pd.get_dummies(final_df.record, drop_first = True)\n",
    "\n",
    "final_df1 = pd.concat([final_df, countryen, recorden], axis = 1)\n",
    "final_df1.head(10)"
   ]
  },
  {
   "cell_type": "code",
   "execution_count": 432,
   "metadata": {},
   "outputs": [
    {
     "data": {
      "text/html": [
       "<div>\n",
       "<style scoped>\n",
       "    .dataframe tbody tr th:only-of-type {\n",
       "        vertical-align: middle;\n",
       "    }\n",
       "\n",
       "    .dataframe tbody tr th {\n",
       "        vertical-align: top;\n",
       "    }\n",
       "\n",
       "    .dataframe thead th {\n",
       "        text-align: right;\n",
       "    }\n",
       "</style>\n",
       "<table border=\"1\" class=\"dataframe\">\n",
       "  <thead>\n",
       "    <tr style=\"text-align: right;\">\n",
       "      <th></th>\n",
       "      <th>year</th>\n",
       "      <th>country_code</th>\n",
       "      <th>crop_land</th>\n",
       "      <th>grazing_land</th>\n",
       "      <th>forest_land</th>\n",
       "      <th>fishing_ground</th>\n",
       "      <th>built_up_land</th>\n",
       "      <th>carbon</th>\n",
       "      <th>total</th>\n",
       "      <th>QScore</th>\n",
       "      <th>...</th>\n",
       "      <th>Yugoslav SFR</th>\n",
       "      <th>Zambia</th>\n",
       "      <th>Zimbabwe</th>\n",
       "      <th>AreaTotHA</th>\n",
       "      <th>BiocapPerCap</th>\n",
       "      <th>BiocapTotGHA</th>\n",
       "      <th>EFConsPerCap</th>\n",
       "      <th>EFConsTotGHA</th>\n",
       "      <th>EFProdPerCap</th>\n",
       "      <th>EFProdTotGHA</th>\n",
       "    </tr>\n",
       "  </thead>\n",
       "  <tbody>\n",
       "    <tr>\n",
       "      <th>0</th>\n",
       "      <td>1992</td>\n",
       "      <td>3</td>\n",
       "      <td>0.140292</td>\n",
       "      <td>0.199546</td>\n",
       "      <td>0.097188</td>\n",
       "      <td>0.036888</td>\n",
       "      <td>0.029320</td>\n",
       "      <td>0.000000</td>\n",
       "      <td>5.032351e-01</td>\n",
       "      <td>4</td>\n",
       "      <td>...</td>\n",
       "      <td>0</td>\n",
       "      <td>0</td>\n",
       "      <td>0</td>\n",
       "      <td>0</td>\n",
       "      <td>0</td>\n",
       "      <td>0</td>\n",
       "      <td>0</td>\n",
       "      <td>0</td>\n",
       "      <td>0</td>\n",
       "      <td>0</td>\n",
       "    </tr>\n",
       "    <tr>\n",
       "      <th>1</th>\n",
       "      <td>1992</td>\n",
       "      <td>3</td>\n",
       "      <td>483000.000000</td>\n",
       "      <td>687000.000000</td>\n",
       "      <td>334600.000000</td>\n",
       "      <td>127000.000000</td>\n",
       "      <td>100943.000800</td>\n",
       "      <td>0.000000</td>\n",
       "      <td>1.732543e+06</td>\n",
       "      <td>4</td>\n",
       "      <td>...</td>\n",
       "      <td>0</td>\n",
       "      <td>0</td>\n",
       "      <td>0</td>\n",
       "      <td>1</td>\n",
       "      <td>0</td>\n",
       "      <td>0</td>\n",
       "      <td>0</td>\n",
       "      <td>0</td>\n",
       "      <td>0</td>\n",
       "      <td>0</td>\n",
       "    </tr>\n",
       "    <tr>\n",
       "      <th>2</th>\n",
       "      <td>1992</td>\n",
       "      <td>3</td>\n",
       "      <td>0.159804</td>\n",
       "      <td>0.135261</td>\n",
       "      <td>0.084003</td>\n",
       "      <td>0.013742</td>\n",
       "      <td>0.033398</td>\n",
       "      <td>0.000000</td>\n",
       "      <td>4.262086e-01</td>\n",
       "      <td>4</td>\n",
       "      <td>...</td>\n",
       "      <td>0</td>\n",
       "      <td>0</td>\n",
       "      <td>0</td>\n",
       "      <td>0</td>\n",
       "      <td>1</td>\n",
       "      <td>0</td>\n",
       "      <td>0</td>\n",
       "      <td>0</td>\n",
       "      <td>0</td>\n",
       "      <td>0</td>\n",
       "    </tr>\n",
       "    <tr>\n",
       "      <th>3</th>\n",
       "      <td>1992</td>\n",
       "      <td>3</td>\n",
       "      <td>550176.242700</td>\n",
       "      <td>465677.972200</td>\n",
       "      <td>289207.107800</td>\n",
       "      <td>47311.551720</td>\n",
       "      <td>114982.279300</td>\n",
       "      <td>0.000000</td>\n",
       "      <td>1.467355e+06</td>\n",
       "      <td>4</td>\n",
       "      <td>...</td>\n",
       "      <td>0</td>\n",
       "      <td>0</td>\n",
       "      <td>0</td>\n",
       "      <td>0</td>\n",
       "      <td>0</td>\n",
       "      <td>1</td>\n",
       "      <td>0</td>\n",
       "      <td>0</td>\n",
       "      <td>0</td>\n",
       "      <td>0</td>\n",
       "    </tr>\n",
       "    <tr>\n",
       "      <th>4</th>\n",
       "      <td>1992</td>\n",
       "      <td>3</td>\n",
       "      <td>0.387510</td>\n",
       "      <td>0.189462</td>\n",
       "      <td>0.003428</td>\n",
       "      <td>0.004165</td>\n",
       "      <td>0.033398</td>\n",
       "      <td>1.114093</td>\n",
       "      <td>1.728629e+00</td>\n",
       "      <td>4</td>\n",
       "      <td>...</td>\n",
       "      <td>0</td>\n",
       "      <td>0</td>\n",
       "      <td>0</td>\n",
       "      <td>0</td>\n",
       "      <td>0</td>\n",
       "      <td>0</td>\n",
       "      <td>1</td>\n",
       "      <td>0</td>\n",
       "      <td>0</td>\n",
       "      <td>0</td>\n",
       "    </tr>\n",
       "  </tbody>\n",
       "</table>\n",
       "<p>5 rows × 209 columns</p>\n",
       "</div>"
      ],
      "text/plain": [
       "   year  country_code      crop_land   grazing_land    forest_land  \\\n",
       "0  1992             3       0.140292       0.199546       0.097188   \n",
       "1  1992             3  483000.000000  687000.000000  334600.000000   \n",
       "2  1992             3       0.159804       0.135261       0.084003   \n",
       "3  1992             3  550176.242700  465677.972200  289207.107800   \n",
       "4  1992             3       0.387510       0.189462       0.003428   \n",
       "\n",
       "   fishing_ground  built_up_land    carbon         total  QScore  ...  \\\n",
       "0        0.036888       0.029320  0.000000  5.032351e-01       4  ...   \n",
       "1   127000.000000  100943.000800  0.000000  1.732543e+06       4  ...   \n",
       "2        0.013742       0.033398  0.000000  4.262086e-01       4  ...   \n",
       "3    47311.551720  114982.279300  0.000000  1.467355e+06       4  ...   \n",
       "4        0.004165       0.033398  1.114093  1.728629e+00       4  ...   \n",
       "\n",
       "   Yugoslav SFR  Zambia  Zimbabwe  AreaTotHA  BiocapPerCap  BiocapTotGHA  \\\n",
       "0             0       0         0          0             0             0   \n",
       "1             0       0         0          1             0             0   \n",
       "2             0       0         0          0             1             0   \n",
       "3             0       0         0          0             0             1   \n",
       "4             0       0         0          0             0             0   \n",
       "\n",
       "   EFConsPerCap  EFConsTotGHA  EFProdPerCap  EFProdTotGHA  \n",
       "0             0             0             0             0  \n",
       "1             0             0             0             0  \n",
       "2             0             0             0             0  \n",
       "3             0             0             0             0  \n",
       "4             1             0             0             0  \n",
       "\n",
       "[5 rows x 209 columns]"
      ]
     },
     "execution_count": 432,
     "metadata": {},
     "output_type": "execute_result"
    }
   ],
   "source": [
    "final_df1 = final_df1.drop(['country', 'record'], axis = 1)\n",
    "final_df1.head()"
   ]
  },
  {
   "cell_type": "code",
   "execution_count": null,
   "metadata": {},
   "outputs": [],
   "source": []
  },
  {
   "cell_type": "code",
   "execution_count": null,
   "metadata": {},
   "outputs": [],
   "source": []
  },
  {
   "cell_type": "raw",
   "metadata": {},
   "source": [
    "count_stable = len(df1[df1['QScore']=='stable'])\n",
    "count_unstable = len(df1[df1['stabf']=='unstable'])\n",
    "pct_of_stable = count_stable / (count_unstable+count_stable)\n",
    "print(\"percentage of satble is\", pct_of_stable*100)\n",
    "pct_of_unstable = count_unstable / (count_unstable+count_stable)\n",
    "print(\"percentage of unstable\", pct_of_unstable*100)"
   ]
  },
  {
   "cell_type": "markdown",
   "metadata": {},
   "source": [
    "### our class is imbalnced we can see stable ratio is 36:64, we will use SMOTE to handle imbalanced data."
   ]
  },
  {
   "cell_type": "code",
   "execution_count": 433,
   "metadata": {},
   "outputs": [
    {
     "name": "stdout",
     "output_type": "stream",
     "text": [
      "<class 'pandas.core.frame.DataFrame'>\n",
      "Int64Index: 72177 entries, 0 to 72185\n",
      "Columns: 209 entries, year to EFProdTotGHA\n",
      "dtypes: float64(7), int32(1), int64(2), uint8(199)\n",
      "memory usage: 19.5 MB\n"
     ]
    }
   ],
   "source": [
    "final_df1.info()"
   ]
  },
  {
   "cell_type": "raw",
   "metadata": {},
   "source": [
    "df1.stabf =df1.stabf.map(dict(stable=1, unstable=0))"
   ]
  },
  {
   "cell_type": "raw",
   "metadata": {},
   "source": [
    "df1.stabf.value_counts()"
   ]
  },
  {
   "cell_type": "code",
   "execution_count": 434,
   "metadata": {},
   "outputs": [
    {
     "data": {
      "text/html": [
       "<div>\n",
       "<style scoped>\n",
       "    .dataframe tbody tr th:only-of-type {\n",
       "        vertical-align: middle;\n",
       "    }\n",
       "\n",
       "    .dataframe tbody tr th {\n",
       "        vertical-align: top;\n",
       "    }\n",
       "\n",
       "    .dataframe thead th {\n",
       "        text-align: right;\n",
       "    }\n",
       "</style>\n",
       "<table border=\"1\" class=\"dataframe\">\n",
       "  <thead>\n",
       "    <tr style=\"text-align: right;\">\n",
       "      <th></th>\n",
       "      <th>year</th>\n",
       "      <th>country_code</th>\n",
       "      <th>crop_land</th>\n",
       "      <th>grazing_land</th>\n",
       "      <th>forest_land</th>\n",
       "      <th>fishing_ground</th>\n",
       "      <th>built_up_land</th>\n",
       "      <th>carbon</th>\n",
       "      <th>total</th>\n",
       "      <th>QScore</th>\n",
       "      <th>...</th>\n",
       "      <th>Yugoslav SFR</th>\n",
       "      <th>Zambia</th>\n",
       "      <th>Zimbabwe</th>\n",
       "      <th>AreaTotHA</th>\n",
       "      <th>BiocapPerCap</th>\n",
       "      <th>BiocapTotGHA</th>\n",
       "      <th>EFConsPerCap</th>\n",
       "      <th>EFConsTotGHA</th>\n",
       "      <th>EFProdPerCap</th>\n",
       "      <th>EFProdTotGHA</th>\n",
       "    </tr>\n",
       "  </thead>\n",
       "  <tbody>\n",
       "    <tr>\n",
       "      <th>0</th>\n",
       "      <td>1992</td>\n",
       "      <td>3</td>\n",
       "      <td>1.402924e-01</td>\n",
       "      <td>1.995463e-01</td>\n",
       "      <td>9.718805e-02</td>\n",
       "      <td>3.688847e-02</td>\n",
       "      <td>2.931995e-02</td>\n",
       "      <td>0.000000e+00</td>\n",
       "      <td>5.032351e-01</td>\n",
       "      <td>4</td>\n",
       "      <td>...</td>\n",
       "      <td>0</td>\n",
       "      <td>0</td>\n",
       "      <td>0</td>\n",
       "      <td>0</td>\n",
       "      <td>0</td>\n",
       "      <td>0</td>\n",
       "      <td>0</td>\n",
       "      <td>0</td>\n",
       "      <td>0</td>\n",
       "      <td>0</td>\n",
       "    </tr>\n",
       "    <tr>\n",
       "      <th>1</th>\n",
       "      <td>1992</td>\n",
       "      <td>3</td>\n",
       "      <td>4.830000e+05</td>\n",
       "      <td>6.870000e+05</td>\n",
       "      <td>3.346000e+05</td>\n",
       "      <td>1.270000e+05</td>\n",
       "      <td>1.009430e+05</td>\n",
       "      <td>0.000000e+00</td>\n",
       "      <td>1.732543e+06</td>\n",
       "      <td>4</td>\n",
       "      <td>...</td>\n",
       "      <td>0</td>\n",
       "      <td>0</td>\n",
       "      <td>0</td>\n",
       "      <td>1</td>\n",
       "      <td>0</td>\n",
       "      <td>0</td>\n",
       "      <td>0</td>\n",
       "      <td>0</td>\n",
       "      <td>0</td>\n",
       "      <td>0</td>\n",
       "    </tr>\n",
       "    <tr>\n",
       "      <th>2</th>\n",
       "      <td>1992</td>\n",
       "      <td>3</td>\n",
       "      <td>1.598044e-01</td>\n",
       "      <td>1.352610e-01</td>\n",
       "      <td>8.400321e-02</td>\n",
       "      <td>1.374213e-02</td>\n",
       "      <td>3.339780e-02</td>\n",
       "      <td>0.000000e+00</td>\n",
       "      <td>4.262086e-01</td>\n",
       "      <td>4</td>\n",
       "      <td>...</td>\n",
       "      <td>0</td>\n",
       "      <td>0</td>\n",
       "      <td>0</td>\n",
       "      <td>0</td>\n",
       "      <td>1</td>\n",
       "      <td>0</td>\n",
       "      <td>0</td>\n",
       "      <td>0</td>\n",
       "      <td>0</td>\n",
       "      <td>0</td>\n",
       "    </tr>\n",
       "    <tr>\n",
       "      <th>3</th>\n",
       "      <td>1992</td>\n",
       "      <td>3</td>\n",
       "      <td>5.501762e+05</td>\n",
       "      <td>4.656780e+05</td>\n",
       "      <td>2.892071e+05</td>\n",
       "      <td>4.731155e+04</td>\n",
       "      <td>1.149823e+05</td>\n",
       "      <td>0.000000e+00</td>\n",
       "      <td>1.467355e+06</td>\n",
       "      <td>4</td>\n",
       "      <td>...</td>\n",
       "      <td>0</td>\n",
       "      <td>0</td>\n",
       "      <td>0</td>\n",
       "      <td>0</td>\n",
       "      <td>0</td>\n",
       "      <td>1</td>\n",
       "      <td>0</td>\n",
       "      <td>0</td>\n",
       "      <td>0</td>\n",
       "      <td>0</td>\n",
       "    </tr>\n",
       "    <tr>\n",
       "      <th>4</th>\n",
       "      <td>1992</td>\n",
       "      <td>3</td>\n",
       "      <td>3.875102e-01</td>\n",
       "      <td>1.894622e-01</td>\n",
       "      <td>3.428175e-03</td>\n",
       "      <td>4.164833e-03</td>\n",
       "      <td>3.339780e-02</td>\n",
       "      <td>1.114093e+00</td>\n",
       "      <td>1.728629e+00</td>\n",
       "      <td>4</td>\n",
       "      <td>...</td>\n",
       "      <td>0</td>\n",
       "      <td>0</td>\n",
       "      <td>0</td>\n",
       "      <td>0</td>\n",
       "      <td>0</td>\n",
       "      <td>0</td>\n",
       "      <td>1</td>\n",
       "      <td>0</td>\n",
       "      <td>0</td>\n",
       "      <td>0</td>\n",
       "    </tr>\n",
       "    <tr>\n",
       "      <th>...</th>\n",
       "      <td>...</td>\n",
       "      <td>...</td>\n",
       "      <td>...</td>\n",
       "      <td>...</td>\n",
       "      <td>...</td>\n",
       "      <td>...</td>\n",
       "      <td>...</td>\n",
       "      <td>...</td>\n",
       "      <td>...</td>\n",
       "      <td>...</td>\n",
       "      <td>...</td>\n",
       "      <td>...</td>\n",
       "      <td>...</td>\n",
       "      <td>...</td>\n",
       "      <td>...</td>\n",
       "      <td>...</td>\n",
       "      <td>...</td>\n",
       "      <td>...</td>\n",
       "      <td>...</td>\n",
       "      <td>...</td>\n",
       "      <td>...</td>\n",
       "    </tr>\n",
       "    <tr>\n",
       "      <th>72181</th>\n",
       "      <td>2014</td>\n",
       "      <td>248</td>\n",
       "      <td>2.949474e+07</td>\n",
       "      <td>1.980234e+07</td>\n",
       "      <td>3.244672e+07</td>\n",
       "      <td>1.298890e+07</td>\n",
       "      <td>2.653022e+06</td>\n",
       "      <td>0.000000e+00</td>\n",
       "      <td>1.475309e+08</td>\n",
       "      <td>4</td>\n",
       "      <td>...</td>\n",
       "      <td>0</td>\n",
       "      <td>0</td>\n",
       "      <td>0</td>\n",
       "      <td>0</td>\n",
       "      <td>0</td>\n",
       "      <td>1</td>\n",
       "      <td>0</td>\n",
       "      <td>0</td>\n",
       "      <td>0</td>\n",
       "      <td>0</td>\n",
       "    </tr>\n",
       "    <tr>\n",
       "      <th>72182</th>\n",
       "      <td>2014</td>\n",
       "      <td>248</td>\n",
       "      <td>5.336445e-01</td>\n",
       "      <td>1.402092e-01</td>\n",
       "      <td>2.734954e-01</td>\n",
       "      <td>8.974253e-02</td>\n",
       "      <td>6.329435e-02</td>\n",
       "      <td>1.646235e+00</td>\n",
       "      <td>2.746619e+00</td>\n",
       "      <td>4</td>\n",
       "      <td>...</td>\n",
       "      <td>0</td>\n",
       "      <td>0</td>\n",
       "      <td>0</td>\n",
       "      <td>0</td>\n",
       "      <td>0</td>\n",
       "      <td>0</td>\n",
       "      <td>1</td>\n",
       "      <td>0</td>\n",
       "      <td>0</td>\n",
       "      <td>0</td>\n",
       "    </tr>\n",
       "    <tr>\n",
       "      <th>72183</th>\n",
       "      <td>2014</td>\n",
       "      <td>248</td>\n",
       "      <td>2.949474e+07</td>\n",
       "      <td>1.980234e+07</td>\n",
       "      <td>3.244672e+07</td>\n",
       "      <td>1.298890e+07</td>\n",
       "      <td>2.653022e+06</td>\n",
       "      <td>3.072609e+07</td>\n",
       "      <td>1.475309e+08</td>\n",
       "      <td>4</td>\n",
       "      <td>...</td>\n",
       "      <td>0</td>\n",
       "      <td>0</td>\n",
       "      <td>0</td>\n",
       "      <td>0</td>\n",
       "      <td>0</td>\n",
       "      <td>0</td>\n",
       "      <td>0</td>\n",
       "      <td>1</td>\n",
       "      <td>0</td>\n",
       "      <td>0</td>\n",
       "    </tr>\n",
       "    <tr>\n",
       "      <th>72184</th>\n",
       "      <td>2014</td>\n",
       "      <td>248</td>\n",
       "      <td>5.336445e-01</td>\n",
       "      <td>1.402092e-01</td>\n",
       "      <td>2.734954e-01</td>\n",
       "      <td>8.974253e-02</td>\n",
       "      <td>6.329435e-02</td>\n",
       "      <td>1.646235e+00</td>\n",
       "      <td>2.746619e+00</td>\n",
       "      <td>4</td>\n",
       "      <td>...</td>\n",
       "      <td>0</td>\n",
       "      <td>0</td>\n",
       "      <td>0</td>\n",
       "      <td>0</td>\n",
       "      <td>0</td>\n",
       "      <td>0</td>\n",
       "      <td>0</td>\n",
       "      <td>0</td>\n",
       "      <td>1</td>\n",
       "      <td>0</td>\n",
       "    </tr>\n",
       "    <tr>\n",
       "      <th>72185</th>\n",
       "      <td>2014</td>\n",
       "      <td>248</td>\n",
       "      <td>2.949474e+07</td>\n",
       "      <td>1.980234e+07</td>\n",
       "      <td>3.244672e+07</td>\n",
       "      <td>1.298890e+07</td>\n",
       "      <td>2.653022e+06</td>\n",
       "      <td>3.072609e+07</td>\n",
       "      <td>1.475309e+08</td>\n",
       "      <td>4</td>\n",
       "      <td>...</td>\n",
       "      <td>0</td>\n",
       "      <td>0</td>\n",
       "      <td>0</td>\n",
       "      <td>0</td>\n",
       "      <td>0</td>\n",
       "      <td>0</td>\n",
       "      <td>0</td>\n",
       "      <td>0</td>\n",
       "      <td>0</td>\n",
       "      <td>1</td>\n",
       "    </tr>\n",
       "  </tbody>\n",
       "</table>\n",
       "<p>72177 rows × 209 columns</p>\n",
       "</div>"
      ],
      "text/plain": [
       "       year  country_code     crop_land  grazing_land   forest_land  \\\n",
       "0      1992             3  1.402924e-01  1.995463e-01  9.718805e-02   \n",
       "1      1992             3  4.830000e+05  6.870000e+05  3.346000e+05   \n",
       "2      1992             3  1.598044e-01  1.352610e-01  8.400321e-02   \n",
       "3      1992             3  5.501762e+05  4.656780e+05  2.892071e+05   \n",
       "4      1992             3  3.875102e-01  1.894622e-01  3.428175e-03   \n",
       "...     ...           ...           ...           ...           ...   \n",
       "72181  2014           248  2.949474e+07  1.980234e+07  3.244672e+07   \n",
       "72182  2014           248  5.336445e-01  1.402092e-01  2.734954e-01   \n",
       "72183  2014           248  2.949474e+07  1.980234e+07  3.244672e+07   \n",
       "72184  2014           248  5.336445e-01  1.402092e-01  2.734954e-01   \n",
       "72185  2014           248  2.949474e+07  1.980234e+07  3.244672e+07   \n",
       "\n",
       "       fishing_ground  built_up_land        carbon         total  QScore  ...  \\\n",
       "0        3.688847e-02   2.931995e-02  0.000000e+00  5.032351e-01       4  ...   \n",
       "1        1.270000e+05   1.009430e+05  0.000000e+00  1.732543e+06       4  ...   \n",
       "2        1.374213e-02   3.339780e-02  0.000000e+00  4.262086e-01       4  ...   \n",
       "3        4.731155e+04   1.149823e+05  0.000000e+00  1.467355e+06       4  ...   \n",
       "4        4.164833e-03   3.339780e-02  1.114093e+00  1.728629e+00       4  ...   \n",
       "...               ...            ...           ...           ...     ...  ...   \n",
       "72181    1.298890e+07   2.653022e+06  0.000000e+00  1.475309e+08       4  ...   \n",
       "72182    8.974253e-02   6.329435e-02  1.646235e+00  2.746619e+00       4  ...   \n",
       "72183    1.298890e+07   2.653022e+06  3.072609e+07  1.475309e+08       4  ...   \n",
       "72184    8.974253e-02   6.329435e-02  1.646235e+00  2.746619e+00       4  ...   \n",
       "72185    1.298890e+07   2.653022e+06  3.072609e+07  1.475309e+08       4  ...   \n",
       "\n",
       "       Yugoslav SFR  Zambia  Zimbabwe  AreaTotHA  BiocapPerCap  BiocapTotGHA  \\\n",
       "0                 0       0         0          0             0             0   \n",
       "1                 0       0         0          1             0             0   \n",
       "2                 0       0         0          0             1             0   \n",
       "3                 0       0         0          0             0             1   \n",
       "4                 0       0         0          0             0             0   \n",
       "...             ...     ...       ...        ...           ...           ...   \n",
       "72181             0       0         0          0             0             1   \n",
       "72182             0       0         0          0             0             0   \n",
       "72183             0       0         0          0             0             0   \n",
       "72184             0       0         0          0             0             0   \n",
       "72185             0       0         0          0             0             0   \n",
       "\n",
       "       EFConsPerCap  EFConsTotGHA  EFProdPerCap  EFProdTotGHA  \n",
       "0                 0             0             0             0  \n",
       "1                 0             0             0             0  \n",
       "2                 0             0             0             0  \n",
       "3                 0             0             0             0  \n",
       "4                 1             0             0             0  \n",
       "...             ...           ...           ...           ...  \n",
       "72181             0             0             0             0  \n",
       "72182             1             0             0             0  \n",
       "72183             0             1             0             0  \n",
       "72184             0             0             1             0  \n",
       "72185             0             0             0             1  \n",
       "\n",
       "[72177 rows x 209 columns]"
      ]
     },
     "execution_count": 434,
     "metadata": {},
     "output_type": "execute_result"
    }
   ],
   "source": [
    "final_df1"
   ]
  },
  {
   "cell_type": "code",
   "execution_count": 207,
   "metadata": {},
   "outputs": [
    {
     "data": {
      "text/plain": [
       "year           -0.160462\n",
       "country_code    0.043340\n",
       "crop_land       0.638198\n",
       "grazing_land    0.598982\n",
       "forest_land     0.516307\n",
       "                  ...   \n",
       "BiocapTotGHA    2.267475\n",
       "EFConsPerCap    2.268049\n",
       "EFConsTotGHA    2.267666\n",
       "EFProdPerCap    2.268049\n",
       "EFProdTotGHA    2.267666\n",
       "Length: 209, dtype: float64"
      ]
     },
     "execution_count": 207,
     "metadata": {},
     "output_type": "execute_result"
    }
   ],
   "source": [
    "final_df1.skew()"
   ]
  },
  {
   "cell_type": "markdown",
   "metadata": {},
   "source": [
    "### tau1, tau3, tau4, p1 and g2 are negative / left skewed\n",
    "### and rest all are positive / right skewed p2,p3 and p4 have negative values so we cant use log transform here"
   ]
  },
  {
   "cell_type": "code",
   "execution_count": 137,
   "metadata": {},
   "outputs": [],
   "source": [
    "from scipy import stats\n",
    "from scipy.special import boxcox, inv_boxcox\n",
    "from scipy.stats import boxcox_llf, yeojohnson\n",
    "from sklearn.preprocessing import PowerTransformer"
   ]
  },
  {
   "cell_type": "code",
   "execution_count": 139,
   "metadata": {},
   "outputs": [
    {
     "data": {
      "text/plain": [
       "year              int64\n",
       "country_code      int64\n",
       "crop_land       float64\n",
       "grazing_land    float64\n",
       "forest_land     float64\n",
       "                 ...   \n",
       "BiocapTotGHA      uint8\n",
       "EFConsPerCap      uint8\n",
       "EFConsTotGHA      uint8\n",
       "EFProdPerCap      uint8\n",
       "EFProdTotGHA      uint8\n",
       "Length: 209, dtype: object"
      ]
     },
     "execution_count": 139,
     "metadata": {},
     "output_type": "execute_result"
    }
   ],
   "source": [
    "final_df1.dtypes"
   ]
  },
  {
   "cell_type": "code",
   "execution_count": 208,
   "metadata": {},
   "outputs": [],
   "source": [
    "dftf = final_df1.drop('QScore',axis=1)"
   ]
  },
  {
   "cell_type": "code",
   "execution_count": 209,
   "metadata": {},
   "outputs": [],
   "source": [
    "from sklearn.preprocessing import StandardScaler # importing StandardScaler method"
   ]
  },
  {
   "cell_type": "code",
   "execution_count": 210,
   "metadata": {},
   "outputs": [],
   "source": [
    "scaler = StandardScaler() # Creating an object for method StandardScaler()"
   ]
  },
  {
   "cell_type": "code",
   "execution_count": 211,
   "metadata": {},
   "outputs": [],
   "source": [
    "dftf[dftf.columns] = scaler.fit_transform(dftf) # Fitting and transforming data using scaler"
   ]
  },
  {
   "cell_type": "code",
   "execution_count": 212,
   "metadata": {},
   "outputs": [
    {
     "name": "stderr",
     "output_type": "stream",
     "text": [
      "C:\\Users\\mahesh\\AppData\\Local\\Temp/ipykernel_14072/144901855.py:1: PerformanceWarning: DataFrame is highly fragmented.  This is usually the result of calling `frame.insert` many times, which has poor performance.  Consider joining all columns at once using pd.concat(axis=1) instead.  To get a de-fragmented frame, use `newframe = frame.copy()`\n",
      "  dftf['QScore'] = final_df1['QScore']\n"
     ]
    }
   ],
   "source": [
    "dftf['QScore'] = final_df1['QScore']"
   ]
  },
  {
   "cell_type": "code",
   "execution_count": 213,
   "metadata": {},
   "outputs": [
    {
     "data": {
      "text/html": [
       "<div>\n",
       "<style scoped>\n",
       "    .dataframe tbody tr th:only-of-type {\n",
       "        vertical-align: middle;\n",
       "    }\n",
       "\n",
       "    .dataframe tbody tr th {\n",
       "        vertical-align: top;\n",
       "    }\n",
       "\n",
       "    .dataframe thead th {\n",
       "        text-align: right;\n",
       "    }\n",
       "</style>\n",
       "<table border=\"1\" class=\"dataframe\">\n",
       "  <thead>\n",
       "    <tr style=\"text-align: right;\">\n",
       "      <th></th>\n",
       "      <th>year</th>\n",
       "      <th>country_code</th>\n",
       "      <th>crop_land</th>\n",
       "      <th>grazing_land</th>\n",
       "      <th>forest_land</th>\n",
       "      <th>fishing_ground</th>\n",
       "      <th>built_up_land</th>\n",
       "      <th>carbon</th>\n",
       "      <th>total</th>\n",
       "      <th>Albania</th>\n",
       "      <th>...</th>\n",
       "      <th>Zambia</th>\n",
       "      <th>Zimbabwe</th>\n",
       "      <th>AreaTotHA</th>\n",
       "      <th>BiocapPerCap</th>\n",
       "      <th>BiocapTotGHA</th>\n",
       "      <th>EFConsPerCap</th>\n",
       "      <th>EFConsTotGHA</th>\n",
       "      <th>EFProdPerCap</th>\n",
       "      <th>EFProdTotGHA</th>\n",
       "      <th>QScore</th>\n",
       "    </tr>\n",
       "  </thead>\n",
       "  <tbody>\n",
       "    <tr>\n",
       "      <th>0</th>\n",
       "      <td>0.113097</td>\n",
       "      <td>-1.649500</td>\n",
       "      <td>-0.866690</td>\n",
       "      <td>-0.850509</td>\n",
       "      <td>-0.864190</td>\n",
       "      <td>-0.843994</td>\n",
       "      <td>-0.891482</td>\n",
       "      <td>-0.752178</td>\n",
       "      <td>-0.490817</td>\n",
       "      <td>-0.07903</td>\n",
       "      <td>...</td>\n",
       "      <td>-0.076871</td>\n",
       "      <td>-0.07903</td>\n",
       "      <td>-0.377985</td>\n",
       "      <td>-0.377938</td>\n",
       "      <td>-0.378009</td>\n",
       "      <td>-0.377938</td>\n",
       "      <td>-0.377985</td>\n",
       "      <td>-0.377938</td>\n",
       "      <td>-0.377985</td>\n",
       "      <td>4</td>\n",
       "    </tr>\n",
       "    <tr>\n",
       "      <th>1</th>\n",
       "      <td>0.113097</td>\n",
       "      <td>-1.649500</td>\n",
       "      <td>-0.817360</td>\n",
       "      <td>-0.749879</td>\n",
       "      <td>-0.837265</td>\n",
       "      <td>-0.817981</td>\n",
       "      <td>-0.786536</td>\n",
       "      <td>-0.752178</td>\n",
       "      <td>-0.444784</td>\n",
       "      <td>-0.07903</td>\n",
       "      <td>...</td>\n",
       "      <td>-0.076871</td>\n",
       "      <td>-0.07903</td>\n",
       "      <td>2.645605</td>\n",
       "      <td>-0.377938</td>\n",
       "      <td>-0.378009</td>\n",
       "      <td>-0.377938</td>\n",
       "      <td>-0.377985</td>\n",
       "      <td>-0.377938</td>\n",
       "      <td>-0.377985</td>\n",
       "      <td>4</td>\n",
       "    </tr>\n",
       "    <tr>\n",
       "      <th>2</th>\n",
       "      <td>0.113097</td>\n",
       "      <td>-1.649500</td>\n",
       "      <td>-0.866690</td>\n",
       "      <td>-0.850509</td>\n",
       "      <td>-0.864190</td>\n",
       "      <td>-0.843994</td>\n",
       "      <td>-0.891482</td>\n",
       "      <td>-0.752178</td>\n",
       "      <td>-0.490817</td>\n",
       "      <td>-0.07903</td>\n",
       "      <td>...</td>\n",
       "      <td>-0.076871</td>\n",
       "      <td>-0.07903</td>\n",
       "      <td>-0.377985</td>\n",
       "      <td>2.645940</td>\n",
       "      <td>-0.378009</td>\n",
       "      <td>-0.377938</td>\n",
       "      <td>-0.377985</td>\n",
       "      <td>-0.377938</td>\n",
       "      <td>-0.377985</td>\n",
       "      <td>4</td>\n",
       "    </tr>\n",
       "    <tr>\n",
       "      <th>3</th>\n",
       "      <td>0.113097</td>\n",
       "      <td>-1.649500</td>\n",
       "      <td>-0.810499</td>\n",
       "      <td>-0.782298</td>\n",
       "      <td>-0.840917</td>\n",
       "      <td>-0.834303</td>\n",
       "      <td>-0.771939</td>\n",
       "      <td>-0.752178</td>\n",
       "      <td>-0.451830</td>\n",
       "      <td>-0.07903</td>\n",
       "      <td>...</td>\n",
       "      <td>-0.076871</td>\n",
       "      <td>-0.07903</td>\n",
       "      <td>-0.377985</td>\n",
       "      <td>-0.377938</td>\n",
       "      <td>2.645437</td>\n",
       "      <td>-0.377938</td>\n",
       "      <td>-0.377985</td>\n",
       "      <td>-0.377938</td>\n",
       "      <td>-0.377985</td>\n",
       "      <td>4</td>\n",
       "    </tr>\n",
       "    <tr>\n",
       "      <th>4</th>\n",
       "      <td>0.113097</td>\n",
       "      <td>-1.649500</td>\n",
       "      <td>-0.866690</td>\n",
       "      <td>-0.850509</td>\n",
       "      <td>-0.864190</td>\n",
       "      <td>-0.843994</td>\n",
       "      <td>-0.891482</td>\n",
       "      <td>-0.752178</td>\n",
       "      <td>-0.490817</td>\n",
       "      <td>-0.07903</td>\n",
       "      <td>...</td>\n",
       "      <td>-0.076871</td>\n",
       "      <td>-0.07903</td>\n",
       "      <td>-0.377985</td>\n",
       "      <td>-0.377938</td>\n",
       "      <td>-0.378009</td>\n",
       "      <td>2.645940</td>\n",
       "      <td>-0.377985</td>\n",
       "      <td>-0.377938</td>\n",
       "      <td>-0.377985</td>\n",
       "      <td>4</td>\n",
       "    </tr>\n",
       "    <tr>\n",
       "      <th>...</th>\n",
       "      <td>...</td>\n",
       "      <td>...</td>\n",
       "      <td>...</td>\n",
       "      <td>...</td>\n",
       "      <td>...</td>\n",
       "      <td>...</td>\n",
       "      <td>...</td>\n",
       "      <td>...</td>\n",
       "      <td>...</td>\n",
       "      <td>...</td>\n",
       "      <td>...</td>\n",
       "      <td>...</td>\n",
       "      <td>...</td>\n",
       "      <td>...</td>\n",
       "      <td>...</td>\n",
       "      <td>...</td>\n",
       "      <td>...</td>\n",
       "      <td>...</td>\n",
       "      <td>...</td>\n",
       "      <td>...</td>\n",
       "      <td>...</td>\n",
       "    </tr>\n",
       "    <tr>\n",
       "      <th>72181</th>\n",
       "      <td>1.494719</td>\n",
       "      <td>1.656178</td>\n",
       "      <td>2.145688</td>\n",
       "      <td>2.050097</td>\n",
       "      <td>1.746795</td>\n",
       "      <td>1.816549</td>\n",
       "      <td>1.866771</td>\n",
       "      <td>-0.752178</td>\n",
       "      <td>3.428966</td>\n",
       "      <td>-0.07903</td>\n",
       "      <td>...</td>\n",
       "      <td>-0.076871</td>\n",
       "      <td>-0.07903</td>\n",
       "      <td>-0.377985</td>\n",
       "      <td>-0.377938</td>\n",
       "      <td>2.645437</td>\n",
       "      <td>-0.377938</td>\n",
       "      <td>-0.377985</td>\n",
       "      <td>-0.377938</td>\n",
       "      <td>-0.377985</td>\n",
       "      <td>4</td>\n",
       "    </tr>\n",
       "    <tr>\n",
       "      <th>72182</th>\n",
       "      <td>1.494719</td>\n",
       "      <td>1.656178</td>\n",
       "      <td>-0.866690</td>\n",
       "      <td>-0.850509</td>\n",
       "      <td>-0.864190</td>\n",
       "      <td>-0.843994</td>\n",
       "      <td>-0.891482</td>\n",
       "      <td>-0.752178</td>\n",
       "      <td>-0.490816</td>\n",
       "      <td>-0.07903</td>\n",
       "      <td>...</td>\n",
       "      <td>-0.076871</td>\n",
       "      <td>-0.07903</td>\n",
       "      <td>-0.377985</td>\n",
       "      <td>-0.377938</td>\n",
       "      <td>-0.378009</td>\n",
       "      <td>2.645940</td>\n",
       "      <td>-0.377985</td>\n",
       "      <td>-0.377938</td>\n",
       "      <td>-0.377985</td>\n",
       "      <td>4</td>\n",
       "    </tr>\n",
       "    <tr>\n",
       "      <th>72183</th>\n",
       "      <td>1.494719</td>\n",
       "      <td>1.656178</td>\n",
       "      <td>2.145688</td>\n",
       "      <td>2.050097</td>\n",
       "      <td>1.746795</td>\n",
       "      <td>1.816549</td>\n",
       "      <td>1.866771</td>\n",
       "      <td>1.402933</td>\n",
       "      <td>3.428966</td>\n",
       "      <td>-0.07903</td>\n",
       "      <td>...</td>\n",
       "      <td>-0.076871</td>\n",
       "      <td>-0.07903</td>\n",
       "      <td>-0.377985</td>\n",
       "      <td>-0.377938</td>\n",
       "      <td>-0.378009</td>\n",
       "      <td>-0.377938</td>\n",
       "      <td>2.645605</td>\n",
       "      <td>-0.377938</td>\n",
       "      <td>-0.377985</td>\n",
       "      <td>4</td>\n",
       "    </tr>\n",
       "    <tr>\n",
       "      <th>72184</th>\n",
       "      <td>1.494719</td>\n",
       "      <td>1.656178</td>\n",
       "      <td>-0.866690</td>\n",
       "      <td>-0.850509</td>\n",
       "      <td>-0.864190</td>\n",
       "      <td>-0.843994</td>\n",
       "      <td>-0.891482</td>\n",
       "      <td>-0.752178</td>\n",
       "      <td>-0.490816</td>\n",
       "      <td>-0.07903</td>\n",
       "      <td>...</td>\n",
       "      <td>-0.076871</td>\n",
       "      <td>-0.07903</td>\n",
       "      <td>-0.377985</td>\n",
       "      <td>-0.377938</td>\n",
       "      <td>-0.378009</td>\n",
       "      <td>-0.377938</td>\n",
       "      <td>-0.377985</td>\n",
       "      <td>2.645940</td>\n",
       "      <td>-0.377985</td>\n",
       "      <td>4</td>\n",
       "    </tr>\n",
       "    <tr>\n",
       "      <th>72185</th>\n",
       "      <td>1.494719</td>\n",
       "      <td>1.656178</td>\n",
       "      <td>2.145688</td>\n",
       "      <td>2.050097</td>\n",
       "      <td>1.746795</td>\n",
       "      <td>1.816549</td>\n",
       "      <td>1.866771</td>\n",
       "      <td>1.402933</td>\n",
       "      <td>3.428966</td>\n",
       "      <td>-0.07903</td>\n",
       "      <td>...</td>\n",
       "      <td>-0.076871</td>\n",
       "      <td>-0.07903</td>\n",
       "      <td>-0.377985</td>\n",
       "      <td>-0.377938</td>\n",
       "      <td>-0.378009</td>\n",
       "      <td>-0.377938</td>\n",
       "      <td>-0.377985</td>\n",
       "      <td>-0.377938</td>\n",
       "      <td>2.645605</td>\n",
       "      <td>4</td>\n",
       "    </tr>\n",
       "  </tbody>\n",
       "</table>\n",
       "<p>72177 rows × 209 columns</p>\n",
       "</div>"
      ],
      "text/plain": [
       "           year  country_code  crop_land  grazing_land  forest_land  \\\n",
       "0      0.113097     -1.649500  -0.866690     -0.850509    -0.864190   \n",
       "1      0.113097     -1.649500  -0.817360     -0.749879    -0.837265   \n",
       "2      0.113097     -1.649500  -0.866690     -0.850509    -0.864190   \n",
       "3      0.113097     -1.649500  -0.810499     -0.782298    -0.840917   \n",
       "4      0.113097     -1.649500  -0.866690     -0.850509    -0.864190   \n",
       "...         ...           ...        ...           ...          ...   \n",
       "72181  1.494719      1.656178   2.145688      2.050097     1.746795   \n",
       "72182  1.494719      1.656178  -0.866690     -0.850509    -0.864190   \n",
       "72183  1.494719      1.656178   2.145688      2.050097     1.746795   \n",
       "72184  1.494719      1.656178  -0.866690     -0.850509    -0.864190   \n",
       "72185  1.494719      1.656178   2.145688      2.050097     1.746795   \n",
       "\n",
       "       fishing_ground  built_up_land    carbon     total  Albania  ...  \\\n",
       "0           -0.843994      -0.891482 -0.752178 -0.490817 -0.07903  ...   \n",
       "1           -0.817981      -0.786536 -0.752178 -0.444784 -0.07903  ...   \n",
       "2           -0.843994      -0.891482 -0.752178 -0.490817 -0.07903  ...   \n",
       "3           -0.834303      -0.771939 -0.752178 -0.451830 -0.07903  ...   \n",
       "4           -0.843994      -0.891482 -0.752178 -0.490817 -0.07903  ...   \n",
       "...               ...            ...       ...       ...      ...  ...   \n",
       "72181        1.816549       1.866771 -0.752178  3.428966 -0.07903  ...   \n",
       "72182       -0.843994      -0.891482 -0.752178 -0.490816 -0.07903  ...   \n",
       "72183        1.816549       1.866771  1.402933  3.428966 -0.07903  ...   \n",
       "72184       -0.843994      -0.891482 -0.752178 -0.490816 -0.07903  ...   \n",
       "72185        1.816549       1.866771  1.402933  3.428966 -0.07903  ...   \n",
       "\n",
       "         Zambia  Zimbabwe  AreaTotHA  BiocapPerCap  BiocapTotGHA  \\\n",
       "0     -0.076871  -0.07903  -0.377985     -0.377938     -0.378009   \n",
       "1     -0.076871  -0.07903   2.645605     -0.377938     -0.378009   \n",
       "2     -0.076871  -0.07903  -0.377985      2.645940     -0.378009   \n",
       "3     -0.076871  -0.07903  -0.377985     -0.377938      2.645437   \n",
       "4     -0.076871  -0.07903  -0.377985     -0.377938     -0.378009   \n",
       "...         ...       ...        ...           ...           ...   \n",
       "72181 -0.076871  -0.07903  -0.377985     -0.377938      2.645437   \n",
       "72182 -0.076871  -0.07903  -0.377985     -0.377938     -0.378009   \n",
       "72183 -0.076871  -0.07903  -0.377985     -0.377938     -0.378009   \n",
       "72184 -0.076871  -0.07903  -0.377985     -0.377938     -0.378009   \n",
       "72185 -0.076871  -0.07903  -0.377985     -0.377938     -0.378009   \n",
       "\n",
       "       EFConsPerCap  EFConsTotGHA  EFProdPerCap  EFProdTotGHA  QScore  \n",
       "0         -0.377938     -0.377985     -0.377938     -0.377985       4  \n",
       "1         -0.377938     -0.377985     -0.377938     -0.377985       4  \n",
       "2         -0.377938     -0.377985     -0.377938     -0.377985       4  \n",
       "3         -0.377938     -0.377985     -0.377938     -0.377985       4  \n",
       "4          2.645940     -0.377985     -0.377938     -0.377985       4  \n",
       "...             ...           ...           ...           ...     ...  \n",
       "72181     -0.377938     -0.377985     -0.377938     -0.377985       4  \n",
       "72182      2.645940     -0.377985     -0.377938     -0.377985       4  \n",
       "72183     -0.377938      2.645605     -0.377938     -0.377985       4  \n",
       "72184     -0.377938     -0.377985      2.645940     -0.377985       4  \n",
       "72185     -0.377938     -0.377985     -0.377938      2.645605       4  \n",
       "\n",
       "[72177 rows x 209 columns]"
      ]
     },
     "execution_count": 213,
     "metadata": {},
     "output_type": "execute_result"
    }
   ],
   "source": [
    "dftf"
   ]
  },
  {
   "cell_type": "code",
   "execution_count": 214,
   "metadata": {},
   "outputs": [
    {
     "data": {
      "text/plain": [
       "year           -0.160462\n",
       "country_code    0.043340\n",
       "crop_land       0.638198\n",
       "grazing_land    0.598982\n",
       "forest_land     0.516307\n",
       "                  ...   \n",
       "EFConsPerCap    2.268049\n",
       "EFConsTotGHA    2.267666\n",
       "EFProdPerCap    2.268049\n",
       "EFProdTotGHA    2.267666\n",
       "QScore         -1.357499\n",
       "Length: 209, dtype: float64"
      ]
     },
     "execution_count": 214,
     "metadata": {},
     "output_type": "execute_result"
    }
   ],
   "source": [
    "dftf.skew()"
   ]
  },
  {
   "cell_type": "code",
   "execution_count": null,
   "metadata": {},
   "outputs": [],
   "source": []
  },
  {
   "cell_type": "code",
   "execution_count": 232,
   "metadata": {},
   "outputs": [],
   "source": [
    "\n",
    "# transform training data & save lambda value\n",
    "for i in dftf.columns:\n",
    "    dftf[i],fitted_lambda = stats.yeojohnson(df_tf[i])\n",
    "\n",
    "# use lambda value to transform test data\n",
    "#test_data = stats.boxcox(test1, fitted_lambda)\n",
    "\n",
    "# (optional) plot train & test\n",
    "#fig, ax=plt.subplots(1,2)\n",
    "#sns.distplot(train_data, ax=ax[0])\n",
    "#sns.distplot(test_data, ax=ax[1])"
   ]
  },
  {
   "cell_type": "code",
   "execution_count": 233,
   "metadata": {},
   "outputs": [
    {
     "data": {
      "text/plain": [
       "0     -0.026797\n",
       "1     -0.045066\n",
       "2      0.623969\n",
       "3      0.651391\n",
       "4      0.654024\n",
       "         ...   \n",
       "204    2.267475\n",
       "205    2.268049\n",
       "206    2.267666\n",
       "207    2.268049\n",
       "208    2.267666\n",
       "Length: 209, dtype: float64"
      ]
     },
     "execution_count": 233,
     "metadata": {},
     "output_type": "execute_result"
    }
   ],
   "source": [
    "dftf.skew()"
   ]
  },
  {
   "cell_type": "code",
   "execution_count": 234,
   "metadata": {},
   "outputs": [
    {
     "data": {
      "text/plain": [
       "0     -0.026797\n",
       "1     -0.045066\n",
       "2      0.623969\n",
       "3      0.651391\n",
       "4      0.654024\n",
       "         ...   \n",
       "204    2.267475\n",
       "205    2.268049\n",
       "206    2.267666\n",
       "207    2.268049\n",
       "208    2.267666\n",
       "Length: 209, dtype: float64"
      ]
     },
     "execution_count": 234,
     "metadata": {},
     "output_type": "execute_result"
    }
   ],
   "source": [
    "df_tf.skew()"
   ]
  },
  {
   "cell_type": "code",
   "execution_count": 215,
   "metadata": {},
   "outputs": [
    {
     "data": {
      "text/plain": [
       "Index(['year', 'country_code', 'crop_land', 'grazing_land', 'forest_land',\n",
       "       'fishing_ground', 'built_up_land', 'carbon', 'total', 'Albania',\n",
       "       ...\n",
       "       'Zambia', 'Zimbabwe', 'AreaTotHA', 'BiocapPerCap', 'BiocapTotGHA',\n",
       "       'EFConsPerCap', 'EFConsTotGHA', 'EFProdPerCap', 'EFProdTotGHA',\n",
       "       'QScore'],\n",
       "      dtype='object', length=209)"
      ]
     },
     "execution_count": 215,
     "metadata": {},
     "output_type": "execute_result"
    }
   ],
   "source": [
    "dftf.columns"
   ]
  },
  {
   "cell_type": "code",
   "execution_count": 164,
   "metadata": {},
   "outputs": [],
   "source": [
    "#dftf['country','record','QScore'] = df1['country','record','QScore']\n",
    "dffrmodel = pd.concat([dftf, df1[['country','record','QScore']]], axis=1)"
   ]
  },
  {
   "cell_type": "code",
   "execution_count": 238,
   "metadata": {},
   "outputs": [
    {
     "data": {
      "text/html": [
       "<div>\n",
       "<style scoped>\n",
       "    .dataframe tbody tr th:only-of-type {\n",
       "        vertical-align: middle;\n",
       "    }\n",
       "\n",
       "    .dataframe tbody tr th {\n",
       "        vertical-align: top;\n",
       "    }\n",
       "\n",
       "    .dataframe thead th {\n",
       "        text-align: right;\n",
       "    }\n",
       "</style>\n",
       "<table border=\"1\" class=\"dataframe\">\n",
       "  <thead>\n",
       "    <tr style=\"text-align: right;\">\n",
       "      <th></th>\n",
       "      <th>0</th>\n",
       "      <th>1</th>\n",
       "      <th>2</th>\n",
       "      <th>3</th>\n",
       "      <th>4</th>\n",
       "      <th>5</th>\n",
       "      <th>6</th>\n",
       "      <th>7</th>\n",
       "      <th>8</th>\n",
       "      <th>9</th>\n",
       "      <th>...</th>\n",
       "      <th>199</th>\n",
       "      <th>200</th>\n",
       "      <th>201</th>\n",
       "      <th>202</th>\n",
       "      <th>203</th>\n",
       "      <th>204</th>\n",
       "      <th>205</th>\n",
       "      <th>206</th>\n",
       "      <th>207</th>\n",
       "      <th>208</th>\n",
       "    </tr>\n",
       "  </thead>\n",
       "  <tbody>\n",
       "    <tr>\n",
       "      <th>0</th>\n",
       "      <td>0.109386</td>\n",
       "      <td>-0.597967</td>\n",
       "      <td>-0.217682</td>\n",
       "      <td>-0.199258</td>\n",
       "      <td>-0.204457</td>\n",
       "      <td>-0.176300</td>\n",
       "      <td>-0.218842</td>\n",
       "      <td>-0.152026</td>\n",
       "      <td>-0.241027</td>\n",
       "      <td>1.10385</td>\n",
       "      <td>...</td>\n",
       "      <td>-2.822643</td>\n",
       "      <td>-1.654913</td>\n",
       "      <td>-1.58343</td>\n",
       "      <td>-0.981894</td>\n",
       "      <td>-0.981835</td>\n",
       "      <td>-0.981924</td>\n",
       "      <td>-0.981835</td>\n",
       "      <td>-0.981894</td>\n",
       "      <td>-0.981835</td>\n",
       "      <td>-0.981894</td>\n",
       "    </tr>\n",
       "    <tr>\n",
       "      <th>1</th>\n",
       "      <td>0.109386</td>\n",
       "      <td>-0.597967</td>\n",
       "      <td>-0.209613</td>\n",
       "      <td>-0.184506</td>\n",
       "      <td>-0.200544</td>\n",
       "      <td>-0.173006</td>\n",
       "      <td>-0.202623</td>\n",
       "      <td>-0.152026</td>\n",
       "      <td>-0.231072</td>\n",
       "      <td>1.10385</td>\n",
       "      <td>...</td>\n",
       "      <td>-2.822643</td>\n",
       "      <td>-1.654913</td>\n",
       "      <td>-1.58343</td>\n",
       "      <td>0.246396</td>\n",
       "      <td>-0.981835</td>\n",
       "      <td>-0.981924</td>\n",
       "      <td>-0.981835</td>\n",
       "      <td>-0.981894</td>\n",
       "      <td>-0.981835</td>\n",
       "      <td>-0.981894</td>\n",
       "    </tr>\n",
       "    <tr>\n",
       "      <th>2</th>\n",
       "      <td>0.109386</td>\n",
       "      <td>-0.597967</td>\n",
       "      <td>-0.217682</td>\n",
       "      <td>-0.199258</td>\n",
       "      <td>-0.204457</td>\n",
       "      <td>-0.176300</td>\n",
       "      <td>-0.218842</td>\n",
       "      <td>-0.152026</td>\n",
       "      <td>-0.241027</td>\n",
       "      <td>1.10385</td>\n",
       "      <td>...</td>\n",
       "      <td>-2.822643</td>\n",
       "      <td>-1.654913</td>\n",
       "      <td>-1.58343</td>\n",
       "      <td>-0.981894</td>\n",
       "      <td>0.246344</td>\n",
       "      <td>-0.981924</td>\n",
       "      <td>-0.981835</td>\n",
       "      <td>-0.981894</td>\n",
       "      <td>-0.981835</td>\n",
       "      <td>-0.981894</td>\n",
       "    </tr>\n",
       "    <tr>\n",
       "      <th>3</th>\n",
       "      <td>0.109386</td>\n",
       "      <td>-0.597967</td>\n",
       "      <td>-0.208504</td>\n",
       "      <td>-0.189191</td>\n",
       "      <td>-0.201072</td>\n",
       "      <td>-0.175069</td>\n",
       "      <td>-0.200421</td>\n",
       "      <td>-0.152026</td>\n",
       "      <td>-0.232576</td>\n",
       "      <td>1.10385</td>\n",
       "      <td>...</td>\n",
       "      <td>-2.822643</td>\n",
       "      <td>-1.654913</td>\n",
       "      <td>-1.58343</td>\n",
       "      <td>-0.981894</td>\n",
       "      <td>-0.981835</td>\n",
       "      <td>0.246421</td>\n",
       "      <td>-0.981835</td>\n",
       "      <td>-0.981894</td>\n",
       "      <td>-0.981835</td>\n",
       "      <td>-0.981894</td>\n",
       "    </tr>\n",
       "    <tr>\n",
       "      <th>4</th>\n",
       "      <td>0.109386</td>\n",
       "      <td>-0.597967</td>\n",
       "      <td>-0.217682</td>\n",
       "      <td>-0.199258</td>\n",
       "      <td>-0.204457</td>\n",
       "      <td>-0.176300</td>\n",
       "      <td>-0.218842</td>\n",
       "      <td>-0.152026</td>\n",
       "      <td>-0.241027</td>\n",
       "      <td>1.10385</td>\n",
       "      <td>...</td>\n",
       "      <td>-2.822643</td>\n",
       "      <td>-1.654913</td>\n",
       "      <td>-1.58343</td>\n",
       "      <td>-0.981894</td>\n",
       "      <td>-0.981835</td>\n",
       "      <td>-0.981924</td>\n",
       "      <td>0.246344</td>\n",
       "      <td>-0.981894</td>\n",
       "      <td>-0.981835</td>\n",
       "      <td>-0.981894</td>\n",
       "    </tr>\n",
       "    <tr>\n",
       "      <th>...</th>\n",
       "      <td>...</td>\n",
       "      <td>...</td>\n",
       "      <td>...</td>\n",
       "      <td>...</td>\n",
       "      <td>...</td>\n",
       "      <td>...</td>\n",
       "      <td>...</td>\n",
       "      <td>...</td>\n",
       "      <td>...</td>\n",
       "      <td>...</td>\n",
       "      <td>...</td>\n",
       "      <td>...</td>\n",
       "      <td>...</td>\n",
       "      <td>...</td>\n",
       "      <td>...</td>\n",
       "      <td>...</td>\n",
       "      <td>...</td>\n",
       "      <td>...</td>\n",
       "      <td>...</td>\n",
       "      <td>...</td>\n",
       "      <td>...</td>\n",
       "    </tr>\n",
       "    <tr>\n",
       "      <th>72172</th>\n",
       "      <td>1.735993</td>\n",
       "      <td>0.789894</td>\n",
       "      <td>0.167750</td>\n",
       "      <td>0.153243</td>\n",
       "      <td>0.154577</td>\n",
       "      <td>0.136043</td>\n",
       "      <td>0.169487</td>\n",
       "      <td>-0.152026</td>\n",
       "      <td>0.072514</td>\n",
       "      <td>1.10385</td>\n",
       "      <td>...</td>\n",
       "      <td>-2.822643</td>\n",
       "      <td>-1.654913</td>\n",
       "      <td>-1.58343</td>\n",
       "      <td>-0.981894</td>\n",
       "      <td>-0.981835</td>\n",
       "      <td>0.246421</td>\n",
       "      <td>-0.981835</td>\n",
       "      <td>-0.981894</td>\n",
       "      <td>-0.981835</td>\n",
       "      <td>-0.981894</td>\n",
       "    </tr>\n",
       "    <tr>\n",
       "      <th>72173</th>\n",
       "      <td>1.735993</td>\n",
       "      <td>0.789894</td>\n",
       "      <td>-0.217682</td>\n",
       "      <td>-0.199258</td>\n",
       "      <td>-0.204457</td>\n",
       "      <td>-0.176300</td>\n",
       "      <td>-0.218842</td>\n",
       "      <td>-0.152026</td>\n",
       "      <td>-0.241027</td>\n",
       "      <td>1.10385</td>\n",
       "      <td>...</td>\n",
       "      <td>-2.822643</td>\n",
       "      <td>-1.654913</td>\n",
       "      <td>-1.58343</td>\n",
       "      <td>-0.981894</td>\n",
       "      <td>-0.981835</td>\n",
       "      <td>-0.981924</td>\n",
       "      <td>0.246344</td>\n",
       "      <td>-0.981894</td>\n",
       "      <td>-0.981835</td>\n",
       "      <td>-0.981894</td>\n",
       "    </tr>\n",
       "    <tr>\n",
       "      <th>72174</th>\n",
       "      <td>1.735993</td>\n",
       "      <td>0.789894</td>\n",
       "      <td>0.167750</td>\n",
       "      <td>0.153243</td>\n",
       "      <td>0.154577</td>\n",
       "      <td>0.136043</td>\n",
       "      <td>0.169487</td>\n",
       "      <td>0.102084</td>\n",
       "      <td>0.072514</td>\n",
       "      <td>1.10385</td>\n",
       "      <td>...</td>\n",
       "      <td>-2.822643</td>\n",
       "      <td>-1.654913</td>\n",
       "      <td>-1.58343</td>\n",
       "      <td>-0.981894</td>\n",
       "      <td>-0.981835</td>\n",
       "      <td>-0.981924</td>\n",
       "      <td>-0.981835</td>\n",
       "      <td>0.246396</td>\n",
       "      <td>-0.981835</td>\n",
       "      <td>-0.981894</td>\n",
       "    </tr>\n",
       "    <tr>\n",
       "      <th>72175</th>\n",
       "      <td>1.735993</td>\n",
       "      <td>0.789894</td>\n",
       "      <td>-0.217682</td>\n",
       "      <td>-0.199258</td>\n",
       "      <td>-0.204457</td>\n",
       "      <td>-0.176300</td>\n",
       "      <td>-0.218842</td>\n",
       "      <td>-0.152026</td>\n",
       "      <td>-0.241027</td>\n",
       "      <td>1.10385</td>\n",
       "      <td>...</td>\n",
       "      <td>-2.822643</td>\n",
       "      <td>-1.654913</td>\n",
       "      <td>-1.58343</td>\n",
       "      <td>-0.981894</td>\n",
       "      <td>-0.981835</td>\n",
       "      <td>-0.981924</td>\n",
       "      <td>-0.981835</td>\n",
       "      <td>-0.981894</td>\n",
       "      <td>0.246344</td>\n",
       "      <td>-0.981894</td>\n",
       "    </tr>\n",
       "    <tr>\n",
       "      <th>72176</th>\n",
       "      <td>1.735993</td>\n",
       "      <td>0.789894</td>\n",
       "      <td>0.167750</td>\n",
       "      <td>0.153243</td>\n",
       "      <td>0.154577</td>\n",
       "      <td>0.136043</td>\n",
       "      <td>0.169487</td>\n",
       "      <td>0.102084</td>\n",
       "      <td>0.072514</td>\n",
       "      <td>1.10385</td>\n",
       "      <td>...</td>\n",
       "      <td>-2.822643</td>\n",
       "      <td>-1.654913</td>\n",
       "      <td>-1.58343</td>\n",
       "      <td>-0.981894</td>\n",
       "      <td>-0.981835</td>\n",
       "      <td>-0.981924</td>\n",
       "      <td>-0.981835</td>\n",
       "      <td>-0.981894</td>\n",
       "      <td>-0.981835</td>\n",
       "      <td>0.246396</td>\n",
       "    </tr>\n",
       "  </tbody>\n",
       "</table>\n",
       "<p>72177 rows × 209 columns</p>\n",
       "</div>"
      ],
      "text/plain": [
       "            0         1         2         3         4         5         6    \\\n",
       "0      0.109386 -0.597967 -0.217682 -0.199258 -0.204457 -0.176300 -0.218842   \n",
       "1      0.109386 -0.597967 -0.209613 -0.184506 -0.200544 -0.173006 -0.202623   \n",
       "2      0.109386 -0.597967 -0.217682 -0.199258 -0.204457 -0.176300 -0.218842   \n",
       "3      0.109386 -0.597967 -0.208504 -0.189191 -0.201072 -0.175069 -0.200421   \n",
       "4      0.109386 -0.597967 -0.217682 -0.199258 -0.204457 -0.176300 -0.218842   \n",
       "...         ...       ...       ...       ...       ...       ...       ...   \n",
       "72172  1.735993  0.789894  0.167750  0.153243  0.154577  0.136043  0.169487   \n",
       "72173  1.735993  0.789894 -0.217682 -0.199258 -0.204457 -0.176300 -0.218842   \n",
       "72174  1.735993  0.789894  0.167750  0.153243  0.154577  0.136043  0.169487   \n",
       "72175  1.735993  0.789894 -0.217682 -0.199258 -0.204457 -0.176300 -0.218842   \n",
       "72176  1.735993  0.789894  0.167750  0.153243  0.154577  0.136043  0.169487   \n",
       "\n",
       "            7         8        9    ...       199       200      201  \\\n",
       "0     -0.152026 -0.241027  1.10385  ... -2.822643 -1.654913 -1.58343   \n",
       "1     -0.152026 -0.231072  1.10385  ... -2.822643 -1.654913 -1.58343   \n",
       "2     -0.152026 -0.241027  1.10385  ... -2.822643 -1.654913 -1.58343   \n",
       "3     -0.152026 -0.232576  1.10385  ... -2.822643 -1.654913 -1.58343   \n",
       "4     -0.152026 -0.241027  1.10385  ... -2.822643 -1.654913 -1.58343   \n",
       "...         ...       ...      ...  ...       ...       ...      ...   \n",
       "72172 -0.152026  0.072514  1.10385  ... -2.822643 -1.654913 -1.58343   \n",
       "72173 -0.152026 -0.241027  1.10385  ... -2.822643 -1.654913 -1.58343   \n",
       "72174  0.102084  0.072514  1.10385  ... -2.822643 -1.654913 -1.58343   \n",
       "72175 -0.152026 -0.241027  1.10385  ... -2.822643 -1.654913 -1.58343   \n",
       "72176  0.102084  0.072514  1.10385  ... -2.822643 -1.654913 -1.58343   \n",
       "\n",
       "            202       203       204       205       206       207       208  \n",
       "0     -0.981894 -0.981835 -0.981924 -0.981835 -0.981894 -0.981835 -0.981894  \n",
       "1      0.246396 -0.981835 -0.981924 -0.981835 -0.981894 -0.981835 -0.981894  \n",
       "2     -0.981894  0.246344 -0.981924 -0.981835 -0.981894 -0.981835 -0.981894  \n",
       "3     -0.981894 -0.981835  0.246421 -0.981835 -0.981894 -0.981835 -0.981894  \n",
       "4     -0.981894 -0.981835 -0.981924  0.246344 -0.981894 -0.981835 -0.981894  \n",
       "...         ...       ...       ...       ...       ...       ...       ...  \n",
       "72172 -0.981894 -0.981835  0.246421 -0.981835 -0.981894 -0.981835 -0.981894  \n",
       "72173 -0.981894 -0.981835 -0.981924  0.246344 -0.981894 -0.981835 -0.981894  \n",
       "72174 -0.981894 -0.981835 -0.981924 -0.981835  0.246396 -0.981835 -0.981894  \n",
       "72175 -0.981894 -0.981835 -0.981924 -0.981835 -0.981894  0.246344 -0.981894  \n",
       "72176 -0.981894 -0.981835 -0.981924 -0.981835 -0.981894 -0.981835  0.246396  \n",
       "\n",
       "[72177 rows x 209 columns]"
      ]
     },
     "execution_count": 238,
     "metadata": {},
     "output_type": "execute_result"
    }
   ],
   "source": [
    "dftf"
   ]
  },
  {
   "cell_type": "code",
   "execution_count": 237,
   "metadata": {},
   "outputs": [
    {
     "name": "stdout",
     "output_type": "stream",
     "text": [
      "<class 'pandas.core.frame.DataFrame'>\n",
      "RangeIndex: 72177 entries, 0 to 72176\n",
      "Columns: 209 entries, 0 to 208\n",
      "dtypes: float64(209)\n",
      "memory usage: 115.1 MB\n"
     ]
    }
   ],
   "source": [
    "dftf.info()"
   ]
  },
  {
   "cell_type": "code",
   "execution_count": 378,
   "metadata": {},
   "outputs": [],
   "source": [
    "X = dftf.drop('QScore',axis=1)\n",
    "y = dftf['QScore']\n",
    "seed = 1\n",
    "test_size = 0.3\n",
    "X_train, X_test, y_train, y_test = train_test_split(X, y, test_size = test_size, random_state = seed, stratify = y)"
   ]
  },
  {
   "cell_type": "code",
   "execution_count": 379,
   "metadata": {},
   "outputs": [
    {
     "data": {
      "text/plain": [
       "((50523, 208), (21654, 208), (50523,), (21654,))"
      ]
     },
     "execution_count": 379,
     "metadata": {},
     "output_type": "execute_result"
    }
   ],
   "source": [
    "X_train.shape, X_test.shape, y_train.shape, y_test.shape"
   ]
  },
  {
   "cell_type": "code",
   "execution_count": 234,
   "metadata": {},
   "outputs": [],
   "source": [
    "from imblearn.combine import SMOTEENN\n",
    "from imblearn.over_sampling import SMOTE"
   ]
  },
  {
   "cell_type": "code",
   "execution_count": 239,
   "metadata": {},
   "outputs": [],
   "source": [
    "sampling = SMOTE(sampling_strategy = 'auto')"
   ]
  },
  {
   "cell_type": "code",
   "execution_count": 240,
   "metadata": {},
   "outputs": [],
   "source": [
    "X_res, y_res = sampling.fit_resample(X_train, y_train)"
   ]
  },
  {
   "cell_type": "code",
   "execution_count": 241,
   "metadata": {},
   "outputs": [
    {
     "data": {
      "text/plain": [
       "((180155, 208), (180155,))"
      ]
     },
     "execution_count": 241,
     "metadata": {},
     "output_type": "execute_result"
    }
   ],
   "source": [
    "X_res.shape, y_res.shape"
   ]
  },
  {
   "cell_type": "code",
   "execution_count": 242,
   "metadata": {},
   "outputs": [],
   "source": [
    "from collections import Counter"
   ]
  },
  {
   "cell_type": "code",
   "execution_count": 243,
   "metadata": {},
   "outputs": [
    {
     "data": {
      "text/plain": [
       "Counter({4: 36031, 2: 36031, 3: 36031, 0: 36031, 1: 36031})"
      ]
     },
     "execution_count": 243,
     "metadata": {},
     "output_type": "execute_result"
    }
   ],
   "source": [
    "Counter(y_res)"
   ]
  },
  {
   "cell_type": "code",
   "execution_count": null,
   "metadata": {},
   "outputs": [],
   "source": []
  },
  {
   "cell_type": "code",
   "execution_count": 246,
   "metadata": {},
   "outputs": [],
   "source": [
    "from sklearn.feature_selection import RFE\n",
    "from sklearn.linear_model import LogisticRegression"
   ]
  },
  {
   "cell_type": "code",
   "execution_count": null,
   "metadata": {},
   "outputs": [],
   "source": []
  },
  {
   "cell_type": "raw",
   "metadata": {},
   "source": [
    "logreg = LogisticRegression(solver='lbfgs')\n",
    "rfe = RFE(logreg)\n",
    "rfe = rfe.fit(X_res, y_res.values.ravel())\n",
    "print(rfe.support_)\n",
    "print(rfe.ranking_)"
   ]
  },
  {
   "cell_type": "code",
   "execution_count": null,
   "metadata": {},
   "outputs": [],
   "source": []
  },
  {
   "cell_type": "code",
   "execution_count": 252,
   "metadata": {},
   "outputs": [],
   "source": [
    "from sklearn.feature_selection import SelectKBest\n",
    "from sklearn.feature_selection import f_classif"
   ]
  },
  {
   "cell_type": "code",
   "execution_count": 253,
   "metadata": {},
   "outputs": [],
   "source": [
    "uni = SelectKBest(score_func = f_classif, k = 10)\n",
    "fit = uni.fit(X_res, y_res)"
   ]
  },
  {
   "cell_type": "code",
   "execution_count": 262,
   "metadata": {},
   "outputs": [
    {
     "data": {
      "text/plain": [
       "Index(['year', 'crop_land', 'grazing_land', 'forest_land', 'fishing_ground',\n",
       "       'built_up_land', 'carbon', 'Belize', 'Cook Islands', 'Montserrat'],\n",
       "      dtype='object')"
      ]
     },
     "execution_count": 262,
     "metadata": {},
     "output_type": "execute_result"
    }
   ],
   "source": [
    "X_res.columns[fit.get_support(indices=True)]"
   ]
  },
  {
   "cell_type": "code",
   "execution_count": 279,
   "metadata": {},
   "outputs": [],
   "source": [
    "col1=['year', 'crop_land', 'grazing_land', 'forest_land', 'fishing_ground',\n",
    "       'built_up_land', 'carbon', 'Belize', 'Cook Islands', 'Montserrat']\n",
    "\n",
    "X1=X_res[col1]\n",
    "y1=y_res\n",
    "\n",
    "X_test1=X_test[col1]"
   ]
  },
  {
   "cell_type": "code",
   "execution_count": null,
   "metadata": {},
   "outputs": [],
   "source": []
  },
  {
   "cell_type": "code",
   "execution_count": 256,
   "metadata": {},
   "outputs": [],
   "source": [
    "from sklearn.decomposition import PCA"
   ]
  },
  {
   "cell_type": "code",
   "execution_count": 264,
   "metadata": {},
   "outputs": [
    {
     "data": {
      "text/plain": [
       "Index(['Belize', 'Montserrat', 'Cook Islands', 'Solomon Islands', 'carbon',\n",
       "       'country_code', 'Georgia', 'Aruba', 'Honduras', 'New Zealand'],\n",
       "      dtype='object')"
      ]
     },
     "execution_count": 264,
     "metadata": {},
     "output_type": "execute_result"
    }
   ],
   "source": [
    "model=PCA(n_components=10).fit(X_res)\n",
    "n_pcs = model.components_.shape[0]\n",
    "most_important = [np.abs(model.components_[i]).argmax() for i in range(n_pcs)]\n",
    "dftf.columns[most_important]"
   ]
  },
  {
   "cell_type": "code",
   "execution_count": 280,
   "metadata": {},
   "outputs": [],
   "source": [
    "col2=['Belize', 'Montserrat', 'Cook Islands', 'Solomon Islands', 'carbon',\n",
    "       'country_code', 'Georgia', 'Aruba', 'Honduras', 'New Zealand']\n",
    "\n",
    "X2=X_res[col2]\n",
    "y2=y_res\n",
    "\n",
    "X_test2=X_test[col2]"
   ]
  },
  {
   "cell_type": "code",
   "execution_count": null,
   "metadata": {},
   "outputs": [],
   "source": []
  },
  {
   "cell_type": "code",
   "execution_count": 265,
   "metadata": {},
   "outputs": [
    {
     "name": "stderr",
     "output_type": "stream",
     "text": [
      "C:\\Users\\mahesh\\anaconda3\\lib\\site-packages\\statsmodels\\tsa\\tsatools.py:142: FutureWarning: In a future version of pandas all arguments of concat except for the argument 'objs' will be keyword-only\n",
      "  x = pd.concat(x[::order], 1)\n"
     ]
    },
    {
     "data": {
      "text/plain": [
       "const           0.0\n",
       "year            1.0\n",
       "country_code    1.0\n",
       "crop_land       1.0\n",
       "grazing_land    1.0\n",
       "               ... \n",
       "BiocapTotGHA    1.0\n",
       "EFConsPerCap    1.0\n",
       "EFConsTotGHA    1.0\n",
       "EFProdPerCap    1.0\n",
       "EFProdTotGHA    1.0\n",
       "Length: 209, dtype: float64"
      ]
     },
     "execution_count": 265,
     "metadata": {},
     "output_type": "execute_result"
    }
   ],
   "source": [
    "import statsmodels.api as sm\n",
    "X_new = sm.add_constant(X_res)\n",
    "model = sm.OLS(y_res, X_new).fit()\n",
    "model.pvalues"
   ]
  },
  {
   "cell_type": "code",
   "execution_count": 266,
   "metadata": {},
   "outputs": [
    {
     "name": "stderr",
     "output_type": "stream",
     "text": [
      "C:\\Users\\mahesh\\anaconda3\\lib\\site-packages\\statsmodels\\tsa\\tsatools.py:142: FutureWarning: In a future version of pandas all arguments of concat except for the argument 'objs' will be keyword-only\n",
      "  x = pd.concat(x[::order], 1)\n",
      "C:\\Users\\mahesh\\anaconda3\\lib\\site-packages\\statsmodels\\tsa\\tsatools.py:142: FutureWarning: In a future version of pandas all arguments of concat except for the argument 'objs' will be keyword-only\n",
      "  x = pd.concat(x[::order], 1)\n",
      "C:\\Users\\mahesh\\anaconda3\\lib\\site-packages\\statsmodels\\tsa\\tsatools.py:142: FutureWarning: In a future version of pandas all arguments of concat except for the argument 'objs' will be keyword-only\n",
      "  x = pd.concat(x[::order], 1)\n",
      "C:\\Users\\mahesh\\anaconda3\\lib\\site-packages\\statsmodels\\tsa\\tsatools.py:142: FutureWarning: In a future version of pandas all arguments of concat except for the argument 'objs' will be keyword-only\n",
      "  x = pd.concat(x[::order], 1)\n",
      "C:\\Users\\mahesh\\anaconda3\\lib\\site-packages\\statsmodels\\tsa\\tsatools.py:142: FutureWarning: In a future version of pandas all arguments of concat except for the argument 'objs' will be keyword-only\n",
      "  x = pd.concat(x[::order], 1)\n",
      "C:\\Users\\mahesh\\anaconda3\\lib\\site-packages\\statsmodels\\tsa\\tsatools.py:142: FutureWarning: In a future version of pandas all arguments of concat except for the argument 'objs' will be keyword-only\n",
      "  x = pd.concat(x[::order], 1)\n",
      "C:\\Users\\mahesh\\anaconda3\\lib\\site-packages\\statsmodels\\tsa\\tsatools.py:142: FutureWarning: In a future version of pandas all arguments of concat except for the argument 'objs' will be keyword-only\n",
      "  x = pd.concat(x[::order], 1)\n",
      "C:\\Users\\mahesh\\anaconda3\\lib\\site-packages\\statsmodels\\tsa\\tsatools.py:142: FutureWarning: In a future version of pandas all arguments of concat except for the argument 'objs' will be keyword-only\n",
      "  x = pd.concat(x[::order], 1)\n",
      "C:\\Users\\mahesh\\anaconda3\\lib\\site-packages\\statsmodels\\tsa\\tsatools.py:142: FutureWarning: In a future version of pandas all arguments of concat except for the argument 'objs' will be keyword-only\n",
      "  x = pd.concat(x[::order], 1)\n",
      "C:\\Users\\mahesh\\anaconda3\\lib\\site-packages\\statsmodels\\tsa\\tsatools.py:142: FutureWarning: In a future version of pandas all arguments of concat except for the argument 'objs' will be keyword-only\n",
      "  x = pd.concat(x[::order], 1)\n",
      "C:\\Users\\mahesh\\anaconda3\\lib\\site-packages\\statsmodels\\tsa\\tsatools.py:142: FutureWarning: In a future version of pandas all arguments of concat except for the argument 'objs' will be keyword-only\n",
      "  x = pd.concat(x[::order], 1)\n",
      "C:\\Users\\mahesh\\anaconda3\\lib\\site-packages\\statsmodels\\tsa\\tsatools.py:142: FutureWarning: In a future version of pandas all arguments of concat except for the argument 'objs' will be keyword-only\n",
      "  x = pd.concat(x[::order], 1)\n",
      "C:\\Users\\mahesh\\anaconda3\\lib\\site-packages\\statsmodels\\tsa\\tsatools.py:142: FutureWarning: In a future version of pandas all arguments of concat except for the argument 'objs' will be keyword-only\n",
      "  x = pd.concat(x[::order], 1)\n",
      "C:\\Users\\mahesh\\anaconda3\\lib\\site-packages\\statsmodels\\tsa\\tsatools.py:142: FutureWarning: In a future version of pandas all arguments of concat except for the argument 'objs' will be keyword-only\n",
      "  x = pd.concat(x[::order], 1)\n",
      "C:\\Users\\mahesh\\anaconda3\\lib\\site-packages\\statsmodels\\tsa\\tsatools.py:142: FutureWarning: In a future version of pandas all arguments of concat except for the argument 'objs' will be keyword-only\n",
      "  x = pd.concat(x[::order], 1)\n",
      "C:\\Users\\mahesh\\anaconda3\\lib\\site-packages\\statsmodels\\tsa\\tsatools.py:142: FutureWarning: In a future version of pandas all arguments of concat except for the argument 'objs' will be keyword-only\n",
      "  x = pd.concat(x[::order], 1)\n",
      "C:\\Users\\mahesh\\anaconda3\\lib\\site-packages\\statsmodels\\tsa\\tsatools.py:142: FutureWarning: In a future version of pandas all arguments of concat except for the argument 'objs' will be keyword-only\n",
      "  x = pd.concat(x[::order], 1)\n",
      "C:\\Users\\mahesh\\anaconda3\\lib\\site-packages\\statsmodels\\tsa\\tsatools.py:142: FutureWarning: In a future version of pandas all arguments of concat except for the argument 'objs' will be keyword-only\n",
      "  x = pd.concat(x[::order], 1)\n",
      "C:\\Users\\mahesh\\anaconda3\\lib\\site-packages\\statsmodels\\tsa\\tsatools.py:142: FutureWarning: In a future version of pandas all arguments of concat except for the argument 'objs' will be keyword-only\n",
      "  x = pd.concat(x[::order], 1)\n"
     ]
    },
    {
     "data": {
      "text/plain": [
       "['country_code',\n",
       " 'Algeria',\n",
       " 'Angola',\n",
       " 'Antigua and Barbuda',\n",
       " 'Argentina',\n",
       " 'Aruba',\n",
       " 'Australia',\n",
       " 'Austria',\n",
       " 'Azerbaijan',\n",
       " 'Bahamas',\n",
       " 'Bahrain',\n",
       " 'Bangladesh',\n",
       " 'Barbados',\n",
       " 'Belarus',\n",
       " 'Belgium',\n",
       " 'Belize',\n",
       " 'Benin',\n",
       " 'Bermuda',\n",
       " 'Bhutan',\n",
       " 'Bolivia',\n",
       " 'Bosnia and Herzegovina',\n",
       " 'Botswana',\n",
       " 'Brazil',\n",
       " 'Brunei Darussalam',\n",
       " 'Bulgaria',\n",
       " 'Burkina Faso',\n",
       " 'Burundi',\n",
       " 'Cabo Verde',\n",
       " 'Cambodia',\n",
       " 'Cameroon',\n",
       " 'Canada',\n",
       " 'Cayman Islands',\n",
       " 'Central African Republic',\n",
       " 'Chad',\n",
       " 'Chile',\n",
       " 'China',\n",
       " 'Colombia',\n",
       " 'Comoros',\n",
       " 'Congo',\n",
       " 'Congo, Democratic Republic of',\n",
       " 'Cook Islands',\n",
       " 'Costa Rica',\n",
       " 'Croatia',\n",
       " 'Cuba',\n",
       " 'Cyprus',\n",
       " 'Czech Republic',\n",
       " 'Czechoslovakia',\n",
       " \"Côte d'Ivoire\",\n",
       " 'Denmark',\n",
       " 'Djibouti',\n",
       " 'Dominica',\n",
       " 'Dominican Republic',\n",
       " 'Ecuador',\n",
       " 'Egypt',\n",
       " 'El Salvador',\n",
       " 'Equatorial Guinea',\n",
       " 'Eritrea',\n",
       " 'Estonia',\n",
       " 'Eswatini',\n",
       " 'Ethiopia',\n",
       " 'Ethiopia PDR',\n",
       " 'Fiji',\n",
       " 'Finland',\n",
       " 'France',\n",
       " 'French Guiana',\n",
       " 'French Polynesia',\n",
       " 'Gabon',\n",
       " 'Gambia',\n",
       " 'Georgia',\n",
       " 'Germany',\n",
       " 'Ghana',\n",
       " 'Greece',\n",
       " 'Grenada',\n",
       " 'Guadeloupe',\n",
       " 'Guatemala',\n",
       " 'Guinea',\n",
       " 'Guinea-Bissau',\n",
       " 'Guyana',\n",
       " 'Haiti',\n",
       " 'Honduras',\n",
       " 'Hungary',\n",
       " 'India',\n",
       " 'Indonesia',\n",
       " 'Iran, Islamic Republic of',\n",
       " 'Iraq',\n",
       " 'Ireland',\n",
       " 'Israel',\n",
       " 'Italy',\n",
       " 'Jamaica',\n",
       " 'Japan',\n",
       " 'Jordan',\n",
       " 'Kazakhstan',\n",
       " 'Kenya',\n",
       " \"Korea, Democratic People's Republic of\",\n",
       " 'Korea, Republic of',\n",
       " 'Kuwait',\n",
       " 'Kyrgyzstan',\n",
       " \"Lao People's Democratic Republic\",\n",
       " 'Latvia',\n",
       " 'Lebanon',\n",
       " 'Lesotho',\n",
       " 'Liberia',\n",
       " 'Libyan Arab Jamahiriya',\n",
       " 'Lithuania',\n",
       " 'Luxembourg',\n",
       " 'Macedonia TFYR',\n",
       " 'Madagascar',\n",
       " 'Malawi',\n",
       " 'Malaysia',\n",
       " 'Mali',\n",
       " 'Malta',\n",
       " 'Martinique',\n",
       " 'Mauritania',\n",
       " 'Mauritius',\n",
       " 'Mexico',\n",
       " 'Moldova',\n",
       " 'Mongolia',\n",
       " 'Montenegro',\n",
       " 'Montserrat',\n",
       " 'Morocco',\n",
       " 'Mozambique',\n",
       " 'Myanmar',\n",
       " 'Nepal',\n",
       " 'Netherlands',\n",
       " 'New Zealand',\n",
       " 'Nicaragua',\n",
       " 'Niger',\n",
       " 'Nigeria',\n",
       " 'Norway',\n",
       " 'Oman',\n",
       " 'Pakistan',\n",
       " 'Panama',\n",
       " 'Papua New Guinea',\n",
       " 'Paraguay',\n",
       " 'Peru',\n",
       " 'Philippines',\n",
       " 'Poland',\n",
       " 'Portugal',\n",
       " 'Qatar',\n",
       " 'Romania',\n",
       " 'Russian Federation',\n",
       " 'Rwanda',\n",
       " 'Réunion',\n",
       " 'Saint Lucia',\n",
       " 'Samoa',\n",
       " 'Sao Tome and Principe',\n",
       " 'Saudi Arabia',\n",
       " 'Senegal',\n",
       " 'Serbia',\n",
       " 'Serbia and Montenegro',\n",
       " 'Sierra Leone',\n",
       " 'Singapore',\n",
       " 'Slovakia',\n",
       " 'Slovenia',\n",
       " 'Solomon Islands',\n",
       " 'Somalia',\n",
       " 'South Africa',\n",
       " 'South Sudan',\n",
       " 'Spain',\n",
       " 'Sri Lanka',\n",
       " 'Sudan',\n",
       " 'Sudan (former)',\n",
       " 'Suriname',\n",
       " 'Sweden',\n",
       " 'Switzerland',\n",
       " 'Syrian Arab Republic',\n",
       " 'Tajikistan',\n",
       " 'Tanzania, United Republic of',\n",
       " 'Thailand',\n",
       " 'Timor-Leste',\n",
       " 'Togo',\n",
       " 'Tonga',\n",
       " 'Trinidad and Tobago',\n",
       " 'Tunisia',\n",
       " 'Turkey',\n",
       " 'Turkmenistan',\n",
       " 'USSR',\n",
       " 'Uganda',\n",
       " 'Ukraine',\n",
       " 'United Arab Emirates',\n",
       " 'United Kingdom',\n",
       " 'United States of America',\n",
       " 'Uruguay',\n",
       " 'Uzbekistan',\n",
       " 'Venezuela, Bolivarian Republic of',\n",
       " 'Viet Nam',\n",
       " 'World',\n",
       " 'Yemen',\n",
       " 'Zambia',\n",
       " 'Zimbabwe']"
      ]
     },
     "execution_count": 266,
     "metadata": {},
     "output_type": "execute_result"
    }
   ],
   "source": [
    "selected_features = list(X_res.columns)\n",
    "pmax = 1\n",
    "while (len(selected_features)>0):\n",
    "    p= []\n",
    "    X_new = X_res[selected_features]\n",
    "    X_new = sm.add_constant(X_new)\n",
    "    model = sm.OLS(y_res,X_new).fit()\n",
    "    p = pd.Series(model.pvalues.values[1:],index = selected_features)      \n",
    "    pmax = max(p)\n",
    "    feature_pmax = p.idxmax()\n",
    "    if(pmax>0.05):\n",
    "        selected_features.remove(feature_pmax)\n",
    "    else:\n",
    "        break\n",
    "selected_features"
   ]
  },
  {
   "cell_type": "code",
   "execution_count": 343,
   "metadata": {},
   "outputs": [
    {
     "name": "stdout",
     "output_type": "stream",
     "text": [
      "190\n"
     ]
    }
   ],
   "source": [
    "print(len(selected_features))"
   ]
  },
  {
   "cell_type": "code",
   "execution_count": 282,
   "metadata": {},
   "outputs": [],
   "source": [
    "col3=['country_code', 'Algeria', 'Angola', 'Antigua and Barbuda', 'Argentina', 'Aruba', 'Australia', 'Austria', 'Azerbaijan', 'Bahamas', 'Bahrain', 'Bangladesh', 'Barbados', 'Belarus', 'Belgium', 'Belize', 'Benin', 'Bermuda', 'Bhutan', 'Bolivia', 'Bosnia and Herzegovina', 'Botswana', 'Brazil', 'Brunei Darussalam', 'Bulgaria', 'Burkina Faso', 'Burundi', 'Cabo Verde', 'Cambodia', 'Cameroon', 'Canada', 'Cayman Islands', 'Central African Republic', 'Chad', 'Chile', 'China', 'Colombia', 'Comoros', 'Congo', 'Congo, Democratic Republic of', 'Cook Islands', 'Costa Rica', 'Croatia', 'Cuba', 'Cyprus', 'Czech Republic', 'Czechoslovakia', \"Côte d'Ivoire\", 'Denmark', 'Djibouti', 'Dominica', 'Dominican Republic', 'Ecuador', 'Egypt', 'El Salvador', 'Equatorial Guinea', 'Eritrea', 'Estonia', 'Eswatini', 'Ethiopia', 'Ethiopia PDR', 'Fiji', 'Finland', 'France', 'French Guiana', 'French Polynesia', 'Gabon', 'Gambia', 'Georgia', 'Germany', 'Ghana', 'Greece', 'Grenada', 'Guadeloupe', 'Guatemala', 'Guinea', 'Guinea-Bissau', 'Guyana', 'Haiti', 'Honduras', 'Hungary', 'India', 'Indonesia', 'Iran, Islamic Republic of', 'Iraq', 'Ireland', 'Israel', 'Italy', 'Jamaica', 'Japan', 'Jordan', 'Kazakhstan', 'Kenya', \"Korea, Democratic People's Republic of\", 'Korea, Republic of', 'Kuwait', 'Kyrgyzstan', \"Lao People's Democratic Republic\", 'Latvia', 'Lebanon', 'Lesotho', 'Liberia', 'Libyan Arab Jamahiriya', 'Lithuania', 'Luxembourg', 'Macedonia TFYR', 'Madagascar', 'Malawi', 'Malaysia', 'Mali', 'Malta', 'Martinique', 'Mauritania', 'Mauritius', 'Mexico', 'Moldova', 'Mongolia', 'Montenegro', 'Montserrat', 'Morocco', 'Mozambique', 'Myanmar', 'Nepal', 'Netherlands', 'New Zealand', 'Nicaragua', 'Niger', 'Nigeria', 'Norway', 'Oman', 'Pakistan', 'Panama', 'Papua New Guinea', 'Paraguay', 'Peru', 'Philippines', 'Poland', 'Portugal', 'Qatar', 'Romania', 'Russian Federation', 'Rwanda', 'Réunion', 'Saint Lucia', 'Samoa', 'Sao Tome and Principe', 'Saudi Arabia', 'Senegal', 'Serbia', 'Serbia and Montenegro', 'Sierra Leone', 'Singapore', 'Slovakia', 'Slovenia', 'Solomon Islands', 'Somalia', 'South Africa', 'South Sudan', 'Spain', 'Sri Lanka', 'Sudan', 'Sudan (former)', 'Suriname', 'Sweden', 'Switzerland', 'Syrian Arab Republic', 'Tajikistan', 'Tanzania, United Republic of', 'Thailand', 'Timor-Leste', 'Togo', 'Tonga', 'Trinidad and Tobago', 'Tunisia', 'Turkey', 'Turkmenistan', 'USSR', 'Uganda', 'Ukraine', 'United Arab Emirates', 'United Kingdom', 'United States of America', 'Uruguay', 'Uzbekistan', 'Venezuela, Bolivarian Republic of', 'Viet Nam', 'World', 'Yemen', 'Zambia', 'Zimbabwe']\n",
    "\n",
    "X3=X_res[col3]\n",
    "y3=y_res\n",
    "\n",
    "X_test3=X_test[col3]"
   ]
  },
  {
   "cell_type": "code",
   "execution_count": null,
   "metadata": {},
   "outputs": [],
   "source": []
  },
  {
   "cell_type": "code",
   "execution_count": 380,
   "metadata": {},
   "outputs": [
    {
     "name": "stderr",
     "output_type": "stream",
     "text": [
      "C:\\Users\\mahesh\\anaconda3\\lib\\site-packages\\sklearn\\linear_model\\_logistic.py:763: ConvergenceWarning: lbfgs failed to converge (status=1):\n",
      "STOP: TOTAL NO. of ITERATIONS REACHED LIMIT.\n",
      "\n",
      "Increase the number of iterations (max_iter) or scale the data as shown in:\n",
      "    https://scikit-learn.org/stable/modules/preprocessing.html\n",
      "Please also refer to the documentation for alternative solver options:\n",
      "    https://scikit-learn.org/stable/modules/linear_model.html#logistic-regression\n",
      "  n_iter_i = _check_optimize_result(\n"
     ]
    },
    {
     "data": {
      "text/plain": [
       "LogisticRegression(multi_class='multinomial')"
      ]
     },
     "execution_count": 380,
     "metadata": {},
     "output_type": "execute_result"
    }
   ],
   "source": [
    "model1 = LogisticRegression(multi_class='multinomial', solver='lbfgs',penalty='l2')\n",
    "model1.fit(X1,y1)"
   ]
  },
  {
   "cell_type": "code",
   "execution_count": 381,
   "metadata": {},
   "outputs": [],
   "source": [
    "pred1 = model1.predict(X_test1)\n",
    "pred_prob1 = model1.predict_proba(X_test1)"
   ]
  },
  {
   "cell_type": "code",
   "execution_count": 382,
   "metadata": {},
   "outputs": [
    {
     "name": "stdout",
     "output_type": "stream",
     "text": [
      "classes:  [0 1 2 3 4]\n",
      "coefficients:  [[16.08208043 -0.14717973 -6.3591518  -3.96982557 -0.0186054   1.81159466\n",
      "  -8.59086253  2.32139414  0.11934394  0.06837863]\n",
      " [-1.92725193 -0.78008101 -1.09576568 -1.25486785 -1.36939633 -1.09968883\n",
      "  -1.91099475 -0.10352109  0.55012188  0.75348047]\n",
      " [-4.52655269  2.59148303  1.89974355 -0.11662393 -0.82518927 -0.29996897\n",
      "   0.79322313 -0.39079302 -0.2951277  -0.34609301]\n",
      " [-4.62677848 -7.5705432   4.36343558  7.03778599  4.46543102 -0.36671871\n",
      "  13.26563745 -0.14239208 -0.05028898 -0.10075164]\n",
      " [-5.00149733  5.90632091  1.19173835 -1.69646864 -2.25224001 -0.04521815\n",
      "  -3.5570033  -1.68468795 -0.32404915 -0.37501446]]\n",
      "intercept : [-22.57848703 -11.6155364   18.41179236  -5.81629465  21.59852573]\n"
     ]
    }
   ],
   "source": [
    "print('classes: ',model1.classes_)\n",
    "print('coefficients: ',model1.coef_)\n",
    "print('intercept :',model1.intercept_)"
   ]
  },
  {
   "cell_type": "code",
   "execution_count": 383,
   "metadata": {},
   "outputs": [],
   "source": [
    "from sklearn.metrics import confusion_matrix, roc_curve, roc_auc_score, auc, classification_report"
   ]
  },
  {
   "cell_type": "code",
   "execution_count": 384,
   "metadata": {},
   "outputs": [
    {
     "name": "stdout",
     "output_type": "stream",
     "text": [
      "[[14166    22   693     0   561]\n",
      " [    0  1977  1052     0     0]\n",
      " [   21  1898  1207     0    47]\n",
      " [    0     0     0     5     0]\n",
      " [    0     0     0     0     5]]\n"
     ]
    }
   ],
   "source": [
    "labels = [4,3,2,1,0]\n",
    "con_mat1 = confusion_matrix(y_test, pred1, labels = labels )\n",
    "print(con_mat1)"
   ]
  },
  {
   "cell_type": "code",
   "execution_count": 385,
   "metadata": {},
   "outputs": [
    {
     "name": "stdout",
     "output_type": "stream",
     "text": [
      "Model Score =  0.8016994550660386\n"
     ]
    },
    {
     "data": {
      "text/plain": [
       "0.8016994550660386"
      ]
     },
     "execution_count": 385,
     "metadata": {},
     "output_type": "execute_result"
    }
   ],
   "source": [
    "print(\"Model Score = \",model1.score(X_test1, y_test))\n",
    "np.mean(y_test == pred1)"
   ]
  },
  {
   "cell_type": "code",
   "execution_count": null,
   "metadata": {},
   "outputs": [],
   "source": []
  },
  {
   "cell_type": "code",
   "execution_count": 386,
   "metadata": {},
   "outputs": [
    {
     "data": {
      "text/plain": [
       "4    51473\n",
       "2    10576\n",
       "3    10096\n",
       "0       16\n",
       "1       16\n",
       "Name: QScore, dtype: int64"
      ]
     },
     "execution_count": 386,
     "metadata": {},
     "output_type": "execute_result"
    }
   ],
   "source": [
    "dftf.QScore.value_counts()"
   ]
  },
  {
   "cell_type": "code",
   "execution_count": 387,
   "metadata": {},
   "outputs": [
    {
     "data": {
      "image/png": "[encoded data removed]",
      "text/plain": [
       "<Figure size 432x288 with 1 Axes>"
      ]
     },
     "metadata": {
      "needs_background": "light"
     },
     "output_type": "display_data"
    }
   ],
   "source": [
    "\n",
    "# roc curve for classes\n",
    "fpr = {}\n",
    "tpr = {}\n",
    "thresh ={}\n",
    "roc_auc = {}\n",
    "\n",
    "n_class = 5\n",
    "\n",
    "for i in range(n_class):    \n",
    "    fpr[i], tpr[i], thresh[i] = roc_curve(y_test, pred_prob1[:,i], pos_label=i)\n",
    "    roc_auc[i] = auc(fpr[i], tpr[i])\n",
    "\n",
    "    \n",
    "# plotting    \n",
    "plt.plot(fpr[0], tpr[0], linestyle='--',color='orange', label='Class 0 vs Rest')\n",
    "plt.plot(fpr[1], tpr[1], linestyle='--',color='green', label='Class 1 vs Rest')\n",
    "plt.plot(fpr[2], tpr[2], linestyle='--',color='blue', label='Class 2 vs Rest')\n",
    "plt.plot(fpr[3], tpr[3], linestyle='--',color='magenta', label='Class 3 vs Rest')\n",
    "plt.plot(fpr[4], tpr[4], linestyle='--',color='yellow', label='Class 4 vs Rest')\n",
    "plt.plot(fpr[0], tpr[0], 'orange', label = 'AUC-0 = %0.2f' % roc_auc[0])\n",
    "plt.plot(fpr[1], tpr[1], 'green', label = 'AUC-1 = %0.2f' % roc_auc[1])\n",
    "plt.plot(fpr[2], tpr[2], 'blue', label = 'AUC-2 = %0.2f' % roc_auc[2])\n",
    "plt.plot(fpr[3], tpr[3], 'magenta', label = 'AUC-3 = %0.2f' % roc_auc[3])\n",
    "plt.plot(fpr[4], tpr[4], 'yellow', label = 'AUC-4 = %0.2f' % roc_auc[4])\n",
    "plt.title('Multiclass ROC curve')\n",
    "plt.xlabel('False Positive Rate')\n",
    "plt.ylabel('True Positive rate')\n",
    "plt.legend(loc='best')\n",
    "plt.savefig('Multiclass ROC',dpi=300);    "
   ]
  },
  {
   "cell_type": "code",
   "execution_count": 388,
   "metadata": {},
   "outputs": [
    {
     "name": "stdout",
     "output_type": "stream",
     "text": [
      "Report : \n",
      "              precision    recall  f1-score   support\n",
      "\n",
      "           0       0.01      1.00      0.02         5\n",
      "           1       1.00      1.00      1.00         5\n",
      "           2       0.41      0.38      0.39      3173\n",
      "           3       0.51      0.65      0.57      3029\n",
      "           4       1.00      0.92      0.96     15442\n",
      "\n",
      "    accuracy                           0.80     21654\n",
      "   macro avg       0.58      0.79      0.59     21654\n",
      "weighted avg       0.84      0.80      0.82     21654\n",
      "\n"
     ]
    }
   ],
   "source": [
    "print ('Report : ')\n",
    "print (classification_report(y_test, pred1))"
   ]
  },
  {
   "cell_type": "code",
   "execution_count": null,
   "metadata": {},
   "outputs": [],
   "source": []
  },
  {
   "cell_type": "code",
   "execution_count": 331,
   "metadata": {},
   "outputs": [
    {
     "name": "stderr",
     "output_type": "stream",
     "text": [
      "C:\\Users\\mahesh\\anaconda3\\lib\\site-packages\\sklearn\\linear_model\\_logistic.py:763: ConvergenceWarning: lbfgs failed to converge (status=1):\n",
      "STOP: TOTAL NO. of ITERATIONS REACHED LIMIT.\n",
      "\n",
      "Increase the number of iterations (max_iter) or scale the data as shown in:\n",
      "    https://scikit-learn.org/stable/modules/preprocessing.html\n",
      "Please also refer to the documentation for alternative solver options:\n",
      "    https://scikit-learn.org/stable/modules/linear_model.html#logistic-regression\n",
      "  n_iter_i = _check_optimize_result(\n"
     ]
    },
    {
     "data": {
      "text/plain": [
       "LogisticRegression(multi_class='multinomial')"
      ]
     },
     "execution_count": 331,
     "metadata": {},
     "output_type": "execute_result"
    }
   ],
   "source": [
    "model2 = LogisticRegression(multi_class='multinomial', solver='lbfgs',penalty='l2')\n",
    "model2.fit(X2,y2)"
   ]
  },
  {
   "cell_type": "code",
   "execution_count": 332,
   "metadata": {},
   "outputs": [],
   "source": [
    "pred2 = model2.predict(X_test2)\n",
    "pred_prob2 = model2.predict_proba(X_test2)"
   ]
  },
  {
   "cell_type": "code",
   "execution_count": 333,
   "metadata": {},
   "outputs": [
    {
     "name": "stdout",
     "output_type": "stream",
     "text": [
      "[[14277   173   992     0     0]\n",
      " [    0  1468  1561     0     0]\n",
      " [   64   503  2606     0     0]\n",
      " [    0     0     0     5     0]\n",
      " [    0     0     0     0     5]]\n"
     ]
    }
   ],
   "source": [
    "labels = [4,3,2,1,0]\n",
    "con_mat2 = confusion_matrix(y_test, pred2, labels = labels )\n",
    "print(con_mat2)"
   ]
  },
  {
   "cell_type": "code",
   "execution_count": 334,
   "metadata": {},
   "outputs": [
    {
     "name": "stdout",
     "output_type": "stream",
     "text": [
      "Model Score =  0.8479264800960562\n"
     ]
    },
    {
     "data": {
      "text/plain": [
       "0.8479264800960562"
      ]
     },
     "execution_count": 334,
     "metadata": {},
     "output_type": "execute_result"
    }
   ],
   "source": [
    "print(\"Model Score = \",model2.score(X_test2, y_test))\n",
    "np.mean(y_test == pred2)"
   ]
  },
  {
   "cell_type": "code",
   "execution_count": 335,
   "metadata": {},
   "outputs": [
    {
     "data": {
      "image/png": "[encoded data removed]",
      "text/plain": [
       "<Figure size 432x288 with 1 Axes>"
      ]
     },
     "metadata": {
      "needs_background": "light"
     },
     "output_type": "display_data"
    }
   ],
   "source": [
    "# roc curve for classes\n",
    "fpr = {}\n",
    "tpr = {}\n",
    "thresh ={}\n",
    "roc_auc = {}\n",
    "\n",
    "n_class = 5\n",
    "\n",
    "for i in range(n_class):    \n",
    "    fpr[i], tpr[i], thresh[i] = roc_curve(y_test, pred_prob2[:,i], pos_label=i)\n",
    "    roc_auc[i] = auc(fpr[i], tpr[i])\n",
    "\n",
    "    \n",
    "# plotting    \n",
    "plt.plot(fpr[0], tpr[0], linestyle='--',color='orange', label='Class 0 vs Rest')\n",
    "plt.plot(fpr[1], tpr[1], linestyle='--',color='green', label='Class 1 vs Rest')\n",
    "plt.plot(fpr[2], tpr[2], linestyle='--',color='blue', label='Class 2 vs Rest')\n",
    "plt.plot(fpr[3], tpr[3], linestyle='--',color='magenta', label='Class 3 vs Rest')\n",
    "plt.plot(fpr[4], tpr[4], linestyle='--',color='yellow', label='Class 4 vs Rest')\n",
    "plt.plot(fpr[0], tpr[0], 'orange', label = 'AUC-0 = %0.2f' % roc_auc[0])\n",
    "plt.plot(fpr[1], tpr[1], 'green', label = 'AUC-1 = %0.2f' % roc_auc[1])\n",
    "plt.plot(fpr[2], tpr[2], 'blue', label = 'AUC-2 = %0.2f' % roc_auc[2])\n",
    "plt.plot(fpr[3], tpr[3], 'magenta', label = 'AUC-3 = %0.2f' % roc_auc[3])\n",
    "plt.plot(fpr[4], tpr[4], 'yellow', label = 'AUC-4 = %0.2f' % roc_auc[4])\n",
    "plt.title('Multiclass ROC curve')\n",
    "plt.xlabel('False Positive Rate')\n",
    "plt.ylabel('True Positive rate')\n",
    "plt.legend(loc='best')\n",
    "plt.savefig('Multiclass ROC',dpi=300); "
   ]
  },
  {
   "cell_type": "code",
   "execution_count": 336,
   "metadata": {},
   "outputs": [
    {
     "name": "stdout",
     "output_type": "stream",
     "text": [
      "Report : \n",
      "              precision    recall  f1-score   support\n",
      "\n",
      "           0       1.00      1.00      1.00         5\n",
      "           1       1.00      1.00      1.00         5\n",
      "           2       0.51      0.82      0.63      3173\n",
      "           3       0.68      0.48      0.57      3029\n",
      "           4       1.00      0.92      0.96     15442\n",
      "\n",
      "    accuracy                           0.85     21654\n",
      "   macro avg       0.84      0.85      0.83     21654\n",
      "weighted avg       0.88      0.85      0.86     21654\n",
      "\n"
     ]
    }
   ],
   "source": [
    "print ('Report : ')\n",
    "print (classification_report(y_test, pred2))"
   ]
  },
  {
   "cell_type": "code",
   "execution_count": null,
   "metadata": {},
   "outputs": [],
   "source": []
  },
  {
   "cell_type": "code",
   "execution_count": null,
   "metadata": {},
   "outputs": [],
   "source": []
  },
  {
   "cell_type": "code",
   "execution_count": 337,
   "metadata": {},
   "outputs": [
    {
     "data": {
      "text/plain": [
       "LogisticRegression(multi_class='multinomial')"
      ]
     },
     "execution_count": 337,
     "metadata": {},
     "output_type": "execute_result"
    }
   ],
   "source": [
    "model3 = LogisticRegression(multi_class='multinomial', solver='lbfgs',penalty='l2')\n",
    "model3.fit(X3,y3)"
   ]
  },
  {
   "cell_type": "code",
   "execution_count": 374,
   "metadata": {},
   "outputs": [],
   "source": [
    "pred3 = model3.predict(X_test3)\n",
    "pred_prob3 = model3.predict_proba(X_test3)"
   ]
  },
  {
   "cell_type": "code",
   "execution_count": 339,
   "metadata": {},
   "outputs": [
    {
     "name": "stdout",
     "output_type": "stream",
     "text": [
      "[[15442     0     0     0     0]\n",
      " [    0  3029     0     0     0]\n",
      " [    0     0  3173     0     0]\n",
      " [    0     0     0     5     0]\n",
      " [    0     0     0     0     5]]\n"
     ]
    }
   ],
   "source": [
    "labels = [4,3,2,1,0]\n",
    "con_mat3 = confusion_matrix(y_test, pred3, labels = labels )\n",
    "print(con_mat3)"
   ]
  },
  {
   "cell_type": "code",
   "execution_count": 340,
   "metadata": {},
   "outputs": [
    {
     "name": "stdout",
     "output_type": "stream",
     "text": [
      "Model Score =  1.0\n"
     ]
    },
    {
     "data": {
      "text/plain": [
       "1.0"
      ]
     },
     "execution_count": 340,
     "metadata": {},
     "output_type": "execute_result"
    }
   ],
   "source": [
    "print(\"Model Score = \",model3.score(X_test3, y_test))\n",
    "np.mean(y_test == pred3)"
   ]
  },
  {
   "cell_type": "code",
   "execution_count": 341,
   "metadata": {},
   "outputs": [
    {
     "data": {
      "image/png": "[encoded data removed]",
      "text/plain": [
       "<Figure size 432x288 with 1 Axes>"
      ]
     },
     "metadata": {
      "needs_background": "light"
     },
     "output_type": "display_data"
    }
   ],
   "source": [
    "# roc curve for classes\n",
    "fpr = {}\n",
    "tpr = {}\n",
    "thresh ={}\n",
    "roc_auc = {}\n",
    "\n",
    "n_class = 5\n",
    "\n",
    "for i in range(n_class):    \n",
    "    fpr[i], tpr[i], thresh[i] = roc_curve(y_test, pred_prob3[:,i], pos_label=i)\n",
    "    roc_auc[i] = auc(fpr[i], tpr[i])\n",
    "\n",
    "    \n",
    "# plotting    \n",
    "plt.plot(fpr[0], tpr[0], linestyle='--',color='orange', label='Class 0 vs Rest')\n",
    "plt.plot(fpr[1], tpr[1], linestyle='--',color='green', label='Class 1 vs Rest')\n",
    "plt.plot(fpr[2], tpr[2], linestyle='--',color='blue', label='Class 2 vs Rest')\n",
    "plt.plot(fpr[3], tpr[3], linestyle='--',color='magenta', label='Class 3 vs Rest')\n",
    "plt.plot(fpr[4], tpr[4], linestyle='--',color='yellow', label='Class 4 vs Rest')\n",
    "plt.plot(fpr[0], tpr[0], 'orange', label = 'AUC-0 = %0.2f' % roc_auc[0])\n",
    "plt.plot(fpr[1], tpr[1], 'green', label = 'AUC-1 = %0.2f' % roc_auc[1])\n",
    "plt.plot(fpr[2], tpr[2], 'blue', label = 'AUC-2 = %0.2f' % roc_auc[2])\n",
    "plt.plot(fpr[3], tpr[3], 'magenta', label = 'AUC-3 = %0.2f' % roc_auc[3])\n",
    "plt.plot(fpr[4], tpr[4], 'yellow', label = 'AUC-4 = %0.2f' % roc_auc[4])\n",
    "plt.title('Multiclass ROC curve')\n",
    "plt.xlabel('False Positive Rate')\n",
    "plt.ylabel('True Positive rate')\n",
    "plt.legend(loc='best')\n",
    "plt.savefig('Multiclass ROC',dpi=300);"
   ]
  },
  {
   "cell_type": "code",
   "execution_count": 342,
   "metadata": {},
   "outputs": [
    {
     "name": "stdout",
     "output_type": "stream",
     "text": [
      "Report : \n",
      "              precision    recall  f1-score   support\n",
      "\n",
      "           0       1.00      1.00      1.00         5\n",
      "           1       1.00      1.00      1.00         5\n",
      "           2       1.00      1.00      1.00      3173\n",
      "           3       1.00      1.00      1.00      3029\n",
      "           4       1.00      1.00      1.00     15442\n",
      "\n",
      "    accuracy                           1.00     21654\n",
      "   macro avg       1.00      1.00      1.00     21654\n",
      "weighted avg       1.00      1.00      1.00     21654\n",
      "\n"
     ]
    }
   ],
   "source": [
    "print ('Report : ')\n",
    "print (classification_report(y_test, pred3))"
   ]
  },
  {
   "cell_type": "code",
   "execution_count": null,
   "metadata": {},
   "outputs": [],
   "source": []
  },
  {
   "cell_type": "code",
   "execution_count": 435,
   "metadata": {},
   "outputs": [
    {
     "data": {
      "text/html": [
       "<div>\n",
       "<style scoped>\n",
       "    .dataframe tbody tr th:only-of-type {\n",
       "        vertical-align: middle;\n",
       "    }\n",
       "\n",
       "    .dataframe tbody tr th {\n",
       "        vertical-align: top;\n",
       "    }\n",
       "\n",
       "    .dataframe thead th {\n",
       "        text-align: right;\n",
       "    }\n",
       "</style>\n",
       "<table border=\"1\" class=\"dataframe\">\n",
       "  <thead>\n",
       "    <tr style=\"text-align: right;\">\n",
       "      <th></th>\n",
       "      <th>QScore</th>\n",
       "    </tr>\n",
       "  </thead>\n",
       "  <tbody>\n",
       "    <tr>\n",
       "      <th>20449</th>\n",
       "      <td>2</td>\n",
       "    </tr>\n",
       "    <tr>\n",
       "      <th>12658</th>\n",
       "      <td>4</td>\n",
       "    </tr>\n",
       "    <tr>\n",
       "      <th>20208</th>\n",
       "      <td>2</td>\n",
       "    </tr>\n",
       "    <tr>\n",
       "      <th>4759</th>\n",
       "      <td>4</td>\n",
       "    </tr>\n",
       "    <tr>\n",
       "      <th>39974</th>\n",
       "      <td>3</td>\n",
       "    </tr>\n",
       "    <tr>\n",
       "      <th>...</th>\n",
       "      <td>...</td>\n",
       "    </tr>\n",
       "    <tr>\n",
       "      <th>43392</th>\n",
       "      <td>4</td>\n",
       "    </tr>\n",
       "    <tr>\n",
       "      <th>50913</th>\n",
       "      <td>2</td>\n",
       "    </tr>\n",
       "    <tr>\n",
       "      <th>26970</th>\n",
       "      <td>3</td>\n",
       "    </tr>\n",
       "    <tr>\n",
       "      <th>22726</th>\n",
       "      <td>4</td>\n",
       "    </tr>\n",
       "    <tr>\n",
       "      <th>6718</th>\n",
       "      <td>4</td>\n",
       "    </tr>\n",
       "  </tbody>\n",
       "</table>\n",
       "<p>21654 rows × 1 columns</p>\n",
       "</div>"
      ],
      "text/plain": [
       "       QScore\n",
       "20449       2\n",
       "12658       4\n",
       "20208       2\n",
       "4759        4\n",
       "39974       3\n",
       "...       ...\n",
       "43392       4\n",
       "50913       2\n",
       "26970       3\n",
       "22726       4\n",
       "6718        4\n",
       "\n",
       "[21654 rows x 1 columns]"
      ]
     },
     "execution_count": 435,
     "metadata": {},
     "output_type": "execute_result"
    }
   ],
   "source": [
    "output = pd.DataFrame(y_test)\n",
    "output"
   ]
  },
  {
   "cell_type": "code",
   "execution_count": 436,
   "metadata": {},
   "outputs": [
    {
     "data": {
      "text/html": [
       "<div>\n",
       "<style scoped>\n",
       "    .dataframe tbody tr th:only-of-type {\n",
       "        vertical-align: middle;\n",
       "    }\n",
       "\n",
       "    .dataframe tbody tr th {\n",
       "        vertical-align: top;\n",
       "    }\n",
       "\n",
       "    .dataframe thead th {\n",
       "        text-align: right;\n",
       "    }\n",
       "</style>\n",
       "<table border=\"1\" class=\"dataframe\">\n",
       "  <thead>\n",
       "    <tr style=\"text-align: right;\">\n",
       "      <th></th>\n",
       "      <th>QScore</th>\n",
       "      <th>Predicted</th>\n",
       "    </tr>\n",
       "  </thead>\n",
       "  <tbody>\n",
       "    <tr>\n",
       "      <th>20449</th>\n",
       "      <td>2</td>\n",
       "      <td>2A</td>\n",
       "    </tr>\n",
       "    <tr>\n",
       "      <th>12658</th>\n",
       "      <td>4</td>\n",
       "      <td>3A</td>\n",
       "    </tr>\n",
       "    <tr>\n",
       "      <th>20208</th>\n",
       "      <td>2</td>\n",
       "      <td>2A</td>\n",
       "    </tr>\n",
       "    <tr>\n",
       "      <th>4759</th>\n",
       "      <td>4</td>\n",
       "      <td>3A</td>\n",
       "    </tr>\n",
       "    <tr>\n",
       "      <th>39974</th>\n",
       "      <td>3</td>\n",
       "      <td>2B</td>\n",
       "    </tr>\n",
       "    <tr>\n",
       "      <th>...</th>\n",
       "      <td>...</td>\n",
       "      <td>...</td>\n",
       "    </tr>\n",
       "    <tr>\n",
       "      <th>43392</th>\n",
       "      <td>4</td>\n",
       "      <td>3A</td>\n",
       "    </tr>\n",
       "    <tr>\n",
       "      <th>50913</th>\n",
       "      <td>2</td>\n",
       "      <td>2A</td>\n",
       "    </tr>\n",
       "    <tr>\n",
       "      <th>26970</th>\n",
       "      <td>3</td>\n",
       "      <td>2B</td>\n",
       "    </tr>\n",
       "    <tr>\n",
       "      <th>22726</th>\n",
       "      <td>4</td>\n",
       "      <td>3A</td>\n",
       "    </tr>\n",
       "    <tr>\n",
       "      <th>6718</th>\n",
       "      <td>4</td>\n",
       "      <td>3A</td>\n",
       "    </tr>\n",
       "  </tbody>\n",
       "</table>\n",
       "<p>21654 rows × 2 columns</p>\n",
       "</div>"
      ],
      "text/plain": [
       "       QScore Predicted\n",
       "20449       2        2A\n",
       "12658       4        3A\n",
       "20208       2        2A\n",
       "4759        4        3A\n",
       "39974       3        2B\n",
       "...       ...       ...\n",
       "43392       4        3A\n",
       "50913       2        2A\n",
       "26970       3        2B\n",
       "22726       4        3A\n",
       "6718        4        3A\n",
       "\n",
       "[21654 rows x 2 columns]"
      ]
     },
     "execution_count": 436,
     "metadata": {},
     "output_type": "execute_result"
    }
   ],
   "source": [
    "output['Predicted'] = le.inverse_transform(pred3)\n",
    "output"
   ]
  },
  {
   "cell_type": "raw",
   "metadata": {},
   "source": [
    "3A    51473\n",
    "2A    10576\n",
    "2B    10096\n",
    "1A       16\n",
    "1B       16\n",
    "\n",
    "\n",
    "4    51473\n",
    "2    10576\n",
    "3    10096\n",
    "0       16\n",
    "1       16"
   ]
  },
  {
   "cell_type": "code",
   "execution_count": null,
   "metadata": {},
   "outputs": [],
   "source": []
  },
  {
   "cell_type": "raw",
   "metadata": {},
   "source": [
    "from sklearn.model_selection import GridSearchCV"
   ]
  },
  {
   "cell_type": "raw",
   "metadata": {},
   "source": [
    "param_grid = { 'C': [0.001, 0.01, 0.1, 1, 10, 100, 1000], 'random_state' : [1,2,3,4,5,6,7,8,9,10] }\n",
    "clf = GridSearchCV(LogisticRegression(multi_class='multinomial', solver='lbfgs',penalty='l2',max_iter=1000),  param_grid)"
   ]
  },
  {
   "cell_type": "raw",
   "metadata": {},
   "source": [
    "clf.fit(X1, y1)"
   ]
  },
  {
   "cell_type": "raw",
   "metadata": {},
   "source": [
    "clf.best_score_"
   ]
  },
  {
   "cell_type": "raw",
   "metadata": {},
   "source": [
    "clf.best_estimator_"
   ]
  },
  {
   "cell_type": "code",
   "execution_count": null,
   "metadata": {},
   "outputs": [],
   "source": []
  },
  {
   "cell_type": "markdown",
   "metadata": {},
   "source": [
    "### RandomForest"
   ]
  },
  {
   "cell_type": "code",
   "execution_count": 440,
   "metadata": {},
   "outputs": [
    {
     "name": "stdout",
     "output_type": "stream",
     "text": [
      "              precision    recall  f1-score   support\n",
      "\n",
      "           0       1.00      1.00      1.00         5\n",
      "           1       1.00      1.00      1.00         5\n",
      "           2       1.00      1.00      1.00      3173\n",
      "           3       1.00      1.00      1.00      3029\n",
      "           4       1.00      1.00      1.00     15442\n",
      "\n",
      "    accuracy                           1.00     21654\n",
      "   macro avg       1.00      1.00      1.00     21654\n",
      "weighted avg       1.00      1.00      1.00     21654\n",
      "\n",
      "[[15442     0     0     0     0]\n",
      " [    0  3029     0     0     0]\n",
      " [    0     0  3173     0     0]\n",
      " [    0     0     0     5     0]\n",
      " [    0     0     0     0     5]]\n",
      "{'0': {'precision': 1.0, 'recall': 1.0, 'f1-score': 1.0, 'support': 5}, '1': {'precision': 1.0, 'recall': 1.0, 'f1-score': 1.0, 'support': 5}, '2': {'precision': 1.0, 'recall': 1.0, 'f1-score': 1.0, 'support': 3173}, '3': {'precision': 1.0, 'recall': 1.0, 'f1-score': 1.0, 'support': 3029}, '4': {'precision': 1.0, 'recall': 1.0, 'f1-score': 1.0, 'support': 15442}, 'accuracy': 1.0, 'macro avg': {'precision': 1.0, 'recall': 1.0, 'f1-score': 1.0, 'support': 21654}, 'weighted avg': {'precision': 1.0, 'recall': 1.0, 'f1-score': 1.0, 'support': 21654}}\n"
     ]
    }
   ],
   "source": [
    "from sklearn.ensemble import RandomForestClassifier\n",
    "rfc = RandomForestClassifier()\n",
    "rfc.fit(X3, y3)\n",
    "\n",
    "rfc_pred = rfc.predict(X_test3)\n",
    "\n",
    "print(classification_report(y_test, rfc_pred))\n",
    "\n",
    "labels = [4,3,2,1,0]\n",
    "\n",
    "print(confusion_matrix(y_test, rfc_pred,labels = labels))\n",
    "\n",
    "print(classification_report(y_test, rfc_pred,output_dict=True))"
   ]
  },
  {
   "cell_type": "code",
   "execution_count": null,
   "metadata": {},
   "outputs": [],
   "source": []
  },
  {
   "cell_type": "markdown",
   "metadata": {},
   "source": [
    "### KNN"
   ]
  },
  {
   "cell_type": "code",
   "execution_count": 441,
   "metadata": {},
   "outputs": [],
   "source": [
    "from sklearn.neighbors import KNeighborsClassifier"
   ]
  },
  {
   "cell_type": "code",
   "execution_count": 442,
   "metadata": {},
   "outputs": [],
   "source": [
    "from sklearn.metrics import confusion_matrix, classification_report, precision_score, recall_score, accuracy_score"
   ]
  },
  {
   "cell_type": "code",
   "execution_count": 444,
   "metadata": {},
   "outputs": [
    {
     "name": "stdout",
     "output_type": "stream",
     "text": [
      "              precision    recall  f1-score   support\n",
      "\n",
      "           0       1.00      1.00      1.00         5\n",
      "           1       1.00      1.00      1.00         5\n",
      "           2       1.00      1.00      1.00      3173\n",
      "           3       1.00      1.00      1.00      3029\n",
      "           4       1.00      1.00      1.00     15442\n",
      "\n",
      "    accuracy                           1.00     21654\n",
      "   macro avg       1.00      1.00      1.00     21654\n",
      "weighted avg       1.00      1.00      1.00     21654\n",
      "\n",
      "[[15442     0     0     0     0]\n",
      " [    0  3029     0     0     0]\n",
      " [    0     0  3173     0     0]\n",
      " [    0     0     0     5     0]\n",
      " [    0     0     0     0     5]]\n",
      "{'0': {'precision': 1.0, 'recall': 1.0, 'f1-score': 1.0, 'support': 5}, '1': {'precision': 1.0, 'recall': 1.0, 'f1-score': 1.0, 'support': 5}, '2': {'precision': 1.0, 'recall': 1.0, 'f1-score': 1.0, 'support': 3173}, '3': {'precision': 1.0, 'recall': 1.0, 'f1-score': 1.0, 'support': 3029}, '4': {'precision': 1.0, 'recall': 1.0, 'f1-score': 1.0, 'support': 15442}, 'accuracy': 1.0, 'macro avg': {'precision': 1.0, 'recall': 1.0, 'f1-score': 1.0, 'support': 21654}, 'weighted avg': {'precision': 1.0, 'recall': 1.0, 'f1-score': 1.0, 'support': 21654}}\n"
     ]
    }
   ],
   "source": [
    "knn_model = KNeighborsClassifier()\n",
    "knn_model.fit(X3,y3)\n",
    "\n",
    "knn_pred = knn_model.predict(X_test3)\n",
    "labels = [4,3,2,1,0]\n",
    "print(classification_report(y_test, knn_pred))\n",
    "print(confusion_matrix(y_test, knn_pred,labels = labels))\n",
    "print(classification_report(y_test, knn_pred,output_dict=True))"
   ]
  },
  {
   "cell_type": "code",
   "execution_count": null,
   "metadata": {},
   "outputs": [],
   "source": []
  },
  {
   "cell_type": "code",
   "execution_count": 445,
   "metadata": {},
   "outputs": [],
   "source": [
    "from xgboost import XGBClassifier\n",
    "from sklearn.metrics import accuracy_score"
   ]
  },
  {
   "cell_type": "code",
   "execution_count": 448,
   "metadata": {},
   "outputs": [
    {
     "name": "stdout",
     "output_type": "stream",
     "text": [
      "[14:55:14] WARNING: C:/Users/Administrator/workspace/xgboost-win64_release_1.3.0/src/learner.cc:1061: Starting in XGBoost 1.3.0, the default evaluation metric used with the objective 'multi:softprob' was changed from 'merror' to 'mlogloss'. Explicitly set eval_metric if you'd like to restore the old behavior.\n",
      "[0]\tvalidation_0-mlogloss:1.16981\tvalidation_1-mlogloss:1.32746\n",
      "[1]\tvalidation_0-mlogloss:0.94215\tvalidation_1-mlogloss:1.15430\n",
      "[2]\tvalidation_0-mlogloss:0.78326\tvalidation_1-mlogloss:1.01826\n",
      "[3]\tvalidation_0-mlogloss:0.67377\tvalidation_1-mlogloss:0.93038\n",
      "[4]\tvalidation_0-mlogloss:0.58849\tvalidation_1-mlogloss:0.84573\n",
      "[5]\tvalidation_0-mlogloss:0.52510\tvalidation_1-mlogloss:0.78862\n",
      "[6]\tvalidation_0-mlogloss:0.47277\tvalidation_1-mlogloss:0.73388\n",
      "[7]\tvalidation_0-mlogloss:0.42281\tvalidation_1-mlogloss:0.67010\n",
      "[8]\tvalidation_0-mlogloss:0.38228\tvalidation_1-mlogloss:0.61746\n",
      "[9]\tvalidation_0-mlogloss:0.34075\tvalidation_1-mlogloss:0.56381\n",
      "[10]\tvalidation_0-mlogloss:0.31659\tvalidation_1-mlogloss:0.53290\n",
      "[11]\tvalidation_0-mlogloss:0.29544\tvalidation_1-mlogloss:0.50663\n",
      "[12]\tvalidation_0-mlogloss:0.27753\tvalidation_1-mlogloss:0.48049\n",
      "[13]\tvalidation_0-mlogloss:0.26148\tvalidation_1-mlogloss:0.45744\n",
      "[14]\tvalidation_0-mlogloss:0.24735\tvalidation_1-mlogloss:0.43693\n",
      "[15]\tvalidation_0-mlogloss:0.23278\tvalidation_1-mlogloss:0.41536\n",
      "[16]\tvalidation_0-mlogloss:0.21864\tvalidation_1-mlogloss:0.39227\n",
      "[17]\tvalidation_0-mlogloss:0.20803\tvalidation_1-mlogloss:0.37726\n",
      "[18]\tvalidation_0-mlogloss:0.19847\tvalidation_1-mlogloss:0.36179\n",
      "[19]\tvalidation_0-mlogloss:0.18798\tvalidation_1-mlogloss:0.34579\n",
      "[20]\tvalidation_0-mlogloss:0.18005\tvalidation_1-mlogloss:0.33325\n",
      "[21]\tvalidation_0-mlogloss:0.17268\tvalidation_1-mlogloss:0.32074\n",
      "[22]\tvalidation_0-mlogloss:0.16193\tvalidation_1-mlogloss:0.30191\n",
      "[23]\tvalidation_0-mlogloss:0.15546\tvalidation_1-mlogloss:0.29116\n",
      "[24]\tvalidation_0-mlogloss:0.14880\tvalidation_1-mlogloss:0.27989\n",
      "[25]\tvalidation_0-mlogloss:0.14326\tvalidation_1-mlogloss:0.26956\n",
      "[26]\tvalidation_0-mlogloss:0.13707\tvalidation_1-mlogloss:0.25958\n",
      "[27]\tvalidation_0-mlogloss:0.13219\tvalidation_1-mlogloss:0.25060\n",
      "[28]\tvalidation_0-mlogloss:0.12749\tvalidation_1-mlogloss:0.24347\n",
      "[29]\tvalidation_0-mlogloss:0.12331\tvalidation_1-mlogloss:0.23546\n",
      "[30]\tvalidation_0-mlogloss:0.11906\tvalidation_1-mlogloss:0.22785\n",
      "[31]\tvalidation_0-mlogloss:0.11437\tvalidation_1-mlogloss:0.21871\n",
      "[32]\tvalidation_0-mlogloss:0.10904\tvalidation_1-mlogloss:0.20844\n",
      "[33]\tvalidation_0-mlogloss:0.10548\tvalidation_1-mlogloss:0.20209\n",
      "[34]\tvalidation_0-mlogloss:0.10218\tvalidation_1-mlogloss:0.19576\n",
      "[35]\tvalidation_0-mlogloss:0.09918\tvalidation_1-mlogloss:0.19036\n",
      "[36]\tvalidation_0-mlogloss:0.09527\tvalidation_1-mlogloss:0.18275\n",
      "[37]\tvalidation_0-mlogloss:0.09240\tvalidation_1-mlogloss:0.17725\n",
      "[38]\tvalidation_0-mlogloss:0.08940\tvalidation_1-mlogloss:0.17198\n",
      "[39]\tvalidation_0-mlogloss:0.08638\tvalidation_1-mlogloss:0.16613\n",
      "[40]\tvalidation_0-mlogloss:0.08365\tvalidation_1-mlogloss:0.16131\n",
      "[41]\tvalidation_0-mlogloss:0.08093\tvalidation_1-mlogloss:0.15594\n",
      "[42]\tvalidation_0-mlogloss:0.07823\tvalidation_1-mlogloss:0.15040\n",
      "[43]\tvalidation_0-mlogloss:0.07603\tvalidation_1-mlogloss:0.14640\n",
      "[44]\tvalidation_0-mlogloss:0.07339\tvalidation_1-mlogloss:0.14111\n",
      "[45]\tvalidation_0-mlogloss:0.07147\tvalidation_1-mlogloss:0.13764\n",
      "[46]\tvalidation_0-mlogloss:0.06954\tvalidation_1-mlogloss:0.13371\n",
      "[47]\tvalidation_0-mlogloss:0.06737\tvalidation_1-mlogloss:0.12948\n",
      "[48]\tvalidation_0-mlogloss:0.06545\tvalidation_1-mlogloss:0.12604\n",
      "[49]\tvalidation_0-mlogloss:0.06372\tvalidation_1-mlogloss:0.12258\n",
      "[50]\tvalidation_0-mlogloss:0.06194\tvalidation_1-mlogloss:0.11934\n",
      "[51]\tvalidation_0-mlogloss:0.06037\tvalidation_1-mlogloss:0.11616\n",
      "[52]\tvalidation_0-mlogloss:0.05730\tvalidation_1-mlogloss:0.11136\n",
      "[53]\tvalidation_0-mlogloss:0.05532\tvalidation_1-mlogloss:0.10789\n",
      "[54]\tvalidation_0-mlogloss:0.05367\tvalidation_1-mlogloss:0.10476\n",
      "[55]\tvalidation_0-mlogloss:0.05226\tvalidation_1-mlogloss:0.10178\n",
      "[56]\tvalidation_0-mlogloss:0.05093\tvalidation_1-mlogloss:0.09911\n",
      "[57]\tvalidation_0-mlogloss:0.04954\tvalidation_1-mlogloss:0.09679\n",
      "[58]\tvalidation_0-mlogloss:0.04829\tvalidation_1-mlogloss:0.09421\n",
      "[59]\tvalidation_0-mlogloss:0.04709\tvalidation_1-mlogloss:0.09174\n",
      "[60]\tvalidation_0-mlogloss:0.04583\tvalidation_1-mlogloss:0.08943\n",
      "[61]\tvalidation_0-mlogloss:0.04471\tvalidation_1-mlogloss:0.08709\n",
      "[62]\tvalidation_0-mlogloss:0.04346\tvalidation_1-mlogloss:0.08467\n",
      "[63]\tvalidation_0-mlogloss:0.04177\tvalidation_1-mlogloss:0.08199\n",
      "[64]\tvalidation_0-mlogloss:0.04000\tvalidation_1-mlogloss:0.07872\n",
      "[65]\tvalidation_0-mlogloss:0.03862\tvalidation_1-mlogloss:0.07612\n",
      "[66]\tvalidation_0-mlogloss:0.03765\tvalidation_1-mlogloss:0.07411\n",
      "[67]\tvalidation_0-mlogloss:0.03612\tvalidation_1-mlogloss:0.07148\n",
      "[68]\tvalidation_0-mlogloss:0.03524\tvalidation_1-mlogloss:0.06969\n",
      "[69]\tvalidation_0-mlogloss:0.03435\tvalidation_1-mlogloss:0.06800\n",
      "[70]\tvalidation_0-mlogloss:0.03327\tvalidation_1-mlogloss:0.06604\n",
      "[71]\tvalidation_0-mlogloss:0.03219\tvalidation_1-mlogloss:0.06406\n",
      "[72]\tvalidation_0-mlogloss:0.03132\tvalidation_1-mlogloss:0.06222\n",
      "[73]\tvalidation_0-mlogloss:0.03050\tvalidation_1-mlogloss:0.06074\n",
      "[74]\tvalidation_0-mlogloss:0.02971\tvalidation_1-mlogloss:0.05929\n",
      "[75]\tvalidation_0-mlogloss:0.02860\tvalidation_1-mlogloss:0.05722\n",
      "[76]\tvalidation_0-mlogloss:0.02771\tvalidation_1-mlogloss:0.05554\n",
      "[77]\tvalidation_0-mlogloss:0.02688\tvalidation_1-mlogloss:0.05371\n",
      "[78]\tvalidation_0-mlogloss:0.02598\tvalidation_1-mlogloss:0.05188\n",
      "[79]\tvalidation_0-mlogloss:0.02528\tvalidation_1-mlogloss:0.05056\n",
      "[80]\tvalidation_0-mlogloss:0.02441\tvalidation_1-mlogloss:0.04908\n",
      "[81]\tvalidation_0-mlogloss:0.02371\tvalidation_1-mlogloss:0.04762\n",
      "[82]\tvalidation_0-mlogloss:0.02304\tvalidation_1-mlogloss:0.04630\n",
      "[83]\tvalidation_0-mlogloss:0.02239\tvalidation_1-mlogloss:0.04508\n",
      "[84]\tvalidation_0-mlogloss:0.02157\tvalidation_1-mlogloss:0.04349\n",
      "[85]\tvalidation_0-mlogloss:0.02103\tvalidation_1-mlogloss:0.04236\n",
      "[86]\tvalidation_0-mlogloss:0.02045\tvalidation_1-mlogloss:0.04120\n",
      "[87]\tvalidation_0-mlogloss:0.01996\tvalidation_1-mlogloss:0.04015\n",
      "[88]\tvalidation_0-mlogloss:0.01948\tvalidation_1-mlogloss:0.03916\n",
      "[89]\tvalidation_0-mlogloss:0.01882\tvalidation_1-mlogloss:0.03811\n",
      "[90]\tvalidation_0-mlogloss:0.01829\tvalidation_1-mlogloss:0.03705\n",
      "[91]\tvalidation_0-mlogloss:0.01787\tvalidation_1-mlogloss:0.03610\n",
      "[92]\tvalidation_0-mlogloss:0.01746\tvalidation_1-mlogloss:0.03530\n",
      "[93]\tvalidation_0-mlogloss:0.01706\tvalidation_1-mlogloss:0.03446\n",
      "[94]\tvalidation_0-mlogloss:0.01663\tvalidation_1-mlogloss:0.03363\n",
      "[95]\tvalidation_0-mlogloss:0.01613\tvalidation_1-mlogloss:0.03275\n",
      "[96]\tvalidation_0-mlogloss:0.01569\tvalidation_1-mlogloss:0.03188\n",
      "[97]\tvalidation_0-mlogloss:0.01524\tvalidation_1-mlogloss:0.03102\n",
      "[98]\tvalidation_0-mlogloss:0.01489\tvalidation_1-mlogloss:0.03028\n",
      "[99]\tvalidation_0-mlogloss:0.01444\tvalidation_1-mlogloss:0.02942\n",
      "Accuracy: 100.00%\n"
     ]
    }
   ],
   "source": [
    "model = XGBClassifier()\n",
    "eval_set = [(X3, y3), (X_test3, y_test)]\n",
    "model.fit(X3, y3,  eval_set=eval_set, verbose=1)\n",
    "# make predictions for test data\n",
    "predictions = model.predict(X_test3)\n",
    "# evaluate predictions\n",
    "accuracy = accuracy_score(y_test, predictions)\n",
    "print(\"Accuracy: %.2f%%\" % (accuracy * 100.0))"
   ]
  },
  {
   "cell_type": "code",
   "execution_count": null,
   "metadata": {},
   "outputs": [],
   "source": []
  },
  {
   "cell_type": "code",
   "execution_count": null,
   "metadata": {},
   "outputs": [],
   "source": []
  },
  {
   "cell_type": "code",
   "execution_count": null,
   "metadata": {},
   "outputs": [],
   "source": []
  },
  {
   "cell_type": "code",
   "execution_count": null,
   "metadata": {},
   "outputs": [],
   "source": []
  }
 ],
 "metadata": {
  "kernelspec": {
   "display_name": "Python 3 (ipykernel)",
   "language": "python",
   "name": "python3"
  },
  "language_info": {
   "codemirror_mode": {
    "name": "ipython",
    "version": 3
   },
   "file_extension": ".py",
   "mimetype": "text/x-python",
   "name": "python",
   "nbconvert_exporter": "python",
   "pygments_lexer": "ipython3",
   "version": "3.8.11"
  }
 },
 "nbformat": 4,
 "nbformat_minor": 4
}
